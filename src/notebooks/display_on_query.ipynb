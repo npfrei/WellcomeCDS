{
 "cells": [
  {
   "cell_type": "markdown",
   "id": "ebfe7c3f",
   "metadata": {},
   "source": [
    "# Display images from the collection base on object query"
   ]
  },
  {
   "cell_type": "markdown",
   "id": "22da60e1",
   "metadata": {},
   "source": [
    "The user places an object on the plinth, which triggers a word and topic query."
   ]
  },
  {
   "cell_type": "code",
   "execution_count": 1,
   "id": "9a353c7a",
   "metadata": {},
   "outputs": [],
   "source": [
    "import sys\n",
    "import os\n",
    "sys.path.append(os.path.abspath(\"../\"))\n",
    "from scripts.wellcome_utils import display_images_on_query \n",
    "from scripts.wellcome_utils import get_image_list_on_query"
   ]
  },
  {
   "cell_type": "code",
   "execution_count": 6,
   "id": "d491cfaa",
   "metadata": {},
   "outputs": [],
   "source": [
    "# Manually defined for now, TODO: automate (and randomize?)\n",
    "word = \"cow\"\n",
    "topics = [\"animal\", \"milk\", \"veterinary\", \"bull\", \"farm\", \"cowshed\", \"cowboy\"]"
   ]
  },
  {
   "cell_type": "code",
   "execution_count": 7,
   "id": "bd1162c5",
   "metadata": {},
   "outputs": [
    {
     "name": "stdout",
     "output_type": "stream",
     "text": [
      "Adult cow heart.\n"
     ]
    },
    {
     "data": {
      "text/html": [
       "<img src=\"https://iiif.wellcomecollection.org/image/A0001382/full/full/0/default.jpg\"/>"
      ],
      "text/plain": [
       "<IPython.core.display.Image object>"
      ]
     },
     "metadata": {},
     "output_type": "display_data"
    },
    {
     "name": "stdout",
     "output_type": "stream",
     "text": [
      "Friesian cow calving.\n"
     ]
    },
    {
     "data": {
      "text/html": [
       "<img src=\"https://iiif.wellcomecollection.org/image/A0000005/full/full/0/default.jpg\"/>"
      ],
      "text/plain": [
       "<IPython.core.display.Image object>"
      ]
     },
     "metadata": {},
     "output_type": "display_data"
    },
    {
     "name": "stdout",
     "output_type": "stream",
     "text": [
      "Friesian cow calving\n"
     ]
    },
    {
     "data": {
      "text/html": [
       "<img src=\"https://iiif.wellcomecollection.org/image/A0000002/full/full/0/default.jpg\"/>"
      ],
      "text/plain": [
       "<IPython.core.display.Image object>"
      ]
     },
     "metadata": {},
     "output_type": "display_data"
    },
    {
     "name": "stdout",
     "output_type": "stream",
     "text": [
      "How is animal research regulated? / Understanding Animal Research.\n"
     ]
    },
    {
     "data": {
      "text/html": [
       "<img src=\"https://iiif.wellcomecollection.org/image/b1821907x_0002.jp2/full/full/0/default.jpg\"/>"
      ],
      "text/plain": [
       "<IPython.core.display.Image object>"
      ]
     },
     "metadata": {},
     "output_type": "display_data"
    },
    {
     "name": "stdout",
     "output_type": "stream",
     "text": [
      "Hints for the manufacture of milk-chocolate, bitter milk-cocoa and sweet milk-cocoa.\n"
     ]
    },
    {
     "data": {
      "text/html": [
       "<img src=\"https://iiif.wellcomecollection.org/image/b16435163_0001.jp2/full/full/0/default.jpg\"/>"
      ],
      "text/plain": [
       "<IPython.core.display.Image object>"
      ]
     },
     "metadata": {},
     "output_type": "display_data"
    },
    {
     "name": "stdout",
     "output_type": "stream",
     "text": [
      "The veterinary record.\n"
     ]
    },
    {
     "data": {
      "text/html": [
       "<img src=\"https://iiif.wellcomecollection.org/image/L0000460/full/full/0/default.jpg\"/>"
      ],
      "text/plain": [
       "<IPython.core.display.Image object>"
      ]
     },
     "metadata": {},
     "output_type": "display_data"
    },
    {
     "name": "stdout",
     "output_type": "stream",
     "text": [
      "A bull. Coloured etching.\n"
     ]
    },
    {
     "data": {
      "text/html": [
       "<img src=\"https://iiif.wellcomecollection.org/image/V0021652/full/full/0/default.jpg\"/>"
      ],
      "text/plain": [
       "<IPython.core.display.Image object>"
      ]
     },
     "metadata": {},
     "output_type": "display_data"
    },
    {
     "name": "stdout",
     "output_type": "stream",
     "text": [
      "Helwan, Egypt; farm cultivation\n"
     ]
    },
    {
     "data": {
      "text/html": [
       "<img src=\"https://iiif.wellcomecollection.org/image/N0022535/full/full/0/default.jpg\"/>"
      ],
      "text/plain": [
       "<IPython.core.display.Image object>"
      ]
     },
     "metadata": {},
     "output_type": "display_data"
    },
    {
     "name": "stdout",
     "output_type": "stream",
     "text": [
      "A cowshed, Zanzibar. Photograph, 1905/1915.\n"
     ]
    },
    {
     "data": {
      "text/html": [
       "<img src=\"https://iiif.wellcomecollection.org/image/V0030434/full/full/0/default.jpg\"/>"
      ],
      "text/plain": [
       "<IPython.core.display.Image object>"
      ]
     },
     "metadata": {},
     "output_type": "display_data"
    },
    {
     "name": "stdout",
     "output_type": "stream",
     "text": [
      "Three young men, two in drag, posing in cowboy costumes.\n"
     ]
    },
    {
     "data": {
      "text/html": [
       "<img src=\"https://iiif.wellcomecollection.org/image/B20445350_0002.JP2/full/full/0/default.jpg\"/>"
      ],
      "text/plain": [
       "<IPython.core.display.Image object>"
      ]
     },
     "metadata": {},
     "output_type": "display_data"
    }
   ],
   "source": [
    "display_images_on_query(word, nb_imgs=3)\n",
    "for topic in topics:\n",
    "    display_images_on_query(topic, nb_imgs=1)"
   ]
  },
  {
   "cell_type": "code",
   "execution_count": 2,
   "id": "d3c1475b",
   "metadata": {},
   "outputs": [
    {
     "name": "stderr",
     "output_type": "stream",
     "text": [
      "c:\\Users\\frein\\anaconda3\\Lib\\site-packages\\dash_bootstrap_components\\_table.py:5: UserWarning: \n",
      "The dash_html_components package is deprecated. Please replace\n",
      "`import dash_html_components as html` with `from dash import html`\n",
      "  import dash_html_components as html\n"
     ]
    }
   ],
   "source": [
    "#TODO: display images on \"intersection query\"\n",
    "import networkx as nx\n",
    "from scripts.images_occurences import get_Graph, display_Graph\n",
    "\n",
    "\n",
    "def displayIntersection(word1 : str, word2 : str,G, topic1 = [], topic2 = [], nb_imgs = 3 ):\n",
    "    \n",
    "    shortestPaths = dict(nx.all_pairs_shortest_path(G,2))\n",
    "\n",
    "    if(G.has_edge(word1,word2)):\n",
    "        display_images_on_query(word1 + \" \" + word2, nb_imgs=nb_imgs)\n",
    "        \n",
    "    elif(G.nodes.get(word1) != None and shortestPaths.get(word1).get(word2) != None):\n",
    "        display_images_on_query(word1 + \" \" + shortestPaths.get(word1).get(word2)[1], nb_imgs=nb_imgs)\n",
    "        display_images_on_query(word2 + \" \" + shortestPaths.get(word1).get(word2)[1], nb_imgs=nb_imgs)\n",
    "        \n",
    "        \n",
    "        \n",
    "        \n"
   ]
  },
  {
   "cell_type": "code",
   "execution_count": 27,
   "id": "17c14bca",
   "metadata": {},
   "outputs": [
    {
     "name": "stderr",
     "output_type": "stream",
     "text": [
      "[nltk_data] Downloading package punkt_tab to\n",
      "[nltk_data]     C:\\Users\\frein\\AppData\\Roaming\\nltk_data...\n",
      "[nltk_data]   Package punkt_tab is already up-to-date!\n",
      "[nltk_data] Downloading package stopwords to\n",
      "[nltk_data]     C:\\Users\\frein\\AppData\\Roaming\\nltk_data...\n",
      "[nltk_data]   Package stopwords is already up-to-date!\n"
     ]
    },
    {
     "name": "stdout",
     "output_type": "stream",
     "text": [
      "Woodcuts\n",
      "Anatomical fugitive sheets\n",
      "Wood engravings\n",
      "Posters\n",
      "Photomechanical prints\n",
      "Caricatures\n",
      "Aquatints\n",
      "Gouaches\n",
      "Intaglio prints\n",
      "Lithographs\n",
      "Portrait prints\n",
      "Biographies\n",
      "Oil paintings\n",
      "Collotypes\n",
      "Ephemera\n",
      "Engravings\n",
      "Etchings\n",
      "Book\n",
      "Drawings\n",
      "Albumen prints\n",
      "Book illustrations\n",
      "Portrait photographs\n",
      "Humorous pictures\n",
      "Almanacs\n",
      "Engraving\n",
      "Photographs\n",
      "Pencil works\n",
      "Photographic prints\n",
      "Wash drawings\n",
      "Leaflets\n",
      "Genre photographs\n",
      "Allegorical prints\n",
      "Watercolors\n",
      "Manuscript\n",
      "Chromolithographs\n",
      "Allegorical drawings\n",
      "Art brut\n",
      "Stipple engravings\n",
      "Gelatin silver prints\n",
      "Illustrated works\n",
      "Periodical illustrations\n",
      "Portrait paintings\n",
      "Soft-ground etchings\n",
      "Certificates\n",
      "Periodicals\n",
      "Photographic postcards\n",
      "Wet collodion negatives\n",
      "Incunabula\n",
      "Woodcuts - Japan\n",
      "Museum object\n",
      "Mezzotints\n",
      "Archives\n",
      "Holograph letter\n",
      "Travel sketches\n",
      "Letter\n",
      "Photogravures\n",
      "Blotting paper\n",
      "Landscape photographs\n",
      "Steel engravings\n",
      "Vanitas (Art)\n",
      "Sketches\n",
      "Postcards\n",
      "Still lifes\n",
      "Memento mori\n",
      "Photoengravings\n",
      "Cityscape photographs\n",
      "Ink drawings\n",
      "Academic dissertations - Scotland - Edinburgh\n",
      "Travel literature\n",
      "Bird's-eye views\n",
      "Glass negatives\n",
      "Platinum prints\n",
      "Portrait drawings\n",
      "Trial proceedings\n",
      "Title pages\n",
      "Pamphlets\n",
      "Halftone photomechanical prints\n",
      "Letter pictures\n",
      "Membership lists\n",
      "Votive offerings\n",
      "Icons\n",
      "Photograph albums\n",
      "Waterscape photographs\n",
      "Oil sketches\n",
      "Waterscape prints\n",
      "Periodical\n",
      "Sandals\n",
      "Screen prints\n",
      "Manufacturers' catalogues\n",
      "Museum catalogues\n",
      "Broadsheet\n",
      "Icons, Russian\n",
      "Cityscape prints\n",
      "Bibliographies\n",
      "Ironwork\n",
      "Panoramic views\n",
      "Tankas (Tibetan scrolls)\n",
      "Magazine covers\n",
      "Clippings\n",
      "Group portraits\n",
      "Painting, Kalighat\n",
      "Landscape prints\n",
      "Collected works\n",
      "Papier-m�ch�\n",
      "Floor plans\n",
      "Pamphlet\n",
      "Manuscripts\n",
      "Statistics\n",
      "Cartoons (Working drawings)\n",
      "Labels\n",
      "Chalk drawings\n",
      "Memoirs\n",
      "Tempera paintings\n",
      "Cartes de visite\n",
      "Advertisements\n",
      "Allegorical paintings\n",
      "Singerie (Art)\n",
      "Academic dissertations\n",
      "Erotica\n",
      "Closet doors\n",
      "Distemper painting\n",
      "Electronic journals\n",
      "Exhibition posters\n",
      "Graphite drawings\n",
      "Menus\n",
      "Figure drawings\n",
      "Broadsides\n",
      "Line photoengravings\n",
      "Letterpress works\n",
      "Photolithographs\n",
      "Metal sculpture\n",
      "Goigs\n",
      "Postcard\n",
      "Atlases (Scientific)\n",
      "Portrait sculpture\n",
      "Ivory carving\n",
      "Exploration literature\n",
      "Poems\n",
      "Bird's-eye view prints\n",
      "Print\n",
      "Landscape drawings\n",
      "Prints\n",
      "Calendars\n",
      "Painting\n",
      "Collected correspondence\n",
      "Editorial cartoons\n",
      "Collages\n",
      "Crayon manner prints\n",
      "Self-portraits\n",
      "Programs\n",
      "Festschriften\n",
      "Catalogue\n",
      "Charts\n",
      "Trade cards\n",
      "Postal stationery\n",
      "Bronze sculpture\n",
      "Albums\n",
      "Relief prints\n",
      "Badges\n",
      "Case studies\n",
      "Inscriptions\n",
      "Photocopies\n",
      "Charcoal drawings\n",
      "Frontispieces\n",
      "Trade catalogues\n",
      "Manuscripts - Chinese\n",
      "Window cards\n",
      "Song sheet\n",
      "Herbals\n",
      "Boxes\n",
      "Wood sculpture\n",
      "Lectures\n",
      "Stereographs\n",
      "Scrapbooks\n",
      "Satires (Visual works)\n",
      "Narratives\n",
      "Conference proceedings\n",
      "Pastels (Visual works)\n",
      "Anatomical atlases\n",
      "Pharmacopoeias\n",
      "Bookplates\n",
      "Still life photographs\n",
      "Annual reports\n",
      "Crayon drawings\n",
      "Portraits\n",
      "Advertising cards\n",
      "Design drawings\n",
      "Acrylic paintings\n",
      "Maps\n",
      "Diagrams\n",
      "Pictorial envelopes\n",
      "Forms (Documents)\n",
      "Paintings\n",
      "Indexes\n",
      "Daguerreotypes\n",
      "Trade card\n",
      "Illustrations\n",
      "Proclamations\n",
      "Letters\n",
      "Catalogues\n",
      "Unfinished works of art\n",
      "Cut-paper works\n",
      "Stationery\n",
      "Album\n",
      "Armorial bindings\n",
      "Letterheads\n",
      "Rubbings\n",
      "Patents\n",
      "Cityscape drawings\n",
      "Teaching Materials\n",
      "Icons, Greek\n",
      "{'design drawing', 'self-portrait', 'portrait', 'biographie', 'allegorical print', 'cartes de visite', 'proclamation', 'travel literature', 'platinum print', 'vanitas (art)', 'drawing', 'erotica', 'ephemera', 'art brut', 'floor plan', 'festschriften', 'genre photograph', 'still life photograph', 'teaching material', 'photographic postcard', 'portrait drawing', 'woodcut', 'wood engraving', 'soft-ground etching', 'oil sketche', 'poster', 'group portrait', 'title page', 'letter', 'broadside', 'boxe', 'anatomical atlase', 'photogravure', 'charcoal drawing', 'collotype', 'unfinished works of art', 'collage', 'pharmacopoeia', 'editorial cartoon', 'exhibition poster', 'ink drawing', 'trade card', 'museum object', 'badge', 'landscape drawing', 'graphite drawing', 'certificate', 'tempera painting', 'daguerreotype', 'collected work', 'illustrated work', 'blotting paper', 'collected correspondence', 'conference proceeding', 'memento mori', 'leaflet', 'votive offering', 'glass negative', 'trial proceeding', 'label', 'postcard', 'photographic print', 'cartoons (working drawings)', 'inscription', 'pamphlet', 'manuscripts - chinese', 'portrait photograph', 'holograph letter', 'goig', 'landscape photograph', 'portrait sculpture', 'atlases (scientific)', 'anatomical fugitive sheet', 'chalk drawing', 'closet door', 'caricature', 'metal sculpture', 'bronze sculpture', 'letterhead', 'periodical illustration', 'wash drawing', 'chromolithograph', 'photograph album', 'cut-paper work', 'portrait print', \"bird's-eye view print\", 'book', 'window card', 'sketche', 'photocopie', 'scrapbook', 'forms (documents)', 'halftone photomechanical print', 'pencil work', 'menu', 'waterscape photograph', 'line photoengraving', 'ivory carving', 'watercolor', 'stipple engraving', 'ironwork', 'cityscape photograph', 'tankas (tibetan scrolls)', 'bookplate', 'armorial binding', 'woodcuts - japan', 'gelatin silver print', 'membership list', 'wet collodion negative', 'waterscape print', 'screen print', 'exploration literature', 'distemper painting', 'cityscape drawing', 'etching', 'allegorical painting', 'painting', 'aquatint', 'frontispiece', 'lecture', 'photolithograph', 'albumen print', 'poem', 'crayon manner print', 'album', 'relief print', 'narrative', 'icons, greek', 'photomechanical print', 'postal stationery', 'gouache', 'photograph', 'photoengraving', 'patent', 'stereograph', 'sandal', 'pastels (visual works)', 'engraving', 'diagram', 'lithograph', 'icon', 'figure drawing', 'electronic journal', 'landscape print', 'icons, russian', 'papier-m�ch�', 'wood sculpture', 'allegorical drawing', 'satires (visual works)', 'periodical', 'memoir', 'crayon drawing', 'annual report', 'incunabula', 'academic dissertations - scotland - edinburgh', 'letter picture', 'intaglio print', \"bird's-eye view\", 'trade catalogue', 'book illustration', 'painting, kalighat', 'illustration', 'academic dissertation', 'statistic', 'herbal', 'pictorial envelope', 'clipping', \"manufacturers' catalogue\", 'oil painting', 'magazine cover', 'letterpress work', 'museum catalogue', 'chart', 'archive', 'advertisement', 'indexe', 'mezzotint', 'acrylic painting', 'still life', 'cityscape print', 'rubbing', 'steel engraving', 'almanac', 'broadsheet', 'map', 'travel sketche', 'manuscript', 'bibliographie', 'calendar', 'stationery', 'portrait painting', 'advertising card', 'singerie (art)', 'humorous picture', 'program', 'panoramic view', 'case studie', 'song sheet', 'print', 'catalogue'}\n",
      "a\n",
      "a\n",
      "a\n",
      "a\n",
      "a\n",
      "a\n",
      "a\n",
      "a\n",
      "a\n",
      "a\n",
      "a\n",
      "a\n",
      "a\n",
      "a\n",
      "a\n",
      "a\n",
      "a\n",
      "a\n",
      "a\n",
      "a\n",
      "a\n",
      "a\n",
      "a\n",
      "a\n",
      "a\n",
      "a\n",
      "a\n",
      "a\n",
      "a\n",
      "a\n",
      "a\n",
      "a\n",
      "a\n",
      "a\n",
      "a\n",
      "a\n",
      "a\n",
      "a\n",
      "a\n",
      "a\n",
      "a\n",
      "a\n",
      "a\n",
      "a\n",
      "a\n",
      "a\n",
      "a\n",
      "a\n",
      "a\n",
      "a\n",
      "a\n",
      "a\n",
      "a\n",
      "a\n",
      "a\n",
      "a\n",
      "a\n",
      "a\n",
      "a\n",
      "a\n",
      "a\n",
      "a\n",
      "a\n",
      "a\n",
      "a\n",
      "a\n",
      "a\n",
      "a\n",
      "a\n",
      "a\n",
      "a\n",
      "a\n",
      "a\n",
      "a\n",
      "a\n",
      "a\n",
      "a\n",
      "a\n",
      "a\n",
      "a\n",
      "a\n",
      "a\n",
      "a\n",
      "a\n",
      "a\n",
      "a\n",
      "a\n",
      "a\n",
      "a\n",
      "a\n",
      "a\n",
      "a\n",
      "a\n",
      "a\n",
      "a\n",
      "a\n",
      "a\n",
      "a\n",
      "a\n",
      "a\n",
      "Parsing the data...Done\n"
     ]
    },
    {
     "data": {
      "text/html": [
       "\n",
       "        <iframe\n",
       "            width=\"100%\"\n",
       "            height=\"650\"\n",
       "            src=\"http://127.0.0.1:8050/\"\n",
       "            frameborder=\"0\"\n",
       "            allowfullscreen\n",
       "            \n",
       "        ></iframe>\n",
       "        "
      ],
      "text/plain": [
       "<IPython.lib.display.IFrame at 0x1c812e8a240>"
      ]
     },
     "metadata": {},
     "output_type": "display_data"
    }
   ],
   "source": [
    "G = get_Graph()\n",
    "display_Graph(G)"
   ]
  },
  {
   "cell_type": "code",
   "execution_count": null,
   "id": "6ebcabba",
   "metadata": {},
   "outputs": [
    {
     "name": "stdout",
     "output_type": "stream",
     "text": [
      "Two world globes advertising World AIDS day. Colour lithograph.\n",
      "https://iiif.wellcomecollection.org/image/b16668601_l0052269.jp2/info.json\n"
     ]
    },
    {
     "data": {
      "text/html": [
       "<img src=\"https://iiif.wellcomecollection.org/image/b16668601_l0052269.jp2/full/full/0/default.jpg\"/>"
      ],
      "text/plain": [
       "<IPython.core.display.Image object>"
      ]
     },
     "metadata": {},
     "output_type": "display_data"
    },
    {
     "name": "stdout",
     "output_type": "stream",
     "text": [
      "Two male gay couples and two heterosexual couples embrace representing safe sex and AIDS; advertisment about information on HIV/AIDS by the San Francisco AIDS Foundation. Lithograph by Warwick May.\n",
      "https://iiif.wellcomecollection.org/image/b1667568x_l0052142.jp2/info.json\n"
     ]
    },
    {
     "data": {
      "text/html": [
       "<img src=\"https://iiif.wellcomecollection.org/image/b1667568x_l0052142.jp2/full/full/0/default.jpg\"/>"
      ],
      "text/plain": [
       "<IPython.core.display.Image object>"
      ]
     },
     "metadata": {},
     "output_type": "display_data"
    },
    {
     "name": "stdout",
     "output_type": "stream",
     "text": [
      "Two men in vests embrace; advertisement for the Stop AIDS Project. Lithograph.\n",
      "https://iiif.wellcomecollection.org/image/b16674741_l0052125.jp2/info.json\n"
     ]
    },
    {
     "data": {
      "text/html": [
       "<img src=\"https://iiif.wellcomecollection.org/image/b16674741_l0052125.jp2/full/full/0/default.jpg\"/>"
      ],
      "text/plain": [
       "<IPython.core.display.Image object>"
      ]
     },
     "metadata": {},
     "output_type": "display_data"
    },
    {
     "name": "stdout",
     "output_type": "stream",
     "text": [
      "Nerves and muscles of the legs: two figures. Lithograph by N.H Jacob, 1831/1854.\n",
      "https://iiif.wellcomecollection.org/image/V0008444/info.json\n"
     ]
    },
    {
     "data": {
      "text/html": [
       "<img src=\"https://iiif.wellcomecollection.org/image/V0008444/full/full/0/default.jpg\"/>"
      ],
      "text/plain": [
       "<IPython.core.display.Image object>"
      ]
     },
     "metadata": {},
     "output_type": "display_data"
    },
    {
     "name": "stdout",
     "output_type": "stream",
     "text": [
      "Dissection of muscles and blood-vessels of the upper arm: two figures. Coloured lithograph by J. Maclise, 1851.\n",
      "https://iiif.wellcomecollection.org/image/V0008532/info.json\n"
     ]
    },
    {
     "data": {
      "text/html": [
       "<img src=\"https://iiif.wellcomecollection.org/image/V0008532/full/full/0/default.jpg\"/>"
      ],
      "text/plain": [
       "<IPython.core.display.Image object>"
      ]
     },
     "metadata": {},
     "output_type": "display_data"
    },
    {
     "name": "stdout",
     "output_type": "stream",
     "text": [
      "Bones and muscles of the head and neck: two écorché figures. Pen and ink, by C. Landseer, ca. 1815.\n",
      "https://iiif.wellcomecollection.org/image/V0008250EL/info.json\n"
     ]
    },
    {
     "data": {
      "text/html": [
       "<img src=\"https://iiif.wellcomecollection.org/image/V0008250EL/full/full/0/default.jpg\"/>"
      ],
      "text/plain": [
       "<IPython.core.display.Image object>"
      ]
     },
     "metadata": {},
     "output_type": "display_data"
    }
   ],
   "source": [
    "displayIntersection(\"aids\", \"muscles\" , G = G)"
   ]
  },
  {
   "cell_type": "code",
   "execution_count": 48,
   "id": "28720dbd",
   "metadata": {},
   "outputs": [],
   "source": [
    "import json\n",
    "def get_json_graph_to_display(words: list[str], G2, nb_img_per_query=5):\n",
    "    query = \"\"\n",
    "    imageList = []\n",
    "    roots = []\n",
    "    G = nx.Graph() \n",
    "    if (len(words ) == 1):\n",
    "        query = words[0]\n",
    "        imageList = get_image_list_on_query(query, nb_img_per_query)\n",
    "        roots.append(dict({\"node\" : query, \"children\":imageList}))\n",
    "            \n",
    "    elif(len(words)==2):\n",
    "        query = words[0] \n",
    "        imageList = get_image_list_on_query(query, nb_img_per_query)\n",
    "        roots.append(dict({\"node\" : query, \"children\":imageList}))\n",
    "        query = words[1]\n",
    "        imageList = get_image_list_on_query(query, nb_img_per_query)\n",
    "        roots.append(dict({\"node\" : query, \"children\":imageList}))\n",
    "        shortestPaths = dict(nx.all_pairs_shortest_path(G2,2))\n",
    "        word1 = words[0]\n",
    "        word2 = words[1]\n",
    "        if(G2.has_edge(word1,word2)):\n",
    "            query = word1 + \" \" + word2\n",
    "            imageList = get_image_list_on_query(query, nb_imgs=nb_img_per_query)\n",
    "            roots.append(dict({\"node\" : query, \"children\":imageList}))\n",
    "        elif(G2.nodes.get(word1) != None and shortestPaths.get(word1).get(word2) != None):\n",
    "            query = word1 + \" \" + shortestPaths.get(word1).get(word2)[1]\n",
    "            imageList = get_image_list_on_query(query , nb_imgs=nb_img_per_query)\n",
    "            roots.append(dict({\"node\" : query, \"children\":imageList}))\n",
    "            query = word2 + \" \" + shortestPaths.get(word1).get(word2)[1]    \n",
    "            imageList = get_image_list_on_query(query, nb_imgs=nb_img_per_query)\n",
    "            roots.append(dict({\"node\" : query, \"children\":imageList}))\n",
    "    final = dict({\"node\": \"root\", \"children\":roots})        \n",
    "    return final\n",
    "def get_graph_to_display(words: list[str],G2, nb_img_per_query=5):\n",
    "    query = \"\"\n",
    "    imageList = []\n",
    "    \n",
    "    if (len(words ) == 1):\n",
    "        query = words[0]\n",
    "        imageList = get_image_list_on_query(query, nb_img_per_query)\n",
    "        for image in imageList :\n",
    "            G.add_edge(query, image.get(\"url\"),weight =  1)   \n",
    "    elif(len(words)==2):\n",
    "        query = words[0] \n",
    "        imageList = get_image_list_on_query(query, nb_img_per_query)\n",
    "        for image in imageList :\n",
    "            G.add_edge(query, image.get(\"url\"),weight =  1)\n",
    "        query = words[1]\n",
    "        imageList = get_image_list_on_query(query, nb_img_per_query)\n",
    "        for image in imageList :\n",
    "            G.add_edge(query, image.get(\"url\"),weight =  1)\n",
    "        shortestPaths = dict(nx.all_pairs_shortest_path(G2,2))\n",
    "        word1 = words[0]\n",
    "        word2 = words[1]\n",
    "        if(G2.has_edge(word1,word2)):\n",
    "            query = word1 + \" \" + word2\n",
    "            imageList = get_image_list_on_query(query, nb_imgs=nb_img_per_query)\n",
    "            for image in imageList :\n",
    "                G.add_edge(query, image.get(\"url\"),weight =  1)\n",
    "        elif(G2.nodes.get(word1) != None and shortestPaths.get(word1).get(word2) != None):\n",
    "            query = word1 + \" \" + shortestPaths.get(word1).get(word2)[1]\n",
    "            imageList = get_image_list_on_query(query , nb_imgs=nb_img_per_query)\n",
    "            for image in imageList :\n",
    "                G.add_edge(query, image.get(\"url\"),weight =  1)\n",
    "            query = word2 + \" \" + shortestPaths.get(word1).get(word2)[1]    \n",
    "            imageList = get_image_list_on_query(query, nb_imgs=nb_img_per_query)\n",
    "            for image in imageList :\n",
    "                G.add_edge(query, image.get(\"url\"),weight =  1)\n",
    "    return G\n",
    "def write_to_json(file, graph):\n",
    "    stream = json.dumps(graph)\n",
    "    with open(\"../../data/\"+file, \"w\") as outfile:\n",
    "        outfile.write(stream)\n",
    "    \n",
    "    \n",
    "     "
   ]
  },
  {
   "cell_type": "code",
   "execution_count": null,
   "id": "05256497",
   "metadata": {},
   "outputs": [
    {
     "name": "stdout",
     "output_type": "stream",
     "text": [
      "[{'url': 'https://iiif.wellcomecollection.org/image/L0045140/full/full/0/default.jpg', 'id': 'h8pkyatn'}, {'url': 'https://iiif.wellcomecollection.org/image/L0045139/full/full/0/default.jpg', 'id': 'ws27bwn3'}, {'url': 'https://iiif.wellcomecollection.org/image/N0038249/full/full/0/default.jpg', 'id': 'dx2x3jtx'}, {'url': 'https://iiif.wellcomecollection.org/image/N0038251/full/full/0/default.jpg', 'id': 'hr4g4fxh'}, {'url': 'https://iiif.wellcomecollection.org/image/N0038252/full/full/0/default.jpg', 'id': 'ht29jkh6'}]\n",
      "{'node': 'root', 'children': [{'node': 'aids', 'children': [{'url': 'https://iiif.wellcomecollection.org/image/L0045140/full/full/0/default.jpg', 'id': 'h8pkyatn'}, {'url': 'https://iiif.wellcomecollection.org/image/L0045139/full/full/0/default.jpg', 'id': 'ws27bwn3'}, {'url': 'https://iiif.wellcomecollection.org/image/N0038249/full/full/0/default.jpg', 'id': 'dx2x3jtx'}, {'url': 'https://iiif.wellcomecollection.org/image/N0038251/full/full/0/default.jpg', 'id': 'hr4g4fxh'}, {'url': 'https://iiif.wellcomecollection.org/image/N0038252/full/full/0/default.jpg', 'id': 'ht29jkh6'}]}, {'node': 'man', 'children': [{'url': 'https://iiif.wellcomecollection.org/image/V0041396/full/full/0/default.jpg', 'id': 'qcwn753e'}, {'url': 'https://iiif.wellcomecollection.org/image/L0029507/full/full/0/default.jpg', 'id': 'bw87xqcr'}, {'url': 'https://iiif.wellcomecollection.org/image/B0007418/full/full/0/default.jpg', 'id': 't5prcd5r'}, {'url': 'https://iiif.wellcomecollection.org/image/V0015960/full/full/0/default.jpg', 'id': 'jb27paje'}, {'url': 'https://iiif.wellcomecollection.org/image/V0017170/full/full/0/default.jpg', 'id': 'wyj23rz3'}]}, {'node': 'aids man', 'children': [{'url': 'https://iiif.wellcomecollection.org/image/b16783499_l0054785.jp2/full/full/0/default.jpg', 'id': 'kzz4bccs'}, {'url': 'https://iiif.wellcomecollection.org/image/b16765722_l0054355.jp2/full/full/0/default.jpg', 'id': 'd5u7c34v'}, {'url': 'https://iiif.wellcomecollection.org/image/b28672951_0001.jp2/full/full/0/default.jpg', 'id': 'erxnqstt'}, {'url': 'https://iiif.wellcomecollection.org/image/b28672951_0002.jp2/full/full/0/default.jpg', 'id': 'exhy792h'}, {'url': 'https://iiif.wellcomecollection.org/image/b16783487_l0054784.jp2/full/full/0/default.jpg', 'id': 'mufbhjb3'}]}]}\n"
     ]
    }
   ],
   "source": [
    "import json\n",
    "j = get_json_graph_to_display([\"aids\", \"man\"], G)\n",
    "write_to_json(\"aidsman.json\", j)\n",
    "  "
   ]
  },
  {
   "cell_type": "code",
   "execution_count": 29,
   "id": "0fb84d73",
   "metadata": {},
   "outputs": [
    {
     "name": "stdout",
     "output_type": "stream",
     "text": [
      "Parsing the data...Done\n"
     ]
    },
    {
     "data": {
      "text/html": [
       "\n",
       "        <iframe\n",
       "            width=\"100%\"\n",
       "            height=\"650\"\n",
       "            src=\"http://127.0.0.1:8050/\"\n",
       "            frameborder=\"0\"\n",
       "            allowfullscreen\n",
       "            \n",
       "        ></iframe>\n",
       "        "
      ],
      "text/plain": [
       "<IPython.lib.display.IFrame at 0x1c8118458b0>"
      ]
     },
     "metadata": {},
     "output_type": "display_data"
    },
    {
     "name": "stdout",
     "output_type": "stream",
     "text": [
      "No trigger\n"
     ]
    }
   ],
   "source": [
    "G_img = get_graph_to_display([\"aids\", \"muscles\"], G)\n",
    "display_Graph(G_img)"
   ]
  },
  {
   "cell_type": "code",
   "execution_count": 30,
   "id": "addbd09b",
   "metadata": {},
   "outputs": [
    {
     "name": "stdout",
     "output_type": "stream",
     "text": [
      "Parsing the data...Done\n"
     ]
    },
    {
     "data": {
      "text/html": [
       "\n",
       "        <iframe\n",
       "            width=\"100%\"\n",
       "            height=\"650\"\n",
       "            src=\"http://127.0.0.1:8050/\"\n",
       "            frameborder=\"0\"\n",
       "            allowfullscreen\n",
       "            \n",
       "        ></iframe>\n",
       "        "
      ],
      "text/plain": [
       "<IPython.lib.display.IFrame at 0x1c817c3a420>"
      ]
     },
     "metadata": {},
     "output_type": "display_data"
    },
    {
     "name": "stdout",
     "output_type": "stream",
     "text": [
      "No trigger\n"
     ]
    }
   ],
   "source": [
    "G_img = get_graph_to_display([\"aids\"], G)\n",
    "display_Graph(G_img)"
   ]
  },
  {
   "cell_type": "markdown",
   "id": "747326d6",
   "metadata": {},
   "source": []
  }
 ],
 "metadata": {
  "kernelspec": {
   "display_name": "base",
   "language": "python",
   "name": "python3"
  },
  "language_info": {
   "codemirror_mode": {
    "name": "ipython",
    "version": 3
   },
   "file_extension": ".py",
   "mimetype": "text/x-python",
   "name": "python",
   "nbconvert_exporter": "python",
   "pygments_lexer": "ipython3",
   "version": "3.12.7"
  }
 },
 "nbformat": 4,
 "nbformat_minor": 5
}
