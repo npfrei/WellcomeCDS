{
 "cells": [
  {
   "cell_type": "markdown",
   "id": "ebfe7c3f",
   "metadata": {},
   "source": [
    "# Display images from the collection base on object query"
   ]
  },
  {
   "cell_type": "markdown",
   "id": "22da60e1",
   "metadata": {},
   "source": [
    "The user places an object on the plinth, which triggers a word and topic query."
   ]
  },
  {
   "cell_type": "code",
   "execution_count": 1,
   "id": "9a353c7a",
   "metadata": {},
   "outputs": [],
   "source": [
    "import sys\n",
    "import os\n",
    "sys.path.append(os.path.abspath(\"../\"))\n",
    "from scripts.wellcome_utils import display_images_on_query \n",
    "from scripts.wellcome_utils import get_image_list_on_query"
   ]
  },
  {
   "cell_type": "code",
   "execution_count": 2,
   "id": "d491cfaa",
   "metadata": {},
   "outputs": [],
   "source": [
    "# Manually defined for now, TODO: automate (and randomize?)\n",
    "word = \"aids\"\n",
    "topics = [\"hiv\", \"std\", \"sti\"]"
   ]
  },
  {
   "cell_type": "code",
   "execution_count": 3,
   "id": "bd1162c5",
   "metadata": {},
   "outputs": [
    {
     "name": "stdout",
     "output_type": "stream",
     "text": [
      "[Green Farm Summer catalogue of \"special herb combinations ... dynamic aids to nutrition and healing.\"].\n",
      "https://iiif.wellcomecollection.org/image/b28515912_0006.jp2/info.json\n"
     ]
    },
    {
     "data": {
      "text/html": [
       "<img src=\"https://iiif.wellcomecollection.org/image/b28515912_0006.jp2/full/full/0/default.jpg\"/>"
      ],
      "text/plain": [
       "<IPython.core.display.Image object>"
      ]
     },
     "metadata": {},
     "output_type": "display_data"
    },
    {
     "name": "stdout",
     "output_type": "stream",
     "text": [
      "WAD '93 : events 1 : World AIDS Day events October 1993 / Health Education Authority, National AIDS Trust, World AIDS Day.\n",
      "https://iiif.wellcomecollection.org/image/b2867070x_0005.jp2/info.json\n"
     ]
    },
    {
     "data": {
      "text/html": [
       "<img src=\"https://iiif.wellcomecollection.org/image/b2867070x_0005.jp2/full/full/0/default.jpg\"/>"
      ],
      "text/plain": [
       "<IPython.core.display.Image object>"
      ]
     },
     "metadata": {},
     "output_type": "display_data"
    },
    {
     "name": "stdout",
     "output_type": "stream",
     "text": [
      "AIDS Nova Scotia and the Nova Scotia Persons With AIDS Coalition.\n",
      "https://iiif.wellcomecollection.org/image/b28671107_0006.jp2/info.json\n"
     ]
    },
    {
     "data": {
      "text/html": [
       "<img src=\"https://iiif.wellcomecollection.org/image/b28671107_0006.jp2/full/full/0/default.jpg\"/>"
      ],
      "text/plain": [
       "<IPython.core.display.Image object>"
      ]
     },
     "metadata": {},
     "output_type": "display_data"
    },
    {
     "name": "stdout",
     "output_type": "stream",
     "text": [
      "World AIDS Day 1st December / World AIDS Day Project, National AIDS Trust, Health Education Authority.\n",
      "https://iiif.wellcomecollection.org/image/b28670887_0002.jp2/info.json\n"
     ]
    },
    {
     "data": {
      "text/html": [
       "<img src=\"https://iiif.wellcomecollection.org/image/b28670887_0002.jp2/full/full/0/default.jpg\"/>"
      ],
      "text/plain": [
       "<IPython.core.display.Image object>"
      ]
     },
     "metadata": {},
     "output_type": "display_data"
    },
    {
     "name": "stdout",
     "output_type": "stream",
     "text": [
      "When a friend has AIDS... / Catholic AIDS Link.\n",
      "https://iiif.wellcomecollection.org/image/b28672252_0003.jp2/info.json\n"
     ]
    },
    {
     "data": {
      "text/html": [
       "<img src=\"https://iiif.wellcomecollection.org/image/b28672252_0003.jp2/full/full/0/default.jpg\"/>"
      ],
      "text/plain": [
       "<IPython.core.display.Image object>"
      ]
     },
     "metadata": {},
     "output_type": "display_data"
    },
    {
     "name": "stdout",
     "output_type": "stream",
     "text": [
      "The statement 'Combat AIDS not people with AIDS' with a list of associations receiving donations for people with HIV and AIDS including Association Lebensfreude People and AIDS Association (Club Plus), Z 665-102-406; AIDS-Hilfe Vienna AIDS / HIV Unit; an advertisement by the action group Act Up Vienna. Colour lithograph.\n",
      "https://iiif.wellcomecollection.org/image/b16750974_l0053888.jp2/info.json\n"
     ]
    },
    {
     "data": {
      "text/html": [
       "<img src=\"https://iiif.wellcomecollection.org/image/b16750974_l0053888.jp2/full/full/0/default.jpg\"/>"
      ],
      "text/plain": [
       "<IPython.core.display.Image object>"
      ]
     },
     "metadata": {},
     "output_type": "display_data"
    },
    {
     "name": "stdout",
     "output_type": "stream",
     "text": [
      "The HIV antibody test : yes or no / Islington Council HIV Unit.\n",
      "https://iiif.wellcomecollection.org/image/b28661059_0005.jp2/info.json\n"
     ]
    },
    {
     "data": {
      "text/html": [
       "<img src=\"https://iiif.wellcomecollection.org/image/b28661059_0005.jp2/full/full/0/default.jpg\"/>"
      ],
      "text/plain": [
       "<IPython.core.display.Image object>"
      ]
     },
     "metadata": {},
     "output_type": "display_data"
    },
    {
     "name": "stdout",
     "output_type": "stream",
     "text": [
      "Good sex: healthy sex : what everyone should know about STDs / Durex Information Service for Sexual Health, LRC Products Ltd.\n",
      "https://iiif.wellcomecollection.org/image/b28663548_0004.jp2/info.json\n"
     ]
    },
    {
     "data": {
      "text/html": [
       "<img src=\"https://iiif.wellcomecollection.org/image/b28663548_0004.jp2/full/full/0/default.jpg\"/>"
      ],
      "text/plain": [
       "<IPython.core.display.Image object>"
      ]
     },
     "metadata": {},
     "output_type": "display_data"
    },
    {
     "name": "stdout",
     "output_type": "stream",
     "text": [
      "HIV assembly and budding, HIV viral life cycle, illustration\n",
      "https://iiif.wellcomecollection.org/image/B0010024/info.json\n"
     ]
    },
    {
     "data": {
      "text/html": [
       "<img src=\"https://iiif.wellcomecollection.org/image/B0010024/full/full/0/default.jpg\"/>"
      ],
      "text/plain": [
       "<IPython.core.display.Image object>"
      ]
     },
     "metadata": {},
     "output_type": "display_data"
    }
   ],
   "source": [
    "display_images_on_query(word, nb_imgs=6)\n",
    "for topic in topics:\n",
    "    display_images_on_query(topic, nb_imgs=1)"
   ]
  },
  {
   "cell_type": "code",
   "execution_count": 9,
   "id": "d3c1475b",
   "metadata": {},
   "outputs": [],
   "source": [
    "#TODO: display images on \"intersection query\"\n",
    "import networkx as nx\n",
    "from scripts.images_occurences import get_Graph, display_Graph\n",
    "    \n",
    "\n",
    "def displayIntersection(word1 : str, word2 : str,G, topic1 = [], topic2 = [], nb_imgs = 3 ):\n",
    "    \n",
    "    # Check if both words exist in the graph\n",
    "    if not (word1 in G and word2 in G):\n",
    "        print(f\"One or both words '{word1}' and '{word2}' not found in graph\")\n",
    "        return\n",
    "        \n",
    "    shortestPaths = dict(nx.all_pairs_shortest_path(G,2))\n",
    "    \n",
    "    if(G.has_edge(word1,word2)):\n",
    "        display_images_on_query(word1 + \" \" + word2, nb_imgs=nb_imgs)\n",
    "        \n",
    "    elif word1 in shortestPaths and word2 in shortestPaths[word1]:\n",
    "        intermediate_word = shortestPaths[word1][word2][1]\n",
    "        display_images_on_query(word1 + \" \" + intermediate_word, nb_imgs=nb_imgs)\n",
    "        display_images_on_query(word2 + \" \" + intermediate_word, nb_imgs=nb_imgs)"
   ]
  },
  {
   "cell_type": "code",
   "execution_count": 10,
   "id": "17c14bca",
   "metadata": {},
   "outputs": [
    {
     "name": "stderr",
     "output_type": "stream",
     "text": [
      "[nltk_data] Downloading package punkt_tab to\n",
      "[nltk_data]     /Users/eglantinevialaneix/nltk_data...\n",
      "[nltk_data]   Package punkt_tab is already up-to-date!\n",
      "[nltk_data] Downloading package stopwords to\n",
      "[nltk_data]     /Users/eglantinevialaneix/nltk_data...\n",
      "[nltk_data]   Package stopwords is already up-to-date!\n"
     ]
    },
    {
     "name": "stdout",
     "output_type": "stream",
     "text": [
      "Woodcuts\n",
      "Anatomical fugitive sheets\n",
      "Wood engravings\n",
      "Posters\n",
      "Photomechanical prints\n",
      "Caricatures\n",
      "Aquatints\n",
      "Gouaches\n",
      "Intaglio prints\n",
      "Lithographs\n",
      "Portrait prints\n",
      "Biographies\n",
      "Oil paintings\n",
      "Collotypes\n",
      "Ephemera\n",
      "Engravings\n",
      "Etchings\n",
      "Book\n",
      "Drawings\n",
      "Albumen prints\n",
      "Book illustrations\n",
      "Portrait photographs\n",
      "Humorous pictures\n",
      "Almanacs\n",
      "Engraving\n",
      "Photographs\n",
      "Pencil works\n",
      "Photographic prints\n",
      "Wash drawings\n",
      "Leaflets\n",
      "Genre photographs\n",
      "Allegorical prints\n",
      "Watercolors\n",
      "Manuscript\n",
      "Chromolithographs\n",
      "Allegorical drawings\n",
      "Art brut\n",
      "Stipple engravings\n",
      "Gelatin silver prints\n",
      "Illustrated works\n",
      "Periodical illustrations\n",
      "Portrait paintings\n",
      "Soft-ground etchings\n",
      "Certificates\n",
      "Periodicals\n",
      "Photographic postcards\n",
      "Wet collodion negatives\n",
      "Incunabula\n",
      "Woodcuts - Japan\n",
      "Museum object\n",
      "Mezzotints\n",
      "Archives\n",
      "Holograph letter\n",
      "Travel sketches\n",
      "Letter\n",
      "Photogravures\n",
      "Blotting paper\n",
      "Landscape photographs\n",
      "Steel engravings\n",
      "Vanitas (Art)\n",
      "Sketches\n",
      "Postcards\n",
      "Still lifes\n",
      "Memento mori\n",
      "Photoengravings\n",
      "Cityscape photographs\n",
      "Ink drawings\n",
      "Academic dissertations - Scotland - Edinburgh\n",
      "Travel literature\n",
      "Bird's-eye views\n",
      "Glass negatives\n",
      "Platinum prints\n",
      "Portrait drawings\n",
      "Trial proceedings\n",
      "Title pages\n",
      "Pamphlets\n",
      "Halftone photomechanical prints\n",
      "Letter pictures\n",
      "Membership lists\n",
      "Votive offerings\n",
      "Icons\n",
      "Photograph albums\n",
      "Waterscape photographs\n",
      "Oil sketches\n",
      "Waterscape prints\n",
      "Periodical\n",
      "Sandals\n",
      "Screen prints\n",
      "Manufacturers' catalogues\n",
      "Museum catalogues\n",
      "Broadsheet\n",
      "Icons, Russian\n",
      "Cityscape prints\n",
      "Bibliographies\n",
      "Ironwork\n",
      "Panoramic views\n",
      "Tankas (Tibetan scrolls)\n",
      "Magazine covers\n",
      "Clippings\n",
      "Group portraits\n",
      "Painting, Kalighat\n",
      "Landscape prints\n",
      "Collected works\n",
      "Papier-m�ch�\n",
      "Floor plans\n",
      "Pamphlet\n",
      "Manuscripts\n",
      "Statistics\n",
      "Cartoons (Working drawings)\n",
      "Labels\n",
      "Chalk drawings\n",
      "Memoirs\n",
      "Tempera paintings\n",
      "Cartes de visite\n",
      "Advertisements\n",
      "Allegorical paintings\n",
      "Singerie (Art)\n",
      "Academic dissertations\n",
      "Erotica\n",
      "Closet doors\n",
      "Distemper painting\n",
      "Electronic journals\n",
      "Exhibition posters\n",
      "Graphite drawings\n",
      "Menus\n",
      "Figure drawings\n",
      "Broadsides\n",
      "Line photoengravings\n",
      "Letterpress works\n",
      "Photolithographs\n",
      "Metal sculpture\n",
      "Goigs\n",
      "Postcard\n",
      "Atlases (Scientific)\n",
      "Portrait sculpture\n",
      "Ivory carving\n",
      "Exploration literature\n",
      "Poems\n",
      "Bird's-eye view prints\n",
      "Print\n",
      "Landscape drawings\n",
      "Prints\n",
      "Calendars\n",
      "Painting\n",
      "Collected correspondence\n",
      "Editorial cartoons\n",
      "Collages\n",
      "Crayon manner prints\n",
      "Self-portraits\n",
      "Programs\n",
      "Festschriften\n",
      "Catalogue\n",
      "Charts\n",
      "Trade cards\n",
      "Postal stationery\n",
      "Bronze sculpture\n",
      "Albums\n",
      "Relief prints\n",
      "Badges\n",
      "Case studies\n",
      "Inscriptions\n",
      "Photocopies\n",
      "Charcoal drawings\n",
      "Frontispieces\n",
      "Trade catalogues\n",
      "Manuscripts - Chinese\n",
      "Window cards\n",
      "Song sheet\n",
      "Herbals\n",
      "Boxes\n",
      "Wood sculpture\n",
      "Lectures\n",
      "Stereographs\n",
      "Scrapbooks\n",
      "Satires (Visual works)\n",
      "Narratives\n",
      "Conference proceedings\n",
      "Pastels (Visual works)\n",
      "Anatomical atlases\n",
      "Pharmacopoeias\n",
      "Bookplates\n",
      "Still life photographs\n",
      "Annual reports\n",
      "Crayon drawings\n",
      "Portraits\n",
      "Advertising cards\n",
      "Design drawings\n",
      "Acrylic paintings\n",
      "Maps\n",
      "Diagrams\n",
      "Pictorial envelopes\n",
      "Forms (Documents)\n",
      "Paintings\n",
      "Indexes\n",
      "Daguerreotypes\n",
      "Trade card\n",
      "Illustrations\n",
      "Proclamations\n",
      "Letters\n",
      "Catalogues\n",
      "Unfinished works of art\n",
      "Cut-paper works\n",
      "Stationery\n",
      "Album\n",
      "Armorial bindings\n",
      "Letterheads\n",
      "Rubbings\n",
      "Patents\n",
      "Cityscape drawings\n",
      "Teaching Materials\n",
      "Icons, Greek\n",
      "{'photomechanical print', 'bronze sculpture', 'chromolithograph', 'aquatint', 'cityscape drawing', 'gouache', 'wash drawing', 'membership list', 'illustration', 'biographie', 'etching', 'pharmacopoeia', 'drawing', 'tempera painting', 'boxe', 'singerie (art)', 'academic dissertations - scotland - edinburgh', 'inscription', 'blotting paper', 'platinum print', 'album', 'narrative', 'catalogue', 'woodcut', 'archive', \"manufacturers' catalogue\", 'ironwork', 'letter picture', 'leaflet', 'waterscape print', 'statistic', 'pastels (visual works)', 'soft-ground etching', 'label', 'icons, russian', 'travel literature', 'diagram', 'cut-paper work', 'portrait drawing', 'indexe', 'engraving', 'travel sketche', 'map', 'poster', 'memoir', 'exploration literature', 'albumen print', 'lecture', 'allegorical painting', 'vanitas (art)', 'magazine cover', 'lithograph', 'screen print', 'landscape drawing', 'photocopie', 'design drawing', 'graphite drawing', 'herbal', 'art brut', 'menu', 'song sheet', 'allegorical print', 'armorial binding', 'broadsheet', 'satires (visual works)', 'genre photograph', 'mezzotint', 'wood engraving', 'letter', 'clipping', 'book illustration', 'group portrait', 'editorial cartoon', 'museum catalogue', 'trade card', 'letterpress work', 'photographic postcard', 'case studie', 'frontispiece', 'portrait sculpture', 'erotica', 'pamphlet', 'caricature', 'gelatin silver print', 'figure drawing', 'wet collodion negative', 'icons, greek', 'broadside', 'steel engraving', 'scrapbook', 'photoengraving', 'line photoengraving', 'periodical illustration', 'cartoons (working drawings)', 'academic dissertation', 'tankas (tibetan scrolls)', 'manuscripts - chinese', 'badge', 'self-portrait', 'watercolor', 'trade catalogue', 'almanac', 'electronic journal', 'glass negative', 'holograph letter', 'collected work', 'collotype', 'charcoal drawing', 'bibliographie', 'postcard', 'portrait painting', 'cartes de visite', 'icon', 'teaching material', 'waterscape photograph', 'ivory carving', 'woodcuts - japan', 'landscape print', 'patent', 'votive offering', 'incunabula', 'photograph album', 'conference proceeding', 'relief print', 'stereograph', 'portrait', 'collage', 'calendar', 'pictorial envelope', 'manuscript', 'oil sketche', 'stipple engraving', 'bookplate', 'humorous picture', 'floor plan', 'painting, kalighat', 'sandal', 'intaglio print', \"bird's-eye view print\", 'annual report', 'landscape photograph', 'panoramic view', 'letterhead', 'pencil work', 'book', 'trial proceeding', 'print', 'crayon manner print', 'oil painting', 'collected correspondence', 'chart', 'rubbing', 'acrylic painting', 'ephemera', 'goig', 'periodical', 'illustrated work', 'allegorical drawing', 'photolithograph', 'stationery', 'advertisement', 'postal stationery', 'portrait photograph', \"bird's-eye view\", 'window card', 'forms (documents)', 'photograph', 'exhibition poster', 'cityscape photograph', 'unfinished works of art', 'cityscape print', 'ink drawing', 'sketche', 'anatomical atlase', 'portrait print', 'photogravure', 'memento mori', 'poem', 'closet door', 'advertising card', 'photographic print', 'museum object', 'papier-m�ch�', 'atlases (scientific)', 'festschriften', 'chalk drawing', 'painting', 'program', 'still life photograph', 'crayon drawing', 'daguerreotype', 'proclamation', 'metal sculpture', 'wood sculpture', 'still life', 'title page', 'distemper painting', 'certificate', 'halftone photomechanical print', 'anatomical fugitive sheet'}\n",
      "a\n",
      "a\n",
      "a\n",
      "a\n",
      "a\n",
      "a\n",
      "a\n",
      "a\n",
      "a\n",
      "a\n",
      "a\n",
      "a\n",
      "a\n",
      "a\n",
      "a\n",
      "a\n",
      "a\n",
      "a\n",
      "a\n",
      "a\n",
      "a\n",
      "a\n",
      "a\n",
      "a\n",
      "a\n",
      "a\n",
      "a\n",
      "a\n",
      "a\n",
      "a\n",
      "a\n",
      "a\n",
      "a\n",
      "a\n",
      "a\n",
      "a\n",
      "a\n",
      "a\n",
      "a\n",
      "a\n",
      "a\n",
      "a\n",
      "a\n",
      "a\n",
      "a\n",
      "a\n",
      "a\n",
      "a\n",
      "a\n",
      "a\n",
      "a\n",
      "a\n",
      "a\n",
      "a\n",
      "a\n",
      "a\n",
      "a\n",
      "a\n",
      "a\n",
      "a\n",
      "a\n",
      "a\n",
      "a\n",
      "a\n",
      "a\n",
      "a\n",
      "a\n",
      "a\n",
      "a\n",
      "a\n",
      "a\n",
      "a\n",
      "a\n",
      "a\n",
      "a\n",
      "a\n",
      "a\n",
      "a\n",
      "a\n",
      "a\n",
      "a\n",
      "a\n",
      "a\n",
      "a\n",
      "a\n",
      "a\n",
      "a\n",
      "a\n",
      "a\n",
      "a\n",
      "a\n",
      "a\n",
      "a\n",
      "a\n",
      "a\n",
      "a\n",
      "a\n",
      "a\n",
      "a\n",
      "a\n",
      "Parsing the data...Done\n"
     ]
    },
    {
     "data": {
      "text/html": [
       "\n",
       "        <iframe\n",
       "            width=\"100%\"\n",
       "            height=\"650\"\n",
       "            src=\"http://127.0.0.1:8050/\"\n",
       "            frameborder=\"0\"\n",
       "            allowfullscreen\n",
       "            \n",
       "        ></iframe>\n",
       "        "
      ],
      "text/plain": [
       "<IPython.lib.display.IFrame at 0x15b074a50>"
      ]
     },
     "metadata": {},
     "output_type": "display_data"
    },
    {
     "name": "stdout",
     "output_type": "stream",
     "text": [
      "No trigger\n"
     ]
    }
   ],
   "source": [
    "G = get_Graph()\n",
    "display_Graph(G)"
   ]
  },
  {
   "cell_type": "code",
   "execution_count": 11,
   "id": "6ebcabba",
   "metadata": {},
   "outputs": [
    {
     "name": "stdout",
     "output_type": "stream",
     "text": [
      "One or both words 'flower' and 'pill' not found in graph\n"
     ]
    }
   ],
   "source": [
    "displayIntersection(\"flower\", \"pill\" , G = G)"
   ]
  },
  {
   "cell_type": "code",
   "execution_count": 12,
   "id": "28720dbd",
   "metadata": {},
   "outputs": [],
   "source": [
    "import json\n",
    "\n",
    "# def get_json_graph_to_display(words: list[str], G2, nb_img_per_query=5):\n",
    "#     query = \"\"\n",
    "#     imageList = []\n",
    "#     roots = []\n",
    "    \n",
    "#     if (len(words ) == 1):\n",
    "#         query = words[0]\n",
    "#         imageList = get_image_list_on_query(query, nb_img_per_query)\n",
    "#         return (dict({\"node\" : query, \"children\":imageList}))\n",
    "            \n",
    "#     elif(len(words)==2):\n",
    "#         query = words[0] \n",
    "#         imageList = get_image_list_on_query(query, nb_img_per_query)\n",
    "#         roots.append(dict({\"node\" : query, \"children\":imageList}))\n",
    "#         query = words[1]\n",
    "#         imageList = get_image_list_on_query(query, nb_img_per_query)\n",
    "#         roots.append(dict({\"node\" : query, \"children\":imageList}))\n",
    "#         shortestPaths = dict(nx.all_pairs_shortest_path(G2,2))\n",
    "#         word1 = words[0]\n",
    "#         word2 = words[1]\n",
    "#         if(G2.has_edge(word1,word2)):\n",
    "#             query = word1 + \" \" + word2\n",
    "#             imageList = roots + get_image_list_on_query(query, nb_imgs=nb_img_per_query)\n",
    "#             return dict({\"node\" : query, \"children\":imageList.append(roots)})\n",
    "#         elif(G2.nodes.get(word1) != None and shortestPaths.get(word1).get(word2) != None):\n",
    "#             query = word1 + \" \" + shortestPaths.get(word1).get(word2)[1]\n",
    "#             imageList = roots +get_image_list_on_query(query , nb_imgs=nb_img_per_query//2)\n",
    "            \n",
    "#             query2 = word2 + \" \" + shortestPaths.get(word1).get(word2)[1]    \n",
    "#             imageList = imageList+get_image_list_on_query(query2, nb_imgs=nb_img_per_query-nb_img_per_query//2)\n",
    "#             print(imageList)\n",
    "#             return dict({\"node\" : query+query2, \"children\":imageList})\n",
    "#         else:\n",
    "#             shortestPaths = dict(nx.all_pairs_shortest_path(G2,3))\n",
    "#             if(shortestPaths.get(word1).get(word2) != None):\n",
    "#                 path1 = G2.get_edge_data(word1, shortestPaths.get(word1).get(word2)[1])\n",
    "#                 path2 = G2.get_edge_data(word2 ,shortestPaths.get(word1).get(word2)[2])\n",
    "#                 word3 = shortestPaths.get(word1).get(word2)[1] if path1.get(\"weight\")>path2.get(\"weight\") else shortestPaths.get(word1).get(word2)[2]\n",
    "                \n",
    "#                 query = word1 + \" \" + word3\n",
    "#                 imageList = roots + get_image_list_on_query(query , nb_imgs=nb_img_per_query//2)\n",
    "                \n",
    "#                 query2 = word2 + \" \" + word3   \n",
    "#                 imageList = imageList+get_image_list_on_query(query2, nb_imgs=nb_img_per_query-nb_img_per_query//2)\n",
    "#                 print(imageList)\n",
    "\n",
    "#                 return dict({\"node\" : query+query2, \"children\":imageList})\n",
    "\n",
    "\n",
    "def get_json_graph_to_display(words: list[str], G2, nb_img_per_query=5):\n",
    "    # Handle single word case\n",
    "    if len(words) == 1:\n",
    "        query = words[0]\n",
    "        imageList = get_image_list_on_query(query, nb_img_per_query)\n",
    "        return {\"node\": query, \"children\": imageList}\n",
    "    \n",
    "    # Handle two word case\n",
    "    elif len(words) == 2:\n",
    "        word1, word2 = words[0], words[1]\n",
    "        \n",
    "        # Validate both words exist in graph\n",
    "        if not (word1 in G2 and word2 in G2):\n",
    "            print(f\"One or both words '{word1}' and '{word2}' not found in graph\")\n",
    "            return None\n",
    "            \n",
    "        # Get images for individual words\n",
    "        imageList1 = get_image_list_on_query(word1, nb_img_per_query)\n",
    "        imageList2 = get_image_list_on_query(word2, nb_img_per_query)\n",
    "        roots = [\n",
    "            {\"node\": word1, \"children\": imageList1},\n",
    "            {\"node\": word2, \"children\": imageList2}\n",
    "        ]\n",
    "\n",
    "        # Case 1: Direct edge exists\n",
    "        if G2.has_edge(word1, word2):\n",
    "            query = f\"{word1} {word2}\"\n",
    "            imageList = roots + get_image_list_on_query(query, nb_imgs=nb_img_per_query)\n",
    "            return {\"node\": query, \"children\": imageList}\n",
    "\n",
    "        # Case 2: Check for 2-hop path\n",
    "        shortestPaths = dict(nx.all_pairs_shortest_path(G2, 2))\n",
    "        path = shortestPaths.get(word1, {}).get(word2)\n",
    "        \n",
    "        if path is not None and len(path) == 3:  # Path length 3 means 2 hops\n",
    "            intermediate = path[1]\n",
    "            query1 = f\"{word1} {intermediate}\"\n",
    "            query2 = f\"{word2} {intermediate}\"\n",
    "            \n",
    "            imageList = roots + \\\n",
    "                       get_image_list_on_query(query1, nb_imgs=nb_img_per_query//2) + \\\n",
    "                       get_image_list_on_query(query2, nb_imgs=nb_img_per_query-nb_img_per_query//2)\n",
    "            return {\"node\": f\"{query1} {query2}\", \"children\": imageList}\n",
    "            \n",
    "        # Case 3: Check for 3-hop path\n",
    "        shortestPaths = dict(nx.all_pairs_shortest_path(G2, 3))\n",
    "        path = shortestPaths.get(word1, {}).get(word2)\n",
    "        \n",
    "        if path is not None and len(path) == 4:  # Path length 4 means 3 hops\n",
    "            # Safely get edge weights\n",
    "            path1 = G2.get_edge_data(word1, path[1]) or {\"weight\": 0}\n",
    "            path2 = G2.get_edge_data(word2, path[2]) or {\"weight\": 0}\n",
    "            \n",
    "            word3 = path[1] if path1.get(\"weight\", 0) > path2.get(\"weight\", 0) else path[2]\n",
    "            \n",
    "            query1 = f\"{word1} {word3}\"\n",
    "            query2 = f\"{word2} {word3}\"\n",
    "            \n",
    "            imageList = roots + \\\n",
    "                       get_image_list_on_query(query1, nb_imgs=nb_img_per_query//2) + \\\n",
    "                       get_image_list_on_query(query2, nb_imgs=nb_img_per_query-nb_img_per_query//2)\n",
    "            return {\"node\": f\"{query1} {query2}\", \"children\": imageList}\n",
    "    \n",
    "    return None\n",
    "              \n",
    "    \n",
    "# def get_graph_to_display(words: list[str],G2, nb_img_per_query=5):\n",
    "#     query = \"\"\n",
    "#     imageList = []\n",
    "#     G = nx.Graph() \n",
    "#     if (len(words ) == 1):\n",
    "#         query = words[0]\n",
    "#         imageList = get_image_list_on_query(query, nb_img_per_query)\n",
    "#         for image in imageList :\n",
    "          \n",
    "#             G.add_edge(query, image.get(\"url\"),weight =  1)   \n",
    "#     elif(len(words)==2):\n",
    "#         query = words[0] \n",
    "#         imageList = get_image_list_on_query(query, nb_img_per_query)\n",
    "#         for image in imageList :\n",
    "#             G.add_edge(query, image.get(\"url\"),weight =  1)\n",
    "#         query = words[1]\n",
    "#         imageList = get_image_list_on_query(query, nb_img_per_query)\n",
    "#         for image in imageList :\n",
    "#             G.add_edge(query, image.get(\"url\"),weight =  1)\n",
    "            \n",
    "#         shortestPaths = dict(nx.all_pairs_shortest_path(G2,2))\n",
    "#         word1 = words[0]\n",
    "#         word2 = words[1]\n",
    "#         if(G2.has_edge(word1,word2)):\n",
    "#             query = word1 + \" \" + word2\n",
    "#             imageList = get_image_list_on_query(query, nb_imgs=nb_img_per_query)\n",
    "#             for image in imageList :\n",
    "#                 G.add_edge(query, image.get(\"url\"),weight =  1)\n",
    "#         elif(G2.nodes.get(word1) != None and shortestPaths.get(word1).get(word2) != None):\n",
    "#             query = word1 + \" \" + shortestPaths.get(word1).get(word2)[1]\n",
    "#             imageList = get_image_list_on_query(query , nb_imgs=nb_img_per_query)\n",
    "#             for image in imageList :\n",
    "#                 G.add_edge(query, image.get(\"url\"),weight =  1)\n",
    "#             query = word2 + \" \" + shortestPaths.get(word1).get(word2)[1]    \n",
    "#             imageList = get_image_list_on_query(query, nb_imgs=nb_img_per_query)\n",
    "#             for image in imageList :\n",
    "#                 G.add_edge(query, image.get(\"url\"),weight =  1)\n",
    "#     return G\n",
    "\n",
    "\n",
    "def get_graph_to_display(words: list[str], G2, nb_img_per_query=5):\n",
    "    \"\"\"\n",
    "    Creates a graph representation of image queries and their relationships.\n",
    "    Handles single word queries and two-word queries with path finding.\n",
    "    \"\"\"\n",
    "    G = nx.Graph()\n",
    "    \n",
    "    # Handle single word case\n",
    "    if len(words) == 1:\n",
    "        word = words[0]\n",
    "        if not word in G2:\n",
    "            print(f\"Word '{word}' not found in graph\")\n",
    "            return G\n",
    "            \n",
    "        imageList = get_image_list_on_query(word, nb_img_per_query)\n",
    "        for image in imageList:\n",
    "            url = image.get(\"url\")\n",
    "            if url:  # Only add edge if url exists\n",
    "                G.add_edge(word, url, weight=1)\n",
    "                \n",
    "    # Handle two word case\n",
    "    elif len(words) == 2:\n",
    "        word1, word2 = words[0], words[1]\n",
    "        \n",
    "        # Validate both words exist in graph\n",
    "        if not (word1 in G2 and word2 in G2):\n",
    "            print(f\"One or both words '{word1}' and '{word2}' not found in graph\")\n",
    "            return G\n",
    "            \n",
    "        # Add edges for first word's images\n",
    "        for image in get_image_list_on_query(word1, nb_img_per_query):\n",
    "            url = image.get(\"url\")\n",
    "            if url:\n",
    "                G.add_edge(word1, url, weight=1)\n",
    "                \n",
    "        # Add edges for second word's images\n",
    "        for image in get_image_list_on_query(word2, nb_img_per_query):\n",
    "            url = image.get(\"url\")\n",
    "            if url:\n",
    "                G.add_edge(word2, url, weight=1)\n",
    "        \n",
    "        # Case 1: Direct edge exists\n",
    "        if G2.has_edge(word1, word2):\n",
    "            query = f\"{word1} {word2}\"\n",
    "            for image in get_image_list_on_query(query, nb_imgs=nb_img_per_query):\n",
    "                url = image.get(\"url\")\n",
    "                if url:\n",
    "                    G.add_edge(query, url, weight=1)\n",
    "                    \n",
    "        # Case 2: Check for 2-hop path\n",
    "        else:\n",
    "            shortestPaths = dict(nx.all_pairs_shortest_path(G2, 2))\n",
    "            path = shortestPaths.get(word1, {}).get(word2)\n",
    "            \n",
    "            if path and len(path) == 3:  # Path length 3 means 2 hops\n",
    "                intermediate = path[1]\n",
    "                \n",
    "                # Add edges for first intermediate path\n",
    "                query1 = f\"{word1} {intermediate}\"\n",
    "                for image in get_image_list_on_query(query1, nb_imgs=nb_img_per_query):\n",
    "                    url = image.get(\"url\")\n",
    "                    if url:\n",
    "                        G.add_edge(query1, url, weight=1)\n",
    "                        \n",
    "                # Add edges for second intermediate path\n",
    "                query2 = f\"{word2} {intermediate}\"\n",
    "                for image in get_image_list_on_query(query2, nb_imgs=nb_img_per_query):\n",
    "                    url = image.get(\"url\")\n",
    "                    if url:\n",
    "                        G.add_edge(query2, url, weight=1)\n",
    "                        \n",
    "    return G\n",
    "\n",
    "\n",
    "def write_to_json(file, graph):\n",
    "    stream = json.dumps(graph)\n",
    "    with open(\"../../data/\"+file, \"w\") as outfile:\n",
    "        outfile.write(stream)\n",
    "    \n",
    "    \n",
    "     "
   ]
  },
  {
   "cell_type": "code",
   "execution_count": 13,
   "id": "05256497",
   "metadata": {},
   "outputs": [
    {
     "name": "stdout",
     "output_type": "stream",
     "text": [
      "One or both words 'flower' and 'pill' not found in graph\n"
     ]
    }
   ],
   "source": [
    "import json\n",
    "word1 = \"flower\"\n",
    "word2 = \"pill\"\n",
    "j = get_json_graph_to_display([word1, word2], G)\n",
    "write_to_json(f\"{word1}_{word2}.json\", j)\n",
    "  "
   ]
  },
  {
   "cell_type": "code",
   "execution_count": 14,
   "id": "0fb84d73",
   "metadata": {},
   "outputs": [
    {
     "name": "stdout",
     "output_type": "stream",
     "text": [
      "Parsing the data...Done\n"
     ]
    },
    {
     "data": {
      "text/html": [
       "\n",
       "        <iframe\n",
       "            width=\"100%\"\n",
       "            height=\"650\"\n",
       "            src=\"http://127.0.0.1:8050/\"\n",
       "            frameborder=\"0\"\n",
       "            allowfullscreen\n",
       "            \n",
       "        ></iframe>\n",
       "        "
      ],
      "text/plain": [
       "<IPython.lib.display.IFrame at 0x15b075e50>"
      ]
     },
     "metadata": {},
     "output_type": "display_data"
    }
   ],
   "source": [
    "G_img = get_graph_to_display([\"aids\", \"muscles\"], G)\n",
    "display_Graph(G_img)"
   ]
  },
  {
   "cell_type": "code",
   "execution_count": 15,
   "id": "addbd09b",
   "metadata": {},
   "outputs": [
    {
     "name": "stdout",
     "output_type": "stream",
     "text": [
      "Parsing the data...Done\n"
     ]
    },
    {
     "data": {
      "text/html": [
       "\n",
       "        <iframe\n",
       "            width=\"100%\"\n",
       "            height=\"650\"\n",
       "            src=\"http://127.0.0.1:8050/\"\n",
       "            frameborder=\"0\"\n",
       "            allowfullscreen\n",
       "            \n",
       "        ></iframe>\n",
       "        "
      ],
      "text/plain": [
       "<IPython.lib.display.IFrame at 0x15ab5c640>"
      ]
     },
     "metadata": {},
     "output_type": "display_data"
    },
    {
     "name": "stdout",
     "output_type": "stream",
     "text": [
      "No trigger\n",
      "No trigger\n"
     ]
    }
   ],
   "source": [
    "G_img = get_graph_to_display([\"aids\"], G)\n",
    "display_Graph(G_img)"
   ]
  },
  {
   "cell_type": "markdown",
   "id": "747326d6",
   "metadata": {},
   "source": []
  }
 ],
 "metadata": {
  "kernelspec": {
   "display_name": ".venv",
   "language": "python",
   "name": "python3"
  },
  "language_info": {
   "codemirror_mode": {
    "name": "ipython",
    "version": 3
   },
   "file_extension": ".py",
   "mimetype": "text/x-python",
   "name": "python",
   "nbconvert_exporter": "python",
   "pygments_lexer": "ipython3",
   "version": "3.13.2"
  }
 },
 "nbformat": 4,
 "nbformat_minor": 5
}
