{
 "cells": [
  {
   "cell_type": "markdown",
   "id": "ebfe7c3f",
   "metadata": {},
   "source": [
    "# Display images from the collection base on object query"
   ]
  },
  {
   "cell_type": "markdown",
   "id": "22da60e1",
   "metadata": {},
   "source": [
    "The user places an object on the plinth, which triggers a word and topic query."
   ]
  },
  {
   "cell_type": "code",
   "execution_count": 3,
   "id": "9a353c7a",
   "metadata": {},
   "outputs": [],
   "source": [
    "import sys\n",
    "import os\n",
    "sys.path.append(os.path.abspath(\"../\"))\n",
    "from scripts.wellcome_utils import display_images_on_query"
   ]
  },
  {
   "cell_type": "code",
   "execution_count": 6,
   "id": "d491cfaa",
   "metadata": {},
   "outputs": [],
   "source": [
    "# Manually defined for now, TODO: automate (and randomize?)\n",
    "word = \"cow\"\n",
    "topics = [\"animal\", \"milk\", \"veterinary\", \"bull\", \"farm\", \"cowshed\", \"cowboy\"]"
   ]
  },
  {
   "cell_type": "code",
   "execution_count": 7,
   "id": "bd1162c5",
   "metadata": {},
   "outputs": [
    {
     "name": "stdout",
     "output_type": "stream",
     "text": [
      "Adult cow heart.\n"
     ]
    },
    {
     "data": {
      "text/html": [
       "<img src=\"https://iiif.wellcomecollection.org/image/A0001382/full/full/0/default.jpg\"/>"
      ],
      "text/plain": [
       "<IPython.core.display.Image object>"
      ]
     },
     "metadata": {},
     "output_type": "display_data"
    },
    {
     "name": "stdout",
     "output_type": "stream",
     "text": [
      "Friesian cow calving.\n"
     ]
    },
    {
     "data": {
      "text/html": [
       "<img src=\"https://iiif.wellcomecollection.org/image/A0000005/full/full/0/default.jpg\"/>"
      ],
      "text/plain": [
       "<IPython.core.display.Image object>"
      ]
     },
     "metadata": {},
     "output_type": "display_data"
    },
    {
     "name": "stdout",
     "output_type": "stream",
     "text": [
      "Friesian cow calving\n"
     ]
    },
    {
     "data": {
      "text/html": [
       "<img src=\"https://iiif.wellcomecollection.org/image/A0000002/full/full/0/default.jpg\"/>"
      ],
      "text/plain": [
       "<IPython.core.display.Image object>"
      ]
     },
     "metadata": {},
     "output_type": "display_data"
    },
    {
     "name": "stdout",
     "output_type": "stream",
     "text": [
      "How is animal research regulated? / Understanding Animal Research.\n"
     ]
    },
    {
     "data": {
      "text/html": [
       "<img src=\"https://iiif.wellcomecollection.org/image/b1821907x_0002.jp2/full/full/0/default.jpg\"/>"
      ],
      "text/plain": [
       "<IPython.core.display.Image object>"
      ]
     },
     "metadata": {},
     "output_type": "display_data"
    },
    {
     "name": "stdout",
     "output_type": "stream",
     "text": [
      "Hints for the manufacture of milk-chocolate, bitter milk-cocoa and sweet milk-cocoa.\n"
     ]
    },
    {
     "data": {
      "text/html": [
       "<img src=\"https://iiif.wellcomecollection.org/image/b16435163_0001.jp2/full/full/0/default.jpg\"/>"
      ],
      "text/plain": [
       "<IPython.core.display.Image object>"
      ]
     },
     "metadata": {},
     "output_type": "display_data"
    },
    {
     "name": "stdout",
     "output_type": "stream",
     "text": [
      "The veterinary record.\n"
     ]
    },
    {
     "data": {
      "text/html": [
       "<img src=\"https://iiif.wellcomecollection.org/image/L0000460/full/full/0/default.jpg\"/>"
      ],
      "text/plain": [
       "<IPython.core.display.Image object>"
      ]
     },
     "metadata": {},
     "output_type": "display_data"
    },
    {
     "name": "stdout",
     "output_type": "stream",
     "text": [
      "A bull. Coloured etching.\n"
     ]
    },
    {
     "data": {
      "text/html": [
       "<img src=\"https://iiif.wellcomecollection.org/image/V0021652/full/full/0/default.jpg\"/>"
      ],
      "text/plain": [
       "<IPython.core.display.Image object>"
      ]
     },
     "metadata": {},
     "output_type": "display_data"
    },
    {
     "name": "stdout",
     "output_type": "stream",
     "text": [
      "Helwan, Egypt; farm cultivation\n"
     ]
    },
    {
     "data": {
      "text/html": [
       "<img src=\"https://iiif.wellcomecollection.org/image/N0022535/full/full/0/default.jpg\"/>"
      ],
      "text/plain": [
       "<IPython.core.display.Image object>"
      ]
     },
     "metadata": {},
     "output_type": "display_data"
    },
    {
     "name": "stdout",
     "output_type": "stream",
     "text": [
      "A cowshed, Zanzibar. Photograph, 1905/1915.\n"
     ]
    },
    {
     "data": {
      "text/html": [
       "<img src=\"https://iiif.wellcomecollection.org/image/V0030434/full/full/0/default.jpg\"/>"
      ],
      "text/plain": [
       "<IPython.core.display.Image object>"
      ]
     },
     "metadata": {},
     "output_type": "display_data"
    },
    {
     "name": "stdout",
     "output_type": "stream",
     "text": [
      "Three young men, two in drag, posing in cowboy costumes.\n"
     ]
    },
    {
     "data": {
      "text/html": [
       "<img src=\"https://iiif.wellcomecollection.org/image/B20445350_0002.JP2/full/full/0/default.jpg\"/>"
      ],
      "text/plain": [
       "<IPython.core.display.Image object>"
      ]
     },
     "metadata": {},
     "output_type": "display_data"
    }
   ],
   "source": [
    "display_images_on_query(word, nb_imgs=3)\n",
    "for topic in topics:\n",
    "    display_images_on_query(topic, nb_imgs=1)"
   ]
  },
  {
   "cell_type": "code",
   "execution_count": 4,
   "id": "d3c1475b",
   "metadata": {},
   "outputs": [
    {
     "name": "stderr",
     "output_type": "stream",
     "text": [
      "c:\\Users\\frein\\anaconda3\\Lib\\site-packages\\dash_bootstrap_components\\_table.py:5: UserWarning: \n",
      "The dash_html_components package is deprecated. Please replace\n",
      "`import dash_html_components as html` with `from dash import html`\n",
      "  import dash_html_components as html\n"
     ]
    },
    {
     "name": "stdout",
     "output_type": "stream",
     "text": [
      "Requirement already satisfied: jaal in c:\\users\\frein\\anaconda3\\lib\\site-packages (0.1.9)\n",
      "Requirement already satisfied: dash>=1.19.0 in c:\\users\\frein\\anaconda3\\lib\\site-packages (from jaal) (3.0.4)\n",
      "Requirement already satisfied: visdcc>=0.0.40 in c:\\users\\frein\\anaconda3\\lib\\site-packages (from jaal) (0.0.63)\n",
      "Requirement already satisfied: pandas>=1.2.1 in c:\\users\\frein\\anaconda3\\lib\\site-packages (from jaal) (2.2.2)\n",
      "Requirement already satisfied: dash-core-components>=1.15.0 in c:\\users\\frein\\anaconda3\\lib\\site-packages (from jaal) (2.0.0)\n",
      "Requirement already satisfied: dash-html-components>=1.1.2 in c:\\users\\frein\\anaconda3\\lib\\site-packages (from jaal) (2.0.0)\n",
      "Requirement already satisfied: dash-bootstrap-components<1 in c:\\users\\frein\\anaconda3\\lib\\site-packages (from jaal) (0.13.1)\n",
      "Requirement already satisfied: Flask<3.1,>=1.0.4 in c:\\users\\frein\\anaconda3\\lib\\site-packages (from dash>=1.19.0->jaal) (3.0.3)\n",
      "Requirement already satisfied: Werkzeug<3.1 in c:\\users\\frein\\anaconda3\\lib\\site-packages (from dash>=1.19.0->jaal) (3.0.3)\n",
      "Requirement already satisfied: plotly>=5.0.0 in c:\\users\\frein\\anaconda3\\lib\\site-packages (from dash>=1.19.0->jaal) (5.24.1)\n",
      "Requirement already satisfied: importlib-metadata in c:\\users\\frein\\anaconda3\\lib\\site-packages (from dash>=1.19.0->jaal) (7.0.1)\n",
      "Requirement already satisfied: typing-extensions>=4.1.1 in c:\\users\\frein\\anaconda3\\lib\\site-packages (from dash>=1.19.0->jaal) (4.11.0)\n",
      "Requirement already satisfied: requests in c:\\users\\frein\\anaconda3\\lib\\site-packages (from dash>=1.19.0->jaal) (2.32.3)\n",
      "Requirement already satisfied: retrying in c:\\users\\frein\\anaconda3\\lib\\site-packages (from dash>=1.19.0->jaal) (1.3.4)\n",
      "Requirement already satisfied: nest-asyncio in c:\\users\\frein\\anaconda3\\lib\\site-packages (from dash>=1.19.0->jaal) (1.6.0)\n",
      "Requirement already satisfied: setuptools in c:\\users\\frein\\anaconda3\\lib\\site-packages (from dash>=1.19.0->jaal) (75.1.0)\n",
      "Requirement already satisfied: numpy>=1.26.0 in c:\\users\\frein\\anaconda3\\lib\\site-packages (from pandas>=1.2.1->jaal) (1.26.4)\n",
      "Requirement already satisfied: python-dateutil>=2.8.2 in c:\\users\\frein\\anaconda3\\lib\\site-packages (from pandas>=1.2.1->jaal) (2.9.0.post0)\n",
      "Requirement already satisfied: pytz>=2020.1 in c:\\users\\frein\\anaconda3\\lib\\site-packages (from pandas>=1.2.1->jaal) (2024.1)\n",
      "Requirement already satisfied: tzdata>=2022.7 in c:\\users\\frein\\anaconda3\\lib\\site-packages (from pandas>=1.2.1->jaal) (2023.3)\n",
      "Requirement already satisfied: Jinja2>=3.1.2 in c:\\users\\frein\\anaconda3\\lib\\site-packages (from Flask<3.1,>=1.0.4->dash>=1.19.0->jaal) (3.1.4)\n",
      "Requirement already satisfied: itsdangerous>=2.1.2 in c:\\users\\frein\\anaconda3\\lib\\site-packages (from Flask<3.1,>=1.0.4->dash>=1.19.0->jaal) (2.2.0)\n",
      "Requirement already satisfied: click>=8.1.3 in c:\\users\\frein\\anaconda3\\lib\\site-packages (from Flask<3.1,>=1.0.4->dash>=1.19.0->jaal) (8.1.7)\n",
      "Requirement already satisfied: blinker>=1.6.2 in c:\\users\\frein\\anaconda3\\lib\\site-packages (from Flask<3.1,>=1.0.4->dash>=1.19.0->jaal) (1.6.2)\n",
      "Requirement already satisfied: tenacity>=6.2.0 in c:\\users\\frein\\anaconda3\\lib\\site-packages (from plotly>=5.0.0->dash>=1.19.0->jaal) (8.2.3)\n",
      "Requirement already satisfied: packaging in c:\\users\\frein\\anaconda3\\lib\\site-packages (from plotly>=5.0.0->dash>=1.19.0->jaal) (24.1)\n",
      "Requirement already satisfied: six>=1.5 in c:\\users\\frein\\anaconda3\\lib\\site-packages (from python-dateutil>=2.8.2->pandas>=1.2.1->jaal) (1.16.0)\n",
      "Requirement already satisfied: MarkupSafe>=2.1.1 in c:\\users\\frein\\anaconda3\\lib\\site-packages (from Werkzeug<3.1->dash>=1.19.0->jaal) (2.1.3)\n",
      "Requirement already satisfied: zipp>=0.5 in c:\\users\\frein\\anaconda3\\lib\\site-packages (from importlib-metadata->dash>=1.19.0->jaal) (3.17.0)\n",
      "Requirement already satisfied: charset-normalizer<4,>=2 in c:\\users\\frein\\anaconda3\\lib\\site-packages (from requests->dash>=1.19.0->jaal) (3.3.2)\n",
      "Requirement already satisfied: idna<4,>=2.5 in c:\\users\\frein\\anaconda3\\lib\\site-packages (from requests->dash>=1.19.0->jaal) (3.7)\n",
      "Requirement already satisfied: urllib3<3,>=1.21.1 in c:\\users\\frein\\anaconda3\\lib\\site-packages (from requests->dash>=1.19.0->jaal) (2.2.3)\n",
      "Requirement already satisfied: certifi>=2017.4.17 in c:\\users\\frein\\anaconda3\\lib\\site-packages (from requests->dash>=1.19.0->jaal) (2025.4.26)\n",
      "Requirement already satisfied: colorama in c:\\users\\frein\\anaconda3\\lib\\site-packages (from click>=8.1.3->Flask<3.1,>=1.0.4->dash>=1.19.0->jaal) (0.4.6)\n"
     ]
    }
   ],
   "source": [
    "#TODO: display images on \"intersection query\"\n",
    "import networkx as nx\n",
    "from scripts.images_occurences import get_Graph, display_Graph\n",
    "!pip install jaal\n",
    "\n",
    "def displayIntersection(word1 : str, word2 : str,G, topic1 = [], topic2 = [], nb_imgs = 3 ):\n",
    "    \n",
    "    shortestPaths = dict(nx.all_pairs_shortest_path(G,2))\n",
    "\n",
    "    if(G.has_edge(word1,word2)):\n",
    "        display_images_on_query(word1 + \" \" + word2, nb_imgs=nb_imgs)\n",
    "        \n",
    "    elif(G.nodes.get(word1) != None and shortestPaths.get(word1).get(word2) != None):\n",
    "        display_images_on_query(word1 + \" \" + shortestPaths.get(word1).get(word2)[1], nb_imgs=nb_imgs)\n",
    "        display_images_on_query(word2 + \" \" + shortestPaths.get(word1).get(word2)[1], nb_imgs=nb_imgs)\n",
    "        \n",
    "        \n",
    "        \n",
    "        \n"
   ]
  },
  {
   "cell_type": "code",
   "execution_count": 5,
   "id": "17c14bca",
   "metadata": {},
   "outputs": [
    {
     "name": "stderr",
     "output_type": "stream",
     "text": [
      "[nltk_data] Downloading package punkt_tab to\n",
      "[nltk_data]     C:\\Users\\frein\\AppData\\Roaming\\nltk_data...\n",
      "[nltk_data]   Package punkt_tab is already up-to-date!\n",
      "[nltk_data] Downloading package stopwords to\n",
      "[nltk_data]     C:\\Users\\frein\\AppData\\Roaming\\nltk_data...\n",
      "[nltk_data]   Package stopwords is already up-to-date!\n"
     ]
    },
    {
     "name": "stdout",
     "output_type": "stream",
     "text": [
      "Woodcuts\n",
      "Anatomical fugitive sheets\n",
      "Wood engravings\n",
      "Posters\n",
      "Photomechanical prints\n",
      "Caricatures\n",
      "Aquatints\n",
      "Gouaches\n",
      "Intaglio prints\n",
      "Lithographs\n",
      "Portrait prints\n",
      "Biographies\n",
      "Oil paintings\n",
      "Collotypes\n",
      "Ephemera\n",
      "Engravings\n",
      "Etchings\n",
      "Book\n",
      "Drawings\n",
      "Albumen prints\n",
      "Book illustrations\n",
      "Portrait photographs\n",
      "Humorous pictures\n",
      "Almanacs\n",
      "Engraving\n",
      "Photographs\n",
      "Pencil works\n",
      "Photographic prints\n",
      "Wash drawings\n",
      "Leaflets\n",
      "Genre photographs\n",
      "Allegorical prints\n",
      "Watercolors\n",
      "Manuscript\n",
      "Chromolithographs\n",
      "Allegorical drawings\n",
      "Art brut\n",
      "Stipple engravings\n",
      "Gelatin silver prints\n",
      "Illustrated works\n",
      "Periodical illustrations\n",
      "Portrait paintings\n",
      "Soft-ground etchings\n",
      "Certificates\n",
      "Periodicals\n",
      "Photographic postcards\n",
      "Wet collodion negatives\n",
      "Incunabula\n",
      "Woodcuts - Japan\n",
      "Museum object\n",
      "Mezzotints\n",
      "Archives\n",
      "Holograph letter\n",
      "Travel sketches\n",
      "Letter\n",
      "Photogravures\n",
      "Blotting paper\n",
      "Landscape photographs\n",
      "Steel engravings\n",
      "Vanitas (Art)\n",
      "Sketches\n",
      "Postcards\n",
      "Still lifes\n",
      "Memento mori\n",
      "Photoengravings\n",
      "Cityscape photographs\n",
      "Ink drawings\n",
      "Academic dissertations - Scotland - Edinburgh\n",
      "Travel literature\n",
      "Bird's-eye views\n",
      "Glass negatives\n",
      "Platinum prints\n",
      "Portrait drawings\n",
      "Trial proceedings\n",
      "Title pages\n",
      "Pamphlets\n",
      "Halftone photomechanical prints\n",
      "Letter pictures\n",
      "Membership lists\n",
      "Votive offerings\n",
      "Icons\n",
      "Photograph albums\n",
      "Waterscape photographs\n",
      "Oil sketches\n",
      "Waterscape prints\n",
      "Periodical\n",
      "Sandals\n",
      "Screen prints\n",
      "Manufacturers' catalogues\n",
      "Museum catalogues\n",
      "Broadsheet\n",
      "Icons, Russian\n",
      "Cityscape prints\n",
      "Bibliographies\n",
      "Ironwork\n",
      "Panoramic views\n",
      "Tankas (Tibetan scrolls)\n",
      "Magazine covers\n",
      "Clippings\n",
      "Group portraits\n",
      "Painting, Kalighat\n",
      "Landscape prints\n",
      "Collected works\n",
      "Papier-m�ch�\n",
      "Floor plans\n",
      "Pamphlet\n",
      "Manuscripts\n",
      "Statistics\n",
      "Cartoons (Working drawings)\n",
      "Labels\n",
      "Chalk drawings\n",
      "Memoirs\n",
      "Tempera paintings\n",
      "Cartes de visite\n",
      "Advertisements\n",
      "Allegorical paintings\n",
      "Singerie (Art)\n",
      "Academic dissertations\n",
      "Erotica\n",
      "Closet doors\n",
      "Distemper painting\n",
      "Electronic journals\n",
      "Exhibition posters\n",
      "Graphite drawings\n",
      "Menus\n",
      "Figure drawings\n",
      "Broadsides\n",
      "Line photoengravings\n",
      "Letterpress works\n",
      "Photolithographs\n",
      "Metal sculpture\n",
      "Goigs\n",
      "Postcard\n",
      "Atlases (Scientific)\n",
      "Portrait sculpture\n",
      "Ivory carving\n",
      "Exploration literature\n",
      "Poems\n",
      "Bird's-eye view prints\n",
      "Print\n",
      "Landscape drawings\n",
      "Prints\n",
      "Calendars\n",
      "Painting\n",
      "Collected correspondence\n",
      "Editorial cartoons\n",
      "Collages\n",
      "Crayon manner prints\n",
      "Self-portraits\n",
      "Programs\n",
      "Festschriften\n",
      "Catalogue\n",
      "Charts\n",
      "Trade cards\n",
      "Postal stationery\n",
      "Bronze sculpture\n",
      "Albums\n",
      "Relief prints\n",
      "Badges\n",
      "Case studies\n",
      "Inscriptions\n",
      "Photocopies\n",
      "Charcoal drawings\n",
      "Frontispieces\n",
      "Trade catalogues\n",
      "Manuscripts - Chinese\n",
      "Window cards\n",
      "Song sheet\n",
      "Herbals\n",
      "Boxes\n",
      "Wood sculpture\n",
      "Lectures\n",
      "Stereographs\n",
      "Scrapbooks\n",
      "Satires (Visual works)\n",
      "Narratives\n",
      "Conference proceedings\n",
      "Pastels (Visual works)\n",
      "Anatomical atlases\n",
      "Pharmacopoeias\n",
      "Bookplates\n",
      "Still life photographs\n",
      "Annual reports\n",
      "Crayon drawings\n",
      "Portraits\n",
      "Advertising cards\n",
      "Design drawings\n",
      "Acrylic paintings\n",
      "Maps\n",
      "Diagrams\n",
      "Pictorial envelopes\n",
      "Forms (Documents)\n",
      "Paintings\n",
      "Indexes\n",
      "Daguerreotypes\n",
      "Trade card\n",
      "Illustrations\n",
      "Proclamations\n",
      "Letters\n",
      "Catalogues\n",
      "Unfinished works of art\n",
      "Cut-paper works\n",
      "Stationery\n",
      "Album\n",
      "Armorial bindings\n",
      "Letterheads\n",
      "Rubbings\n",
      "Patents\n",
      "Cityscape drawings\n",
      "Teaching Materials\n",
      "Icons, Greek\n",
      "{'memoir', 'inscription', 'bookplate', 'collected correspondence', 'trade card', 'chalk drawing', 'advertising card', 'biographie', 'wash drawing', 'photograph', 'boxe', 'map', 'metal sculpture', 'papier-m�ch�', 'cityscape drawing', 'oil sketche', 'photocopie', 'glass negative', 'photogravure', 'closet door', 'anatomical fugitive sheet', 'wet collodion negative', 'indexe', 'menu', 'landscape print', 'woodcut', 'albumen print', 'chart', 'chromolithograph', 'diagram', 'stereograph', 'cityscape photograph', 'portrait', 'academic dissertations - scotland - edinburgh', 'letter picture', 'landscape drawing', 'genre photograph', 'periodical illustration', 'poster', 'patent', 'oil painting', 'clipping', 'landscape photograph', 'painting, kalighat', 'calendar', 'crayon manner print', 'editorial cartoon', 'rubbing', 'ironwork', 'periodical', 'pharmacopoeia', 'lecture', 'watercolor', 'ivory carving', 'sketche', 'woodcuts - japan', 'panoramic view', 'manuscripts - chinese', 'ephemera', 'art brut', 'leaflet', 'screen print', 'exploration literature', 'satires (visual works)', 'halftone photomechanical print', 'illustration', 'atlases (scientific)', 'illustrated work', 'acrylic painting', 'museum object', 'stipple engraving', 'group portrait', 'ink drawing', 'poem', 'unfinished works of art', 'academic dissertation', 'song sheet', \"bird's-eye view\", 'goig', 'bronze sculpture', 'portrait drawing', 'tankas (tibetan scrolls)', 'crayon drawing', 'electronic journal', 'graphite drawing', 'icon', 'museum catalogue', 'book illustration', 'portrait sculpture', 'manuscript', 'blotting paper', 'steel engraving', 'photographic print', 'drawing', 'holograph letter', 'erotica', 'stationery', 'herbal', 'allegorical drawing', \"manufacturers' catalogue\", 'collage', 'engraving', 'votive offering', 'humorous picture', 'figure drawing', 'still life', 'proclamation', 'print', 'travel sketche', 'postal stationery', 'case studie', 'trade catalogue', 'waterscape print', 'broadside', 'sandal', 'daguerreotype', 'incunabula', 'cityscape print', 'letterhead', 'teaching material', 'portrait photograph', 'collected work', 'cut-paper work', 'postcard', 'lithograph', 'letterpress work', 'frontispiece', 'icons, greek', 'etching', 'conference proceeding', 'icons, russian', 'design drawing', 'armorial binding', 'membership list', 'trial proceeding', 'photograph album', 'catalogue', 'label', 'relief print', 'forms (documents)', 'title page', 'portrait painting', 'album', 'book', 'window card', \"bird's-eye view print\", 'gelatin silver print', 'distemper painting', 'exhibition poster', 'festschriften', 'narrative', 'platinum print', 'travel literature', 'mezzotint', 'cartoons (working drawings)', 'wood engraving', 'bibliographie', 'aquatint', 'line photoengraving', 'photomechanical print', 'allegorical print', 'photolithograph', 'wood sculpture', 'memento mori', 'archive', 'pastels (visual works)', 'still life photograph', 'waterscape photograph', 'cartes de visite', 'letter', 'photoengraving', 'annual report', 'gouache', 'portrait print', 'tempera painting', 'collotype', 'intaglio print', 'anatomical atlase', 'badge', 'photographic postcard', 'floor plan', 'singerie (art)', 'pictorial envelope', 'soft-ground etching', 'allegorical painting', 'magazine cover', 'caricature', 'advertisement', 'painting', 'vanitas (art)', 'statistic', 'charcoal drawing', 'pamphlet', 'broadsheet', 'almanac', 'pencil work', 'certificate', 'self-portrait', 'program', 'scrapbook'}\n",
      "a\n",
      "a\n",
      "a\n",
      "a\n",
      "a\n",
      "a\n",
      "a\n",
      "a\n",
      "a\n",
      "a\n",
      "a\n",
      "a\n",
      "a\n",
      "a\n",
      "a\n",
      "a\n",
      "a\n",
      "a\n",
      "a\n",
      "a\n",
      "a\n",
      "a\n",
      "a\n",
      "a\n",
      "a\n",
      "a\n",
      "a\n",
      "a\n",
      "a\n",
      "a\n",
      "a\n",
      "a\n",
      "a\n",
      "a\n",
      "a\n",
      "a\n",
      "a\n",
      "a\n",
      "a\n",
      "a\n",
      "a\n",
      "a\n",
      "a\n",
      "a\n",
      "a\n",
      "a\n",
      "a\n",
      "a\n",
      "a\n",
      "a\n",
      "a\n",
      "a\n",
      "a\n",
      "a\n",
      "a\n",
      "a\n",
      "a\n",
      "a\n",
      "a\n",
      "a\n",
      "a\n",
      "a\n",
      "a\n",
      "a\n",
      "a\n",
      "a\n",
      "a\n",
      "a\n",
      "a\n",
      "a\n",
      "a\n",
      "a\n",
      "a\n",
      "a\n",
      "a\n",
      "a\n",
      "a\n",
      "a\n",
      "a\n",
      "a\n",
      "a\n",
      "a\n",
      "a\n",
      "a\n",
      "a\n",
      "a\n",
      "a\n",
      "a\n",
      "a\n",
      "a\n",
      "a\n",
      "a\n",
      "a\n",
      "a\n",
      "a\n",
      "a\n",
      "a\n",
      "a\n",
      "a\n",
      "a\n",
      "Parsing the data...Done\n"
     ]
    },
    {
     "data": {
      "text/html": [
       "\n",
       "        <iframe\n",
       "            width=\"100%\"\n",
       "            height=\"650\"\n",
       "            src=\"http://127.0.0.1:8050/\"\n",
       "            frameborder=\"0\"\n",
       "            allowfullscreen\n",
       "            \n",
       "        ></iframe>\n",
       "        "
      ],
      "text/plain": [
       "<IPython.lib.display.IFrame at 0x22d5bce0830>"
      ]
     },
     "metadata": {},
     "output_type": "display_data"
    },
    {
     "name": "stdout",
     "output_type": "stream",
     "text": [
      "No trigger\n"
     ]
    }
   ],
   "source": [
    "G = get_Graph()\n",
    "display_Graph(G)"
   ]
  },
  {
   "cell_type": "code",
   "execution_count": 12,
   "id": "6ebcabba",
   "metadata": {},
   "outputs": [
    {
     "name": "stdout",
     "output_type": "stream",
     "text": [
      "Two world globes advertising World AIDS day. Colour lithograph.\n",
      "https://iiif.wellcomecollection.org/image/b16668601_l0052269.jp2/info.json\n"
     ]
    },
    {
     "data": {
      "text/html": [
       "<img src=\"https://iiif.wellcomecollection.org/image/b16668601_l0052269.jp2/full/full/0/default.jpg\"/>"
      ],
      "text/plain": [
       "<IPython.core.display.Image object>"
      ]
     },
     "metadata": {},
     "output_type": "display_data"
    },
    {
     "name": "stdout",
     "output_type": "stream",
     "text": [
      "Two male gay couples and two heterosexual couples embrace representing safe sex and AIDS; advertisment about information on HIV/AIDS by the San Francisco AIDS Foundation. Lithograph by Warwick May.\n",
      "https://iiif.wellcomecollection.org/image/b1667568x_l0052142.jp2/info.json\n"
     ]
    },
    {
     "data": {
      "text/html": [
       "<img src=\"https://iiif.wellcomecollection.org/image/b1667568x_l0052142.jp2/full/full/0/default.jpg\"/>"
      ],
      "text/plain": [
       "<IPython.core.display.Image object>"
      ]
     },
     "metadata": {},
     "output_type": "display_data"
    },
    {
     "name": "stdout",
     "output_type": "stream",
     "text": [
      "Two men in vests embrace; advertisement for the Stop AIDS Project. Lithograph.\n",
      "https://iiif.wellcomecollection.org/image/b16674741_l0052125.jp2/info.json\n"
     ]
    },
    {
     "data": {
      "text/html": [
       "<img src=\"https://iiif.wellcomecollection.org/image/b16674741_l0052125.jp2/full/full/0/default.jpg\"/>"
      ],
      "text/plain": [
       "<IPython.core.display.Image object>"
      ]
     },
     "metadata": {},
     "output_type": "display_data"
    },
    {
     "name": "stdout",
     "output_type": "stream",
     "text": [
      "Nerves and muscles of the legs: two figures. Lithograph by N.H Jacob, 1831/1854.\n",
      "https://iiif.wellcomecollection.org/image/V0008444/info.json\n"
     ]
    },
    {
     "data": {
      "text/html": [
       "<img src=\"https://iiif.wellcomecollection.org/image/V0008444/full/full/0/default.jpg\"/>"
      ],
      "text/plain": [
       "<IPython.core.display.Image object>"
      ]
     },
     "metadata": {},
     "output_type": "display_data"
    },
    {
     "name": "stdout",
     "output_type": "stream",
     "text": [
      "Dissection of muscles and blood-vessels of the upper arm: two figures. Coloured lithograph by J. Maclise, 1851.\n",
      "https://iiif.wellcomecollection.org/image/V0008532/info.json\n"
     ]
    },
    {
     "data": {
      "text/html": [
       "<img src=\"https://iiif.wellcomecollection.org/image/V0008532/full/full/0/default.jpg\"/>"
      ],
      "text/plain": [
       "<IPython.core.display.Image object>"
      ]
     },
     "metadata": {},
     "output_type": "display_data"
    },
    {
     "name": "stdout",
     "output_type": "stream",
     "text": [
      "Bones and muscles of the head and neck: two écorché figures. Pen and ink, by C. Landseer, ca. 1815.\n",
      "https://iiif.wellcomecollection.org/image/V0008250EL/info.json\n"
     ]
    },
    {
     "data": {
      "text/html": [
       "<img src=\"https://iiif.wellcomecollection.org/image/V0008250EL/full/full/0/default.jpg\"/>"
      ],
      "text/plain": [
       "<IPython.core.display.Image object>"
      ]
     },
     "metadata": {},
     "output_type": "display_data"
    }
   ],
   "source": [
    "displayIntersection(\"aids\", \"muscles\" , G = G)"
   ]
  },
  {
   "cell_type": "code",
   "execution_count": 8,
   "id": "addbd09b",
   "metadata": {},
   "outputs": [],
   "source": [
    "#TODO: display all images on the same screen"
   ]
  },
  {
   "cell_type": "markdown",
   "id": "747326d6",
   "metadata": {},
   "source": []
  }
 ],
 "metadata": {
  "kernelspec": {
   "display_name": "base",
   "language": "python",
   "name": "python3"
  },
  "language_info": {
   "codemirror_mode": {
    "name": "ipython",
    "version": 3
   },
   "file_extension": ".py",
   "mimetype": "text/x-python",
   "name": "python",
   "nbconvert_exporter": "python",
   "pygments_lexer": "ipython3",
   "version": "3.12.7"
  }
 },
 "nbformat": 4,
 "nbformat_minor": 5
}
