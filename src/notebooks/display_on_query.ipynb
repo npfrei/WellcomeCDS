{
 "cells": [
  {
   "cell_type": "markdown",
   "id": "ebfe7c3f",
   "metadata": {},
   "source": [
    "# Display images from the collection base on object query"
   ]
  },
  {
   "cell_type": "markdown",
   "id": "22da60e1",
   "metadata": {},
   "source": [
    "The user places an object on the plinth, which triggers a word and topic query."
   ]
  },
  {
   "cell_type": "code",
   "execution_count": 5,
   "id": "9a353c7a",
   "metadata": {},
   "outputs": [],
   "source": [
    "import sys\n",
    "import os\n",
    "sys.path.append(os.path.abspath(\"../\"))\n",
    "from scripts.wellcome_utils import display_images_on_query"
   ]
  },
  {
   "cell_type": "code",
   "execution_count": 6,
   "id": "d491cfaa",
   "metadata": {},
   "outputs": [],
   "source": [
    "# Manually defined for now, TODO: automate (and randomize?)\n",
    "word = \"cow\"\n",
    "topics = [\"animal\", \"milk\", \"veterinary\", \"bull\", \"farm\", \"cowshed\", \"cowboy\"]"
   ]
  },
  {
   "cell_type": "code",
   "execution_count": 7,
   "id": "bd1162c5",
   "metadata": {},
   "outputs": [
    {
     "name": "stdout",
     "output_type": "stream",
     "text": [
      "Adult cow heart.\n"
     ]
    },
    {
     "data": {
      "text/html": [
       "<img src=\"https://iiif.wellcomecollection.org/image/A0001382/full/full/0/default.jpg\"/>"
      ],
      "text/plain": [
       "<IPython.core.display.Image object>"
      ]
     },
     "metadata": {},
     "output_type": "display_data"
    },
    {
     "name": "stdout",
     "output_type": "stream",
     "text": [
      "Friesian cow calving.\n"
     ]
    },
    {
     "data": {
      "text/html": [
       "<img src=\"https://iiif.wellcomecollection.org/image/A0000005/full/full/0/default.jpg\"/>"
      ],
      "text/plain": [
       "<IPython.core.display.Image object>"
      ]
     },
     "metadata": {},
     "output_type": "display_data"
    },
    {
     "name": "stdout",
     "output_type": "stream",
     "text": [
      "Friesian cow calving\n"
     ]
    },
    {
     "data": {
      "text/html": [
       "<img src=\"https://iiif.wellcomecollection.org/image/A0000002/full/full/0/default.jpg\"/>"
      ],
      "text/plain": [
       "<IPython.core.display.Image object>"
      ]
     },
     "metadata": {},
     "output_type": "display_data"
    },
    {
     "name": "stdout",
     "output_type": "stream",
     "text": [
      "How is animal research regulated? / Understanding Animal Research.\n"
     ]
    },
    {
     "data": {
      "text/html": [
       "<img src=\"https://iiif.wellcomecollection.org/image/b1821907x_0002.jp2/full/full/0/default.jpg\"/>"
      ],
      "text/plain": [
       "<IPython.core.display.Image object>"
      ]
     },
     "metadata": {},
     "output_type": "display_data"
    },
    {
     "name": "stdout",
     "output_type": "stream",
     "text": [
      "Hints for the manufacture of milk-chocolate, bitter milk-cocoa and sweet milk-cocoa.\n"
     ]
    },
    {
     "data": {
      "text/html": [
       "<img src=\"https://iiif.wellcomecollection.org/image/b16435163_0001.jp2/full/full/0/default.jpg\"/>"
      ],
      "text/plain": [
       "<IPython.core.display.Image object>"
      ]
     },
     "metadata": {},
     "output_type": "display_data"
    },
    {
     "name": "stdout",
     "output_type": "stream",
     "text": [
      "The veterinary record.\n"
     ]
    },
    {
     "data": {
      "text/html": [
       "<img src=\"https://iiif.wellcomecollection.org/image/L0000460/full/full/0/default.jpg\"/>"
      ],
      "text/plain": [
       "<IPython.core.display.Image object>"
      ]
     },
     "metadata": {},
     "output_type": "display_data"
    },
    {
     "name": "stdout",
     "output_type": "stream",
     "text": [
      "A bull. Coloured etching.\n"
     ]
    },
    {
     "data": {
      "text/html": [
       "<img src=\"https://iiif.wellcomecollection.org/image/V0021652/full/full/0/default.jpg\"/>"
      ],
      "text/plain": [
       "<IPython.core.display.Image object>"
      ]
     },
     "metadata": {},
     "output_type": "display_data"
    },
    {
     "name": "stdout",
     "output_type": "stream",
     "text": [
      "Helwan, Egypt; farm cultivation\n"
     ]
    },
    {
     "data": {
      "text/html": [
       "<img src=\"https://iiif.wellcomecollection.org/image/N0022535/full/full/0/default.jpg\"/>"
      ],
      "text/plain": [
       "<IPython.core.display.Image object>"
      ]
     },
     "metadata": {},
     "output_type": "display_data"
    },
    {
     "name": "stdout",
     "output_type": "stream",
     "text": [
      "A cowshed, Zanzibar. Photograph, 1905/1915.\n"
     ]
    },
    {
     "data": {
      "text/html": [
       "<img src=\"https://iiif.wellcomecollection.org/image/V0030434/full/full/0/default.jpg\"/>"
      ],
      "text/plain": [
       "<IPython.core.display.Image object>"
      ]
     },
     "metadata": {},
     "output_type": "display_data"
    },
    {
     "name": "stdout",
     "output_type": "stream",
     "text": [
      "Three young men, two in drag, posing in cowboy costumes.\n"
     ]
    },
    {
     "data": {
      "text/html": [
       "<img src=\"https://iiif.wellcomecollection.org/image/B20445350_0002.JP2/full/full/0/default.jpg\"/>"
      ],
      "text/plain": [
       "<IPython.core.display.Image object>"
      ]
     },
     "metadata": {},
     "output_type": "display_data"
    }
   ],
   "source": [
    "display_images_on_query(word, nb_imgs=3)\n",
    "for topic in topics:\n",
    "    display_images_on_query(topic, nb_imgs=1)"
   ]
  },
  {
   "cell_type": "code",
   "execution_count": null,
   "id": "d3c1475b",
   "metadata": {},
   "outputs": [],
   "source": [
    "#TODO: display images on \"intersection query\""
   ]
  },
  {
   "cell_type": "code",
   "execution_count": 8,
   "id": "addbd09b",
   "metadata": {},
   "outputs": [],
   "source": [
    "#TODO: display all images on the same screen"
   ]
  },
  {
   "cell_type": "markdown",
   "id": "747326d6",
   "metadata": {},
   "source": []
  }
 ],
 "metadata": {
  "kernelspec": {
   "display_name": ".venv",
   "language": "python",
   "name": "python3"
  },
  "language_info": {
   "codemirror_mode": {
    "name": "ipython",
    "version": 3
   },
   "file_extension": ".py",
   "mimetype": "text/x-python",
   "name": "python",
   "nbconvert_exporter": "python",
   "pygments_lexer": "ipython3",
   "version": "3.13.2"
  }
 },
 "nbformat": 4,
 "nbformat_minor": 5
}
