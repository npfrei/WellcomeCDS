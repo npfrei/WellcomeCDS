{
 "cells": [
  {
   "cell_type": "markdown",
   "id": "ebfe7c3f",
   "metadata": {},
   "source": [
    "# Display images from the collection base on object query"
   ]
  },
  {
   "cell_type": "markdown",
   "id": "22da60e1",
   "metadata": {},
   "source": [
    "The user places an object on the plinth, which triggers a word and topic query."
   ]
  },
  {
   "cell_type": "code",
   "execution_count": 7,
   "id": "9a353c7a",
   "metadata": {},
   "outputs": [],
   "source": [
    "import sys\n",
    "import os\n",
    "sys.path.append(os.path.abspath(\"../\"))\n",
    "from scripts.wellcome_utils import display_images_on_query \n",
    "from scripts.wellcome_utils import get_image_list_on_query"
   ]
  },
  {
   "cell_type": "code",
   "execution_count": 8,
   "id": "d491cfaa",
   "metadata": {},
   "outputs": [],
   "source": [
    "# Manually defined for now, TODO: automate (and randomize?)\n",
    "word = \"cow\"\n",
    "topics = [\"animal\", \"milk\", \"veterinary\", \"bull\", \"farm\", \"cowshed\", \"cowboy\"]"
   ]
  },
  {
   "cell_type": "code",
   "execution_count": 9,
   "id": "bd1162c5",
   "metadata": {},
   "outputs": [
    {
     "name": "stdout",
     "output_type": "stream",
     "text": [
      "Adult cow heart.\n",
      "https://iiif.wellcomecollection.org/image/A0001382/info.json\n"
     ]
    },
    {
     "data": {
      "text/html": [
       "<img src=\"https://iiif.wellcomecollection.org/image/A0001382/full/full/0/default.jpg\"/>"
      ],
      "text/plain": [
       "<IPython.core.display.Image object>"
      ]
     },
     "metadata": {},
     "output_type": "display_data"
    },
    {
     "name": "stdout",
     "output_type": "stream",
     "text": [
      "Friesian cow calving.\n",
      "https://iiif.wellcomecollection.org/image/A0000005/info.json\n"
     ]
    },
    {
     "data": {
      "text/html": [
       "<img src=\"https://iiif.wellcomecollection.org/image/A0000005/full/full/0/default.jpg\"/>"
      ],
      "text/plain": [
       "<IPython.core.display.Image object>"
      ]
     },
     "metadata": {},
     "output_type": "display_data"
    },
    {
     "name": "stdout",
     "output_type": "stream",
     "text": [
      "Friesian cow calving\n",
      "https://iiif.wellcomecollection.org/image/A0000002/info.json\n"
     ]
    },
    {
     "data": {
      "text/html": [
       "<img src=\"https://iiif.wellcomecollection.org/image/A0000002/full/full/0/default.jpg\"/>"
      ],
      "text/plain": [
       "<IPython.core.display.Image object>"
      ]
     },
     "metadata": {},
     "output_type": "display_data"
    },
    {
     "name": "stdout",
     "output_type": "stream",
     "text": [
      "How is animal research regulated? / Understanding Animal Research.\n",
      "https://iiif.wellcomecollection.org/image/b1821907x_0002.jp2/info.json\n"
     ]
    },
    {
     "data": {
      "text/html": [
       "<img src=\"https://iiif.wellcomecollection.org/image/b1821907x_0002.jp2/full/full/0/default.jpg\"/>"
      ],
      "text/plain": [
       "<IPython.core.display.Image object>"
      ]
     },
     "metadata": {},
     "output_type": "display_data"
    },
    {
     "name": "stdout",
     "output_type": "stream",
     "text": [
      "Hints for the manufacture of milk-chocolate, bitter milk-cocoa and sweet milk-cocoa.\n",
      "https://iiif.wellcomecollection.org/image/b16435163_0001.jp2/info.json\n"
     ]
    },
    {
     "data": {
      "text/html": [
       "<img src=\"https://iiif.wellcomecollection.org/image/b16435163_0001.jp2/full/full/0/default.jpg\"/>"
      ],
      "text/plain": [
       "<IPython.core.display.Image object>"
      ]
     },
     "metadata": {},
     "output_type": "display_data"
    },
    {
     "name": "stdout",
     "output_type": "stream",
     "text": [
      "The veterinary record.\n",
      "https://iiif.wellcomecollection.org/image/L0000460/info.json\n"
     ]
    },
    {
     "data": {
      "text/html": [
       "<img src=\"https://iiif.wellcomecollection.org/image/L0000460/full/full/0/default.jpg\"/>"
      ],
      "text/plain": [
       "<IPython.core.display.Image object>"
      ]
     },
     "metadata": {},
     "output_type": "display_data"
    },
    {
     "name": "stdout",
     "output_type": "stream",
     "text": [
      "A bull. Coloured etching.\n",
      "https://iiif.wellcomecollection.org/image/V0021652/info.json\n"
     ]
    },
    {
     "data": {
      "text/html": [
       "<img src=\"https://iiif.wellcomecollection.org/image/V0021652/full/full/0/default.jpg\"/>"
      ],
      "text/plain": [
       "<IPython.core.display.Image object>"
      ]
     },
     "metadata": {},
     "output_type": "display_data"
    },
    {
     "name": "stdout",
     "output_type": "stream",
     "text": [
      "Helwan, Egypt; farm cultivation\n",
      "https://iiif.wellcomecollection.org/image/N0022535/info.json\n"
     ]
    },
    {
     "data": {
      "text/html": [
       "<img src=\"https://iiif.wellcomecollection.org/image/N0022535/full/full/0/default.jpg\"/>"
      ],
      "text/plain": [
       "<IPython.core.display.Image object>"
      ]
     },
     "metadata": {},
     "output_type": "display_data"
    },
    {
     "name": "stdout",
     "output_type": "stream",
     "text": [
      "A cowshed, Zanzibar. Photograph, 1905/1915.\n",
      "https://iiif.wellcomecollection.org/image/V0030434/info.json\n"
     ]
    },
    {
     "data": {
      "text/html": [
       "<img src=\"https://iiif.wellcomecollection.org/image/V0030434/full/full/0/default.jpg\"/>"
      ],
      "text/plain": [
       "<IPython.core.display.Image object>"
      ]
     },
     "metadata": {},
     "output_type": "display_data"
    },
    {
     "name": "stdout",
     "output_type": "stream",
     "text": [
      "Three young men, two in drag, posing in cowboy costumes.\n",
      "https://iiif.wellcomecollection.org/image/B20445350_0002.JP2/info.json\n"
     ]
    },
    {
     "data": {
      "text/html": [
       "<img src=\"https://iiif.wellcomecollection.org/image/B20445350_0002.JP2/full/full/0/default.jpg\"/>"
      ],
      "text/plain": [
       "<IPython.core.display.Image object>"
      ]
     },
     "metadata": {},
     "output_type": "display_data"
    }
   ],
   "source": [
    "display_images_on_query(word, nb_imgs=3)\n",
    "for topic in topics:\n",
    "    display_images_on_query(topic, nb_imgs=1)"
   ]
  },
  {
   "cell_type": "code",
   "execution_count": 10,
   "id": "d3c1475b",
   "metadata": {},
   "outputs": [],
   "source": [
    "#TODO: display images on \"intersection query\"\n",
    "import networkx as nx\n",
    "from scripts.images_occurences import get_Graph, display_Graph\n",
    "\n",
    "\n",
    "def displayIntersection(word1 : str, word2 : str,G, topic1 = [], topic2 = [], nb_imgs = 3 ):\n",
    "    \n",
    "    shortestPaths = dict(nx.all_pairs_shortest_path(G,2))\n",
    "\n",
    "    if(G.has_edge(word1,word2)):\n",
    "        display_images_on_query(word1 + \" \" + word2, nb_imgs=nb_imgs)\n",
    "        \n",
    "    elif(G.nodes.get(word1) != None and shortestPaths.get(word1).get(word2) != None):\n",
    "        display_images_on_query(word1 + \" \" + shortestPaths.get(word1).get(word2)[1], nb_imgs=nb_imgs)\n",
    "        display_images_on_query(word2 + \" \" + shortestPaths.get(word1).get(word2)[1], nb_imgs=nb_imgs)\n",
    "        \n",
    "        \n",
    "        \n",
    "        \n"
   ]
  },
  {
   "cell_type": "code",
   "execution_count": 11,
   "id": "17c14bca",
   "metadata": {},
   "outputs": [
    {
     "name": "stderr",
     "output_type": "stream",
     "text": [
      "[nltk_data] Downloading package punkt_tab to\n",
      "[nltk_data]     C:\\Users\\frein\\AppData\\Roaming\\nltk_data...\n",
      "[nltk_data]   Package punkt_tab is already up-to-date!\n",
      "[nltk_data] Downloading package stopwords to\n",
      "[nltk_data]     C:\\Users\\frein\\AppData\\Roaming\\nltk_data...\n",
      "[nltk_data]   Package stopwords is already up-to-date!\n"
     ]
    },
    {
     "name": "stdout",
     "output_type": "stream",
     "text": [
      "Woodcuts\n",
      "Anatomical fugitive sheets\n",
      "Wood engravings\n",
      "Posters\n",
      "Photomechanical prints\n",
      "Caricatures\n",
      "Aquatints\n",
      "Gouaches\n",
      "Intaglio prints\n",
      "Lithographs\n",
      "Portrait prints\n",
      "Biographies\n",
      "Oil paintings\n",
      "Collotypes\n",
      "Ephemera\n",
      "Engravings\n",
      "Etchings\n",
      "Book\n",
      "Drawings\n",
      "Albumen prints\n",
      "Book illustrations\n",
      "Portrait photographs\n",
      "Humorous pictures\n",
      "Almanacs\n",
      "Engraving\n",
      "Photographs\n",
      "Pencil works\n",
      "Photographic prints\n",
      "Wash drawings\n",
      "Leaflets\n",
      "Genre photographs\n",
      "Allegorical prints\n",
      "Watercolors\n",
      "Manuscript\n",
      "Chromolithographs\n",
      "Allegorical drawings\n",
      "Art brut\n",
      "Stipple engravings\n",
      "Gelatin silver prints\n",
      "Illustrated works\n",
      "Periodical illustrations\n",
      "Portrait paintings\n",
      "Soft-ground etchings\n",
      "Certificates\n",
      "Periodicals\n",
      "Photographic postcards\n",
      "Wet collodion negatives\n",
      "Incunabula\n",
      "Woodcuts - Japan\n",
      "Museum object\n",
      "Mezzotints\n",
      "Archives\n",
      "Holograph letter\n",
      "Travel sketches\n",
      "Letter\n",
      "Photogravures\n",
      "Blotting paper\n",
      "Landscape photographs\n",
      "Steel engravings\n",
      "Vanitas (Art)\n",
      "Sketches\n",
      "Postcards\n",
      "Still lifes\n",
      "Memento mori\n",
      "Photoengravings\n",
      "Cityscape photographs\n",
      "Ink drawings\n",
      "Academic dissertations - Scotland - Edinburgh\n",
      "Travel literature\n",
      "Bird's-eye views\n",
      "Glass negatives\n",
      "Platinum prints\n",
      "Portrait drawings\n",
      "Trial proceedings\n",
      "Title pages\n",
      "Pamphlets\n",
      "Halftone photomechanical prints\n",
      "Letter pictures\n",
      "Membership lists\n",
      "Votive offerings\n",
      "Icons\n",
      "Photograph albums\n",
      "Waterscape photographs\n",
      "Oil sketches\n",
      "Waterscape prints\n",
      "Periodical\n",
      "Sandals\n",
      "Screen prints\n",
      "Manufacturers' catalogues\n",
      "Museum catalogues\n",
      "Broadsheet\n",
      "Icons, Russian\n",
      "Cityscape prints\n",
      "Bibliographies\n",
      "Ironwork\n",
      "Panoramic views\n",
      "Tankas (Tibetan scrolls)\n",
      "Magazine covers\n",
      "Clippings\n",
      "Group portraits\n",
      "Painting, Kalighat\n",
      "Landscape prints\n",
      "Collected works\n",
      "Papier-m�ch�\n",
      "Floor plans\n",
      "Pamphlet\n",
      "Manuscripts\n",
      "Statistics\n",
      "Cartoons (Working drawings)\n",
      "Labels\n",
      "Chalk drawings\n",
      "Memoirs\n",
      "Tempera paintings\n",
      "Cartes de visite\n",
      "Advertisements\n",
      "Allegorical paintings\n",
      "Singerie (Art)\n",
      "Academic dissertations\n",
      "Erotica\n",
      "Closet doors\n",
      "Distemper painting\n",
      "Electronic journals\n",
      "Exhibition posters\n",
      "Graphite drawings\n",
      "Menus\n",
      "Figure drawings\n",
      "Broadsides\n",
      "Line photoengravings\n",
      "Letterpress works\n",
      "Photolithographs\n",
      "Metal sculpture\n",
      "Goigs\n",
      "Postcard\n",
      "Atlases (Scientific)\n",
      "Portrait sculpture\n",
      "Ivory carving\n",
      "Exploration literature\n",
      "Poems\n",
      "Bird's-eye view prints\n",
      "Print\n",
      "Landscape drawings\n",
      "Prints\n",
      "Calendars\n",
      "Painting\n",
      "Collected correspondence\n",
      "Editorial cartoons\n",
      "Collages\n",
      "Crayon manner prints\n",
      "Self-portraits\n",
      "Programs\n",
      "Festschriften\n",
      "Catalogue\n",
      "Charts\n",
      "Trade cards\n",
      "Postal stationery\n",
      "Bronze sculpture\n",
      "Albums\n",
      "Relief prints\n",
      "Badges\n",
      "Case studies\n",
      "Inscriptions\n",
      "Photocopies\n",
      "Charcoal drawings\n",
      "Frontispieces\n",
      "Trade catalogues\n",
      "Manuscripts - Chinese\n",
      "Window cards\n",
      "Song sheet\n",
      "Herbals\n",
      "Boxes\n",
      "Wood sculpture\n",
      "Lectures\n",
      "Stereographs\n",
      "Scrapbooks\n",
      "Satires (Visual works)\n",
      "Narratives\n",
      "Conference proceedings\n",
      "Pastels (Visual works)\n",
      "Anatomical atlases\n",
      "Pharmacopoeias\n",
      "Bookplates\n",
      "Still life photographs\n",
      "Annual reports\n",
      "Crayon drawings\n",
      "Portraits\n",
      "Advertising cards\n",
      "Design drawings\n",
      "Acrylic paintings\n",
      "Maps\n",
      "Diagrams\n",
      "Pictorial envelopes\n",
      "Forms (Documents)\n",
      "Paintings\n",
      "Indexes\n",
      "Daguerreotypes\n",
      "Trade card\n",
      "Illustrations\n",
      "Proclamations\n",
      "Letters\n",
      "Catalogues\n",
      "Unfinished works of art\n",
      "Cut-paper works\n",
      "Stationery\n",
      "Album\n",
      "Armorial bindings\n",
      "Letterheads\n",
      "Rubbings\n",
      "Patents\n",
      "Cityscape drawings\n",
      "Teaching Materials\n",
      "Icons, Greek\n",
      "{'icons, greek', 'diagram', 'landscape drawing', 'singerie (art)', 'photocopie', 'portrait photograph', 'teaching material', 'travel sketche', 'bookplate', 'narrative', 'book', 'editorial cartoon', 'certificate', 'letterhead', 'blotting paper', 'album', 'collected correspondence', 'title page', 'photograph album', 'art brut', 'wood sculpture', 'membership list', 'photolithograph', 'wood engraving', 'ephemera', 'portrait', 'stipple engraving', 'festschriften', 'waterscape photograph', 'pictorial envelope', 'intaglio print', 'screen print', 'letter picture', 'ivory carving', 'soft-ground etching', 'graphite drawing', 'forms (documents)', 'painting', 'poster', 'ink drawing', 'sandal', 'atlases (scientific)', 'pamphlet', 'photoengraving', 'herbal', 'still life photograph', 'humorous picture', 'leaflet', 'metal sculpture', 'satires (visual works)', 'group portrait', 'gouache', \"bird's-eye view print\", 'memoir', 'allegorical drawing', 'indexe', 'collage', 'anatomical fugitive sheet', 'photographic print', 'case studie', 'electronic journal', 'crayon drawing', 'collected work', 'daguerreotype', 'oil sketche', 'albumen print', 'collotype', 'papier-m�ch�', 'cartes de visite', 'exploration literature', 'advertising card', 'unfinished works of art', 'bibliographie', 'annual report', 'book illustration', 'periodical illustration', 'portrait painting', 'magazine cover', 'biographie', 'still life', 'chalk drawing', 'letter', 'photogravure', 'stereograph', 'woodcut', 'portrait print', 'cityscape photograph', 'landscape print', 'lithograph', 'frontispiece', 'menu', 'portrait drawing', 'proclamation', 'pencil work', 'allegorical print', 'engraving', 'allegorical painting', 'museum object', 'inscription', 'advertisement', 'halftone photomechanical print', 'window card', 'photomechanical print', 'wash drawing', 'manuscript', 'trial proceeding', 'votive offering', 'photographic postcard', 'etching', 'photograph', 'distemper painting', 'exhibition poster', 'sketche', 'museum catalogue', 'woodcuts - japan', 'archive', \"bird's-eye view\", 'bronze sculpture', 'pastels (visual works)', 'stationery', 'manuscripts - chinese', 'platinum print', 'trade card', 'patent', 'broadside', 'memento mori', 'holograph letter', 'periodical', 'anatomical atlase', 'academic dissertations - scotland - edinburgh', 'label', 'chromolithograph', 'chart', 'crayon manner print', 'relief print', 'charcoal drawing', 'drawing', 'vanitas (art)', 'erotica', 'icon', 'illustrated work', 'caricature', 'poem', 'travel literature', 'lecture', 'calendar', 'wet collodion negative', 'painting, kalighat', 'figure drawing', 'mezzotint', 'landscape photograph', 'postcard', 'boxe', 'trade catalogue', 'pharmacopoeia', 'icons, russian', 'map', 'statistic', 'scrapbook', 'academic dissertation', 'glass negative', 'design drawing', 'cityscape print', 'incunabula', 'cityscape drawing', 'line photoengraving', 'floor plan', 'tempera painting', 'tankas (tibetan scrolls)', 'self-portrait', 'clipping', 'steel engraving', 'print', 'watercolor', 'illustration', 'rubbing', 'waterscape print', 'program', 'broadsheet', 'cut-paper work', 'genre photograph', \"manufacturers' catalogue\", 'armorial binding', 'closet door', 'almanac', 'letterpress work', 'portrait sculpture', 'acrylic painting', 'aquatint', 'ironwork', 'song sheet', 'oil painting', 'goig', 'conference proceeding', 'postal stationery', 'cartoons (working drawings)', 'catalogue', 'gelatin silver print', 'panoramic view', 'badge'}\n",
      "a\n",
      "a\n",
      "a\n",
      "a\n",
      "a\n",
      "a\n",
      "a\n",
      "a\n",
      "a\n",
      "a\n",
      "a\n",
      "a\n",
      "a\n",
      "a\n",
      "a\n",
      "a\n",
      "a\n",
      "a\n",
      "a\n",
      "a\n",
      "a\n",
      "a\n",
      "a\n",
      "a\n",
      "a\n",
      "a\n",
      "a\n",
      "a\n",
      "a\n",
      "a\n",
      "a\n",
      "a\n",
      "a\n",
      "a\n",
      "a\n",
      "a\n",
      "a\n",
      "a\n",
      "a\n",
      "a\n",
      "a\n",
      "a\n",
      "a\n",
      "a\n",
      "a\n",
      "a\n",
      "a\n",
      "a\n",
      "a\n",
      "a\n",
      "a\n",
      "a\n",
      "a\n",
      "a\n",
      "a\n",
      "a\n",
      "a\n",
      "a\n",
      "a\n",
      "a\n",
      "a\n",
      "a\n",
      "a\n",
      "a\n",
      "a\n",
      "a\n",
      "a\n",
      "a\n",
      "a\n",
      "a\n",
      "a\n",
      "a\n",
      "a\n",
      "a\n",
      "a\n",
      "a\n",
      "a\n",
      "a\n",
      "a\n",
      "a\n",
      "a\n",
      "a\n",
      "a\n",
      "a\n",
      "a\n",
      "a\n",
      "a\n",
      "a\n",
      "a\n",
      "a\n",
      "a\n",
      "a\n",
      "a\n",
      "a\n",
      "a\n",
      "a\n",
      "a\n",
      "a\n",
      "a\n",
      "a\n",
      "Parsing the data...Done\n"
     ]
    },
    {
     "data": {
      "text/html": [
       "\n",
       "        <iframe\n",
       "            width=\"100%\"\n",
       "            height=\"650\"\n",
       "            src=\"http://127.0.0.1:8050/\"\n",
       "            frameborder=\"0\"\n",
       "            allowfullscreen\n",
       "            \n",
       "        ></iframe>\n",
       "        "
      ],
      "text/plain": [
       "<IPython.lib.display.IFrame at 0x18e29afac90>"
      ]
     },
     "metadata": {},
     "output_type": "display_data"
    }
   ],
   "source": [
    "G = get_Graph()\n",
    "display_Graph(G)"
   ]
  },
  {
   "cell_type": "code",
   "execution_count": 12,
   "id": "6ebcabba",
   "metadata": {},
   "outputs": [
    {
     "name": "stdout",
     "output_type": "stream",
     "text": [
      "Two world globes advertising World AIDS day. Colour lithograph.\n",
      "https://iiif.wellcomecollection.org/image/b16668601_l0052269.jp2/info.json\n"
     ]
    },
    {
     "data": {
      "text/html": [
       "<img src=\"https://iiif.wellcomecollection.org/image/b16668601_l0052269.jp2/full/full/0/default.jpg\"/>"
      ],
      "text/plain": [
       "<IPython.core.display.Image object>"
      ]
     },
     "metadata": {},
     "output_type": "display_data"
    },
    {
     "name": "stdout",
     "output_type": "stream",
     "text": [
      "Two male gay couples and two heterosexual couples embrace representing safe sex and AIDS; advertisment about information on HIV/AIDS by the San Francisco AIDS Foundation. Lithograph by Warwick May.\n",
      "https://iiif.wellcomecollection.org/image/b1667568x_l0052142.jp2/info.json\n"
     ]
    },
    {
     "data": {
      "text/html": [
       "<img src=\"https://iiif.wellcomecollection.org/image/b1667568x_l0052142.jp2/full/full/0/default.jpg\"/>"
      ],
      "text/plain": [
       "<IPython.core.display.Image object>"
      ]
     },
     "metadata": {},
     "output_type": "display_data"
    },
    {
     "name": "stdout",
     "output_type": "stream",
     "text": [
      "Two men in vests embrace; advertisement for the Stop AIDS Project. Lithograph.\n",
      "https://iiif.wellcomecollection.org/image/b16674741_l0052125.jp2/info.json\n"
     ]
    },
    {
     "data": {
      "text/html": [
       "<img src=\"https://iiif.wellcomecollection.org/image/b16674741_l0052125.jp2/full/full/0/default.jpg\"/>"
      ],
      "text/plain": [
       "<IPython.core.display.Image object>"
      ]
     },
     "metadata": {},
     "output_type": "display_data"
    },
    {
     "name": "stdout",
     "output_type": "stream",
     "text": [
      "Nerves and muscles of the legs: two figures. Lithograph by N.H Jacob, 1831/1854.\n",
      "https://iiif.wellcomecollection.org/image/V0008444/info.json\n"
     ]
    },
    {
     "data": {
      "text/html": [
       "<img src=\"https://iiif.wellcomecollection.org/image/V0008444/full/full/0/default.jpg\"/>"
      ],
      "text/plain": [
       "<IPython.core.display.Image object>"
      ]
     },
     "metadata": {},
     "output_type": "display_data"
    },
    {
     "name": "stdout",
     "output_type": "stream",
     "text": [
      "Dissection of muscles and blood-vessels of the upper arm: two figures. Coloured lithograph by J. Maclise, 1851.\n",
      "https://iiif.wellcomecollection.org/image/V0008532/info.json\n"
     ]
    },
    {
     "data": {
      "text/html": [
       "<img src=\"https://iiif.wellcomecollection.org/image/V0008532/full/full/0/default.jpg\"/>"
      ],
      "text/plain": [
       "<IPython.core.display.Image object>"
      ]
     },
     "metadata": {},
     "output_type": "display_data"
    },
    {
     "name": "stdout",
     "output_type": "stream",
     "text": [
      "Bones and muscles of the head and neck: two écorché figures. Pen and ink, by C. Landseer, ca. 1815.\n",
      "https://iiif.wellcomecollection.org/image/V0008250EL/info.json\n"
     ]
    },
    {
     "data": {
      "text/html": [
       "<img src=\"https://iiif.wellcomecollection.org/image/V0008250EL/full/full/0/default.jpg\"/>"
      ],
      "text/plain": [
       "<IPython.core.display.Image object>"
      ]
     },
     "metadata": {},
     "output_type": "display_data"
    },
    {
     "name": "stdout",
     "output_type": "stream",
     "text": [
      "No trigger\n"
     ]
    }
   ],
   "source": [
    "displayIntersection(\"aids\", \"muscles\" , G = G)"
   ]
  },
  {
   "cell_type": "code",
   "execution_count": 28,
   "id": "28720dbd",
   "metadata": {},
   "outputs": [],
   "source": [
    "import json\n",
    "def get_json_graph_to_display(words: list[str], G2, nb_img_per_query=5):\n",
    "    query = \"\"\n",
    "    imageList = []\n",
    "    roots = []\n",
    "    \n",
    "    if (len(words ) == 1):\n",
    "        query = words[0]\n",
    "        imageList = get_image_list_on_query(query, nb_img_per_query)\n",
    "        return (dict({\"node\" : query, \"children\":imageList}))\n",
    "            \n",
    "    elif(len(words)==2):\n",
    "        query = words[0] \n",
    "        imageList = get_image_list_on_query(query, nb_img_per_query)\n",
    "        roots.append(dict({\"node\" : query, \"children\":imageList}))\n",
    "        query = words[1]\n",
    "        imageList = get_image_list_on_query(query, nb_img_per_query)\n",
    "        roots.append(dict({\"node\" : query, \"children\":imageList}))\n",
    "        shortestPaths = dict(nx.all_pairs_shortest_path(G2,2))\n",
    "        word1 = words[0]\n",
    "        word2 = words[1]\n",
    "        if(G2.has_edge(word1,word2)):\n",
    "            query = word1 + \" \" + word2\n",
    "            imageList = roots + get_image_list_on_query(query, nb_imgs=nb_img_per_query)\n",
    "            return dict({\"node\" : query, \"children\":imageList.append(roots)})\n",
    "        elif(G2.nodes.get(word1) != None and shortestPaths.get(word1).get(word2) != None):\n",
    "            query = word1 + \" \" + shortestPaths.get(word1).get(word2)[1]\n",
    "            imageList = roots +get_image_list_on_query(query , nb_imgs=nb_img_per_query//2)\n",
    "            \n",
    "            query2 = word2 + \" \" + shortestPaths.get(word1).get(word2)[1]    \n",
    "            imageList = imageList+get_image_list_on_query(query2, nb_imgs=nb_img_per_query-nb_img_per_query//2)\n",
    "            print(imageList)\n",
    "            return dict({\"node\" : query+query2, \"children\":imageList})\n",
    "        else:\n",
    "            shortestPaths = dict(nx.all_pairs_shortest_path(G2,3))\n",
    "            if(shortestPaths.get(word1).get(word2) != None):\n",
    "                path1 = G2.get_edge_data(word1, shortestPaths.get(word1).get(word2)[1])\n",
    "                path2 = G2.get_edge_data(word2 ,shortestPaths.get(word1).get(word2)[2])\n",
    "                word3 = shortestPaths.get(word1).get(word2)[1] if path1.get(\"weight\")>path2.get(\"weight\") else shortestPaths.get(word1).get(word2)[2]\n",
    "                \n",
    "                query = word1 + \" \" + word3\n",
    "                imageList = roots + get_image_list_on_query(query , nb_imgs=nb_img_per_query//2)\n",
    "                \n",
    "                query2 = word2 + \" \" + word3   \n",
    "                imageList = imageList+get_image_list_on_query(query2, nb_imgs=nb_img_per_query-nb_img_per_query//2)\n",
    "                print(imageList)\n",
    "\n",
    "                return dict({\"node\" : query+query2, \"children\":imageList})\n",
    "                \n",
    "    \n",
    "def get_graph_to_display(words: list[str],G2, nb_img_per_query=5):\n",
    "    query = \"\"\n",
    "    imageList = []\n",
    "    G = nx.Graph() \n",
    "    if (len(words ) == 1):\n",
    "        query = words[0]\n",
    "        imageList = get_image_list_on_query(query, nb_img_per_query)\n",
    "        for image in imageList :\n",
    "          \n",
    "            G.add_edge(query, image.get(\"url\"),weight =  1)   \n",
    "    elif(len(words)==2):\n",
    "        query = words[0] \n",
    "        imageList = get_image_list_on_query(query, nb_img_per_query)\n",
    "        for image in imageList :\n",
    "            G.add_edge(query, image.get(\"url\"),weight =  1)\n",
    "        query = words[1]\n",
    "        imageList = get_image_list_on_query(query, nb_img_per_query)\n",
    "        for image in imageList :\n",
    "            G.add_edge(query, image.get(\"url\"),weight =  1)\n",
    "            \n",
    "        shortestPaths = dict(nx.all_pairs_shortest_path(G2,2))\n",
    "        word1 = words[0]\n",
    "        word2 = words[1]\n",
    "        if(G2.has_edge(word1,word2)):\n",
    "            query = word1 + \" \" + word2\n",
    "            imageList = get_image_list_on_query(query, nb_imgs=nb_img_per_query)\n",
    "            for image in imageList :\n",
    "                G.add_edge(query, image.get(\"url\"),weight =  1)\n",
    "        elif(G2.nodes.get(word1) != None and shortestPaths.get(word1).get(word2) != None):\n",
    "            query = word1 + \" \" + shortestPaths.get(word1).get(word2)[1]\n",
    "            imageList = get_image_list_on_query(query , nb_imgs=nb_img_per_query)\n",
    "            for image in imageList :\n",
    "                G.add_edge(query, image.get(\"url\"),weight =  1)\n",
    "            query = word2 + \" \" + shortestPaths.get(word1).get(word2)[1]    \n",
    "            imageList = get_image_list_on_query(query, nb_imgs=nb_img_per_query)\n",
    "            for image in imageList :\n",
    "                G.add_edge(query, image.get(\"url\"),weight =  1)\n",
    "    return G\n",
    "def write_to_json(file, graph):\n",
    "    stream = json.dumps(graph)\n",
    "    with open(\"../../data/\"+file, \"w\") as outfile:\n",
    "        outfile.write(stream)\n",
    "    \n",
    "    \n",
    "     "
   ]
  },
  {
   "cell_type": "code",
   "execution_count": 29,
   "id": "05256497",
   "metadata": {},
   "outputs": [
    {
     "name": "stdout",
     "output_type": "stream",
     "text": [
      "[{'node': 'aids', 'children': [{'url': 'https://iiif.wellcomecollection.org/image/b2866209x_0002.jp2/full/full/0/default.jpg', 'id': 'tvpwnem5'}, {'url': 'https://iiif.wellcomecollection.org/image/N0038253/full/full/0/default.jpg', 'id': 'nez3uh3e'}, {'url': 'https://iiif.wellcomecollection.org/image/b16714131_l0052751.jp2/full/full/0/default.jpg', 'id': 'b4y7kcy9'}, {'url': 'https://iiif.wellcomecollection.org/image/b28672264_0001.jp2/full/full/0/default.jpg', 'id': 'y9354ea5'}, {'url': 'https://iiif.wellcomecollection.org/image/b28671703_0001.jp2/full/full/0/default.jpg', 'id': 'jpbg8q2d'}]}, {'node': 'saint', 'children': [{'url': 'https://iiif.wellcomecollection.org/image/V0033206/full/full/0/default.jpg', 'id': 'em9ypbvz'}, {'url': 'https://iiif.wellcomecollection.org/image/V0033198/full/full/0/default.jpg', 'id': 'bk8p8wqd'}, {'url': 'https://iiif.wellcomecollection.org/image/V0009221/full/full/0/default.jpg', 'id': 'dxvzajju'}, {'url': 'https://iiif.wellcomecollection.org/image/V0034129/full/full/0/default.jpg', 'id': 'gb356tdn'}, {'url': 'https://iiif.wellcomecollection.org/image/L0020486/full/full/0/default.jpg', 'id': 'jgy8vfuv'}]}, {'url': 'https://iiif.wellcomecollection.org/image/b16679908_l0052408.jp2/full/full/0/default.jpg', 'id': 'csfzst6z'}, {'url': 'https://iiif.wellcomecollection.org/image/b16764730_L0054071.JP2/full/full/0/default.jpg', 'id': 't78y8epz'}, {'url': 'https://iiif.wellcomecollection.org/image/V0031990/full/full/0/default.jpg', 'id': 'qq5qt9k6'}, {'url': 'https://iiif.wellcomecollection.org/image/V0033568/full/full/0/default.jpg', 'id': 'qrknhbr9'}, {'url': 'https://iiif.wellcomecollection.org/image/V0032448/full/full/0/default.jpg', 'id': 'zvvkxm3r'}]\n"
     ]
    }
   ],
   "source": [
    "import json\n",
    "j = get_json_graph_to_display([\"aids\", \"saint\"], G)\n",
    "write_to_json(\"aidssaint.json\", j)\n",
    "  "
   ]
  },
  {
   "cell_type": "code",
   "execution_count": 29,
   "id": "0fb84d73",
   "metadata": {},
   "outputs": [
    {
     "name": "stdout",
     "output_type": "stream",
     "text": [
      "Parsing the data...Done\n"
     ]
    },
    {
     "data": {
      "text/html": [
       "\n",
       "        <iframe\n",
       "            width=\"100%\"\n",
       "            height=\"650\"\n",
       "            src=\"http://127.0.0.1:8050/\"\n",
       "            frameborder=\"0\"\n",
       "            allowfullscreen\n",
       "            \n",
       "        ></iframe>\n",
       "        "
      ],
      "text/plain": [
       "<IPython.lib.display.IFrame at 0x1c8118458b0>"
      ]
     },
     "metadata": {},
     "output_type": "display_data"
    },
    {
     "name": "stdout",
     "output_type": "stream",
     "text": [
      "No trigger\n"
     ]
    }
   ],
   "source": [
    "G_img = get_graph_to_display([\"aids\", \"muscles\"], G)\n",
    "display_Graph(G_img)"
   ]
  },
  {
   "cell_type": "code",
   "execution_count": 30,
   "id": "addbd09b",
   "metadata": {},
   "outputs": [
    {
     "name": "stdout",
     "output_type": "stream",
     "text": [
      "Parsing the data...Done\n"
     ]
    },
    {
     "data": {
      "text/html": [
       "\n",
       "        <iframe\n",
       "            width=\"100%\"\n",
       "            height=\"650\"\n",
       "            src=\"http://127.0.0.1:8050/\"\n",
       "            frameborder=\"0\"\n",
       "            allowfullscreen\n",
       "            \n",
       "        ></iframe>\n",
       "        "
      ],
      "text/plain": [
       "<IPython.lib.display.IFrame at 0x1c817c3a420>"
      ]
     },
     "metadata": {},
     "output_type": "display_data"
    },
    {
     "name": "stdout",
     "output_type": "stream",
     "text": [
      "No trigger\n"
     ]
    }
   ],
   "source": [
    "G_img = get_graph_to_display([\"aids\"], G)\n",
    "display_Graph(G_img)"
   ]
  },
  {
   "cell_type": "markdown",
   "id": "747326d6",
   "metadata": {},
   "source": []
  }
 ],
 "metadata": {
  "kernelspec": {
   "display_name": "base",
   "language": "python",
   "name": "python3"
  },
  "language_info": {
   "codemirror_mode": {
    "name": "ipython",
    "version": 3
   },
   "file_extension": ".py",
   "mimetype": "text/x-python",
   "name": "python",
   "nbconvert_exporter": "python",
   "pygments_lexer": "ipython3",
   "version": "3.12.7"
  }
 },
 "nbformat": 4,
 "nbformat_minor": 5
}
