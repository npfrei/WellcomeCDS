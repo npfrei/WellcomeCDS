{
 "cells": [
  {
   "cell_type": "markdown",
   "id": "b33c69f2",
   "metadata": {},
   "source": [
    "# Embedding of the Collection\n",
    "\n",
    "In this notebook we aim to epmbedd the entire collection to retrieve topics and words that can describe in different ways the collection. The final goal of the embedding is to define the objects that will be used for the final bucket of curiosity."
   ]
  },
  {
   "cell_type": "markdown",
   "id": "e3b45d69",
   "metadata": {},
   "source": [
    "## 1) Data extraction: working with images from the Wellcome collection"
   ]
  },
  {
   "cell_type": "code",
   "execution_count": 25,
   "id": "8cd1adef",
   "metadata": {},
   "outputs": [],
   "source": [
    "import sys\n",
    "import os\n",
    "sys.path.append(os.path.abspath(\"../\"))\n",
    "from scripts.wellcome_utils import fetch_images, fetch_specific_image, fetch_specific_work, fetch_works\n",
    "\n",
    "from pathlib import Path\n",
    "from tqdm.auto import tqdm\n",
    "import gzip\n",
    "import json\n",
    "import requests\n",
    "import pandas as pd"
   ]
  },
  {
   "cell_type": "code",
   "execution_count": 26,
   "id": "c369db1d",
   "metadata": {},
   "outputs": [],
   "source": [
    "# Download the Names of the Works in the Wellcome Collection\n",
    "# https://developers.wellcomecollection.org/docs/examples/extracting-features-from-text\n",
    "import shutil\n",
    "\n",
    "snapshot_url = \"https://data.wellcomecollection.org/catalogue/v2/images.json.gz\"\n",
    "\n",
    "data_dir = Path(\"../../data\").resolve()\n",
    "data_dir.mkdir(exist_ok=True)\n",
    "\n",
    "file_name = Path(snapshot_url).parts[-1]\n",
    "zipped_path = data_dir / file_name\n",
    "unzipped_path = zipped_path.with_suffix(\"\")\n",
    "\n",
    "\n",
    "if not unzipped_path.exists():\n",
    "    if not zipped_path.exists():\n",
    "        r = requests.get(snapshot_url, stream=True)\n",
    "        download_progress_bar = tqdm(\n",
    "            unit=\"B\",\n",
    "            total=int(r.headers[\"Content-Length\"]),\n",
    "            desc=f\"downloading {file_name}\",\n",
    "        )\n",
    "        with open(zipped_path, \"wb\") as f:\n",
    "            for chunk in r.iter_content(chunk_size=1024):\n",
    "                if chunk:\n",
    "                    f.write(chunk)\n",
    "                    download_progress_bar.update(len(chunk))\n",
    "\n",
    "    with gzip.open(zipped_path, \"rb\") as f_in:\n",
    "        with open(unzipped_path, \"wb\") as f_out:\n",
    "            unzip_progress_bar = tqdm(\n",
    "                unit=\"B\",\n",
    "                total=zipped_path.stat().st_size,\n",
    "                desc=f\"unzipping {file_name}\",\n",
    "            )\n",
    "            while True:\n",
    "                chunk = f_in.read(1024)\n",
    "                if not chunk:\n",
    "                    break\n",
    "                f_out.write(chunk)\n",
    "                unzip_progress_bar.update(len(chunk))\n"
   ]
  },
  {
   "cell_type": "code",
   "execution_count": 27,
   "id": "67fe6202",
   "metadata": {},
   "outputs": [
    {
     "name": "stdout",
     "output_type": "stream",
     "text": [
      "Total images: 128885\n",
      "Total image ids and titles: 128885\n"
     ]
    }
   ],
   "source": [
    "# Opening the entire archive won't fit into memory: read 1 line at a time\n",
    "\n",
    "total_metadata_images = []\n",
    "image_ids = []\n",
    "image_titles = []\n",
    "\n",
    "with open(unzipped_path, \"r\", encoding=\"utf-8\") as f:\n",
    "    for line in f:\n",
    "        record = json.loads(line)\n",
    "        total_metadata_images.append(record)\n",
    "        image_ids.append(record[\"source\"]['id'])\n",
    "        image_titles.append(record[\"source\"]['title'])\n",
    "\n",
    "images_id_title = pd.DataFrame({\n",
    "    \"ids\": image_ids,\n",
    "    \"titles\": image_titles\n",
    "})\n",
    "\n",
    "print(f\"Total images: {len(total_metadata_images)}\")\n",
    "print(f\"Total image ids and titles: {len(images_id_title)}\")"
   ]
  },
  {
   "cell_type": "code",
   "execution_count": 28,
   "id": "0f1f7d6a",
   "metadata": {},
   "outputs": [
    {
     "data": {
      "application/vnd.microsoft.datawrangler.viewer.v0+json": {
       "columns": [
        {
         "name": "index",
         "rawType": "int64",
         "type": "integer"
        },
        {
         "name": "ids",
         "rawType": "object",
         "type": "string"
        },
        {
         "name": "titles",
         "rawType": "object",
         "type": "string"
        }
       ],
       "conversionMethod": "pd.DataFrame",
       "ref": "d1d32ce9-f8dd-4af2-aac7-23e7cda4a171",
       "rows": [
        [
         "0",
         "nf7cjmsg",
         "Hypertensive, vascular disease"
        ],
        [
         "1",
         "ycj8m76a",
         "Thomas Linacre. Photogravure after Q. Metsys."
        ],
        [
         "2",
         "uwjy4qtv",
         "A man in a monk's habit is buried alive with a Jesuit priest and spectators bearing halberds looking on. Etching."
        ],
        [
         "3",
         "g8ed63dg",
         "Goddess Isis feeding Horus, wall relief"
        ],
        [
         "4",
         "tfm3zjpu",
         "Gin Lane by William Hogarth."
        ],
        [
         "5",
         "gsvd6xpr",
         "The funeral of the Duke of Wellington in St. Paul's Cathedral in 1852. Wood engraving by J.L. Williams, 1852."
        ],
        [
         "6",
         "gw75ap3s",
         "Equipment for the game of real tennis. Engraving by Benard after Lucotte."
        ],
        [
         "7",
         "hjtn5aqb",
         "West Midlands Tuberculosis sanatoria and public information"
        ],
        [
         "8",
         "ncczkpq7",
         "Page from an Arabic Text"
        ],
        [
         "9",
         "vszzcjgp",
         "Apparatus used by Galvani - small plate electrostatic machine"
        ],
        [
         "10",
         "t5fdt7uk",
         "Testing diabetic dog urine sample."
        ],
        [
         "11",
         "ngpznm43",
         "Nouveau manuel complet de l'observateur au microscope / [Félix Dujardin]."
        ],
        [
         "12",
         "m58nmkc3",
         "Formosa [Taiwan]. Photograph, 1981, after a negative by John Thomson, 1871."
        ],
        [
         "13",
         "u9qxpu22",
         "Astronomy: various apocalyptic scenes, including Napoleon III, a funeral, a flood, and a battle in Africa. Coloured lithograph, [c.1857?]."
        ],
        [
         "14",
         "haqz47e3",
         "Charles Brodie Sewell's Travel Journal"
        ],
        [
         "15",
         "d3nead3v",
         "Sir Robert John Kane. Stipple engraving by S. Freeman after G. F. Mulvany."
        ],
        [
         "16",
         "bz48rjxm",
         "Matthew Hopkins, Witchfinder general. Etching."
        ],
        [
         "17",
         "dbhgm3q5",
         "Shanghai: three Chinese women prisoners locked at the neck into one cangue (portable pillory). Photograph, 18--."
        ],
        [
         "18",
         "zucnm2qa",
         "Quassia Amara"
        ],
        [
         "19",
         "sshptwsg",
         "Old Boots, an eccentric shoe shiner. Engraving by R. Cooper, 1821."
        ],
        [
         "20",
         "s5r77dy7",
         "The coast of a land mass with sea viewed from above; advertising an international exhibition of AIDS posters. Colour lithograph by Intégral Ruedi Baur et Associés."
        ],
        [
         "21",
         "rukh7bsw",
         "An experiment; led to the \"brown dog\" vivisection dispute."
        ],
        [
         "22",
         "n2bvttqq",
         "An artificially manufactured version of a goa stone found inside the stomachs of an animal (bezoar stones) and its case. Made in India from a paste of clay, crushed shell, amber, musk and resin and used for numerous complaints such as poisons"
        ],
        [
         "23",
         "nkddg2tt",
         "A woman roller-skating has springs attached to her front and back for protection as all others are falling over on the ice. Wood engraving, 18--."
        ],
        [
         "24",
         "wnkbznwq",
         "A burial place on Tongatapu, Tonga. Engraving by W. Byrne, 1777, after W. Hodges, 1773 or 1774."
        ],
        [
         "25",
         "nrppzpxc",
         "A woman coughing or sneezing without a handkerchief in a draper's shop. Lithograph after H.M. Bateman."
        ],
        [
         "26",
         "tzp3p9yj",
         "Two women stroke the face of a man bearing the words 'Play boy' on his t-shirt with 2 other couples sitting on benches looking on from either side; an AIDS prevention advertisement by the International Planned Parenthood Federation and Planned Parenthood Association of Sierra Leone. Colour lithograph, ca. 1996."
        ],
        [
         "27",
         "h8aja9h3",
         "Letter from David Livingstone 1841 to 1865"
        ],
        [
         "28",
         "xved9qtz",
         "Cranio-facial injury: a French soldier with injuries to the mouth and chin, wearing a metal brace inside his mouth: before plastic surgery. Photograph, 1916."
        ],
        [
         "29",
         "uj4yqnjk",
         "A large vehicle (Phoebus's cart), on which is an electrical generator, being pulled along by winged horses with light bulbs on their heads: electricity sweeps all before it. Wood engraving by Swain, 1881, after J. Tenniel."
        ],
        [
         "30",
         "durazu22",
         "Two fans, one coloured green and open bearing photographs of children and couples, the other purple and closed bearing a photograph of a naked woman crouching by an open window, a fist and a used condom; an advertisement for volunteers working on the AIDS cause by Actua Mollet. Colour lithograph by Isabel Real Gayo and ICS &ICS Publicitat-Mollet, 1995."
        ],
        [
         "31",
         "ja3ud6da",
         "William Henry Howell. Photograph."
        ],
        [
         "32",
         "wf4auzyf",
         "The Stern Apotheke, Nuremberg."
        ],
        [
         "33",
         "wxu8e7gb",
         "Two types of buttercup (Ranunculus species): entire flowering plants. Coloured etching by C. Pierre, c. 1865, after P. Naudin."
        ],
        [
         "34",
         "a9w6nt3n",
         "Florence Nightingale. Coloured lithograph by R. J. Lane, 1854."
        ],
        [
         "35",
         "ghjjvqzp",
         "Chinese manuscript Hsiao-ching p'ang-hsun."
        ],
        [
         "36",
         "cm4sgveu",
         "Evolution of Measures for the Nation's Health."
        ],
        [
         "37",
         "cpg78pwp",
         "Dissection of the groin and lower abdomen of a man, with the muscles and blood vessels indicated. Colour lithograph by G.H. Ford, 1865."
        ],
        [
         "38",
         "pgznqxr5",
         "Internal structure of the lungs, 3D printed plastic"
        ],
        [
         "39",
         "yawmn692",
         "Cover and title label of 'Cerebri anatome..'"
        ],
        [
         "40",
         "htjbtrnb",
         "Premature baby in an incubator."
        ],
        [
         "41",
         "vgav27td",
         "A horse's foot being held up inadequately."
        ],
        [
         "42",
         "katmz6ag",
         "A besotted physician asks his young patient to cure him of his heartache. Coloured lithograph after C. Philipon, c. 1830."
        ],
        [
         "43",
         "kchve5p2",
         "Tooth surface, accretions around bacteria"
        ],
        [
         "44",
         "pfk9wqye",
         "Male anti-masturbation devices"
        ],
        [
         "45",
         "x33js8kg",
         "\"The druids; or the conversion of the Britons to Christianity\". Etching by A. Walker, 1758, after F. Hayman."
        ],
        [
         "46",
         "bwgtzsvu",
         "Villi in the small intestine"
        ],
        [
         "47",
         "by2m7vph",
         "A collection of papers, intended to promote an institution for the cure and prevention of infectious fevers in Newcastle and other populous towns. Together with the communications of the most eminent physicians relative to the safety and importance of annexing fever-wards to the Newcastle and other infirmaries / [John Clark]."
        ],
        [
         "48",
         "kzdmbx26",
         "A country village: people feast round a table while others walk home in drunken groups. Etching by P. Chedel after A. Watteau."
        ],
        [
         "49",
         "bmnv4zs4",
         "Antoine de Parcieux. Line engraving by A. de Saint Aubin, 1771, after C. N. Cochin."
        ]
       ],
       "shape": {
        "columns": 2,
        "rows": 98448
       }
      },
      "text/html": [
       "<div>\n",
       "<style scoped>\n",
       "    .dataframe tbody tr th:only-of-type {\n",
       "        vertical-align: middle;\n",
       "    }\n",
       "\n",
       "    .dataframe tbody tr th {\n",
       "        vertical-align: top;\n",
       "    }\n",
       "\n",
       "    .dataframe thead th {\n",
       "        text-align: right;\n",
       "    }\n",
       "</style>\n",
       "<table border=\"1\" class=\"dataframe\">\n",
       "  <thead>\n",
       "    <tr style=\"text-align: right;\">\n",
       "      <th></th>\n",
       "      <th>ids</th>\n",
       "      <th>titles</th>\n",
       "    </tr>\n",
       "  </thead>\n",
       "  <tbody>\n",
       "    <tr>\n",
       "      <th>0</th>\n",
       "      <td>nf7cjmsg</td>\n",
       "      <td>Hypertensive, vascular disease</td>\n",
       "    </tr>\n",
       "    <tr>\n",
       "      <th>1</th>\n",
       "      <td>ycj8m76a</td>\n",
       "      <td>Thomas Linacre. Photogravure after Q. Metsys.</td>\n",
       "    </tr>\n",
       "    <tr>\n",
       "      <th>2</th>\n",
       "      <td>uwjy4qtv</td>\n",
       "      <td>A man in a monk's habit is buried alive with a...</td>\n",
       "    </tr>\n",
       "    <tr>\n",
       "      <th>3</th>\n",
       "      <td>g8ed63dg</td>\n",
       "      <td>Goddess Isis feeding Horus, wall relief</td>\n",
       "    </tr>\n",
       "    <tr>\n",
       "      <th>4</th>\n",
       "      <td>tfm3zjpu</td>\n",
       "      <td>Gin Lane by William Hogarth.</td>\n",
       "    </tr>\n",
       "    <tr>\n",
       "      <th>...</th>\n",
       "      <td>...</td>\n",
       "      <td>...</td>\n",
       "    </tr>\n",
       "    <tr>\n",
       "      <th>128861</th>\n",
       "      <td>u2cscemq</td>\n",
       "      <td>LASS : Leicestershire AIDS Support Services.</td>\n",
       "    </tr>\n",
       "    <tr>\n",
       "      <th>128863</th>\n",
       "      <td>w5unt6ak</td>\n",
       "      <td>How to help and care when a friend has AIDS / ...</td>\n",
       "    </tr>\n",
       "    <tr>\n",
       "      <th>128870</th>\n",
       "      <td>n8ppt3cf</td>\n",
       "      <td>Sheffield Centre for HIV and Sexual Health : 2...</td>\n",
       "    </tr>\n",
       "    <tr>\n",
       "      <th>128882</th>\n",
       "      <td>fzfs54aq</td>\n",
       "      <td>A large red ribbon decorated with hearts in th...</td>\n",
       "    </tr>\n",
       "    <tr>\n",
       "      <th>128883</th>\n",
       "      <td>f7xbyna4</td>\n",
       "      <td>Wellington and Peel in the roles of the body-s...</td>\n",
       "    </tr>\n",
       "  </tbody>\n",
       "</table>\n",
       "<p>98448 rows × 2 columns</p>\n",
       "</div>"
      ],
      "text/plain": [
       "             ids                                             titles\n",
       "0       nf7cjmsg                     Hypertensive, vascular disease\n",
       "1       ycj8m76a      Thomas Linacre. Photogravure after Q. Metsys.\n",
       "2       uwjy4qtv  A man in a monk's habit is buried alive with a...\n",
       "3       g8ed63dg            Goddess Isis feeding Horus, wall relief\n",
       "4       tfm3zjpu                       Gin Lane by William Hogarth.\n",
       "...          ...                                                ...\n",
       "128861  u2cscemq       LASS : Leicestershire AIDS Support Services.\n",
       "128863  w5unt6ak  How to help and care when a friend has AIDS / ...\n",
       "128870  n8ppt3cf  Sheffield Centre for HIV and Sexual Health : 2...\n",
       "128882  fzfs54aq  A large red ribbon decorated with hearts in th...\n",
       "128883  f7xbyna4  Wellington and Peel in the roles of the body-s...\n",
       "\n",
       "[98448 rows x 2 columns]"
      ]
     },
     "execution_count": 28,
     "metadata": {},
     "output_type": "execute_result"
    }
   ],
   "source": [
    "# Removing duplicates\n",
    "images_id_title = images_id_title.drop_duplicates(subset=[\"ids\"])\n",
    "images_id_title"
   ]
  },
  {
   "cell_type": "code",
   "execution_count": 30,
   "id": "376fcd96",
   "metadata": {},
   "outputs": [
    {
     "name": "stderr",
     "output_type": "stream",
     "text": [
      "Fetching images:  18%|█▊        | 17542/98448 [01:27<06:50, 196.89it/s]"
     ]
    },
    {
     "name": "stdout",
     "output_type": "stream",
     "text": [
      "Error fetching image c5mtsy8s: HTTPSConnectionPool(host='api.wellcomecollection.org', port=443): Read timed out. (read timeout=10)\n"
     ]
    },
    {
     "name": "stderr",
     "output_type": "stream",
     "text": [
      "Fetching images:  79%|███████▉  | 77856/98448 [06:45<04:30, 76.07it/s] "
     ]
    },
    {
     "name": "stdout",
     "output_type": "stream",
     "text": [
      "Error fetching image u8pszxv3: HTTPSConnectionPool(host='api.wellcomecollection.org', port=443): Read timed out. (read timeout=10)\n"
     ]
    },
    {
     "name": "stderr",
     "output_type": "stream",
     "text": [
      "Fetching images:  97%|█████████▋| 95041/98448 [08:22<00:15, 221.53it/s]"
     ]
    },
    {
     "name": "stdout",
     "output_type": "stream",
     "text": [
      "Error fetching image rqshezhn: 410 Client Error: Gone for url: https://api.wellcomecollection.org/catalogue/v2/works/rqshezhn\n"
     ]
    },
    {
     "name": "stderr",
     "output_type": "stream",
     "text": [
      "Fetching images: 100%|██████████| 98448/98448 [08:38<00:00, 189.75it/s]\n"
     ]
    }
   ],
   "source": [
    "# Runs for approx 10 minutes \n",
    "from concurrent.futures import ThreadPoolExecutor, as_completed\n",
    "from tqdm import tqdm\n",
    "\n",
    "def fetch_and_process(img_id):\n",
    "    try:\n",
    "        work = fetch_specific_work(img_id)\n",
    "        description = work.get('description', None)\n",
    "    except Exception as e:\n",
    "        print(f\"Error fetching image {img_id}: {e}\")\n",
    "        return None, None, img_id\n",
    "    return work, description, img_id\n",
    "\n",
    "corresponding_works = []\n",
    "image_descrs = []\n",
    "\n",
    "with ThreadPoolExecutor(max_workers=20) as executor:\n",
    "    futures = {executor.submit(fetch_and_process, img_id): img_id for img_id in images_id_title.ids}\n",
    "    \n",
    "    for future in tqdm(as_completed(futures), total=len(futures), desc=\"Fetching images\"):\n",
    "        work, description, id = future.result()\n",
    "        if work:\n",
    "            corresponding_works.append({\"id\": id, \"total_work\": work})\n",
    "            image_descrs.append({\"id\": id, \"descr\": description})\n"
   ]
  },
  {
   "cell_type": "code",
   "execution_count": 31,
   "id": "ac56ff72",
   "metadata": {},
   "outputs": [
    {
     "data": {
      "text/plain": [
       "(98445, 98445)"
      ]
     },
     "execution_count": 31,
     "metadata": {},
     "output_type": "execute_result"
    }
   ],
   "source": [
    "failed_images_ids = [\"c5mtsy8s\", \"u8pszxv3\", \"rqshezhn\"] \n",
    "# remove line where failed\n",
    "images_id_title = images_id_title[~images_id_title.ids.isin(failed_images_ids)]\n",
    "images_id_title.shape[0], len(image_descrs)"
   ]
  },
  {
   "cell_type": "code",
   "execution_count": 34,
   "id": "f240a402",
   "metadata": {},
   "outputs": [
    {
     "data": {
      "application/vnd.microsoft.datawrangler.viewer.v0+json": {
       "columns": [
        {
         "name": "index",
         "rawType": "int64",
         "type": "integer"
        },
        {
         "name": "id",
         "rawType": "object",
         "type": "string"
        },
        {
         "name": "descr",
         "rawType": "object",
         "type": "unknown"
        }
       ],
       "conversionMethod": "pd.DataFrame",
       "ref": "e8dc0839-1665-47e5-95ef-b3789fc25178",
       "rows": [
        [
         "0",
         "m58nmkc3",
         "<p>A tree with exposed roots, a native contemplating them. In the distance a small shrine</p>"
        ],
        [
         "1",
         "bz48rjxm",
         "<p>Whole-length, standing, holding staff. A half-length by Richard Cooper is also in the Wellcome Institute Library</p>"
        ],
        [
         "2",
         "ncczkpq7",
         null
        ],
        [
         "3",
         "ycj8m76a",
         null
        ],
        [
         "4",
         "vszzcjgp",
         "Apparatus formerly used by Luigi Galvani - small plate electrostatic machine, plate broken"
        ],
        [
         "5",
         "sshptwsg",
         null
        ],
        [
         "6",
         "g8ed63dg",
         "Goddess Isis feeding Horus, here depicted as a child wearing the side-lock of youth. Isis was regarded as the symbolic mother of the pharaoh. In mythology, she sought her dead husband and brother, Osiris, and conceived her son, Horus, by him. She protected her son from snakes, predators and other dangers and was also believed to protect mortal children. Ancient Egyptian mothers breast-fed their babies, probably into the subsequent pregnancy. Wealthy women employed wet nurses. Prescriptions for galactogogues (substances which increase the flow of milk) may be found in the Ebers papyrus (Eb 836, 837) which is dated c 1555 BCE.\nThis wall relief is from the temple at Edfu in Southern Upper Egypt which is the most completely preserved in Egypt. It dates from the Ptolemaic period (332-180 BCE) although the western side has an inner and outer enclosure which was built during the Old Kingdom (2613-2181 BCE).\nPhotograph taken in 1989."
        ],
        [
         "7",
         "uwjy4qtv",
         null
        ],
        [
         "8",
         "ngpznm43",
         null
        ],
        [
         "9",
         "nf7cjmsg",
         "Scan - axial, brain"
        ],
        [
         "10",
         "hjtn5aqb",
         "These images show staff and patients at various Tuberculosis sanatoria and public health communication events. \n\nThe sanatoria and events are situated at various locations around the West Midlands.\n\nYardley, Romsley and Salterley are mentioned in one image. \n\nSanatoria were the hospitals of their day, establishments for the medical treatment of people who were convalescing or had a chronic illness."
        ],
        [
         "11",
         "u9qxpu22",
         null
        ],
        [
         "12",
         "zucnm2qa",
         "Shows long shiny leaves on red veined green stems.\nHas red tubular flowers."
        ],
        [
         "13",
         "d3nead3v",
         null
        ],
        [
         "14",
         "dbhgm3q5",
         null
        ],
        [
         "15",
         "gsvd6xpr",
         null
        ],
        [
         "16",
         "tfm3zjpu",
         "Gin Lane. Anonimous after William Hogarth, 1751."
        ],
        [
         "17",
         "haqz47e3",
         "Photograph of Kappelbrugg, Luzern in Switzerland"
        ],
        [
         "18",
         "gw75ap3s",
         null
        ],
        [
         "19",
         "t5fdt7uk",
         "Paper test strip reaction to sample of dog urine.\nTest strip supply container har test colour code\non outside."
        ],
        [
         "20",
         "wxu8e7gb",
         null
        ],
        [
         "21",
         "rukh7bsw",
         "The experiment which led to the \"brown dog\" vivisection dispute, showing, in the lecture theatre, department of physiology, University Colleg,e London, behind the table left to right: anon., H.H. Dale, E.H. Starling, and W.M. Bayliss, anon."
        ],
        [
         "22",
         "ja3ud6da",
         null
        ],
        [
         "23",
         "durazu22",
         null
        ],
        [
         "24",
         "tzp3p9yj",
         null
        ],
        [
         "25",
         "yawmn692",
         null
        ],
        [
         "26",
         "cm4sgveu",
         "Tubercolosis and its Treatment."
        ],
        [
         "27",
         "cpg78pwp",
         null
        ],
        [
         "28",
         "ghjjvqzp",
         "Hsiao-ching p'ang-hsun {titlepage}.\nRunning commentary on the Hsiao-ching, the Classic\nof Filial Piety. It includes the preface by imperial command from the K'ai-yuan era {713-741}.\nThe present edition was published in 1881 as \"Mr. Sun's textbook\"."
        ],
        [
         "29",
         "wf4auzyf",
         null
        ],
        [
         "30",
         "nrppzpxc",
         null
        ],
        [
         "31",
         "s5r77dy7",
         null
        ],
        [
         "32",
         "wnkbznwq",
         "<p>Visited by Captain Cook in October 1773 and June 1774</p>"
        ],
        [
         "33",
         "n2bvttqq",
         null
        ],
        [
         "34",
         "xved9qtz",
         null
        ],
        [
         "35",
         "uj4yqnjk",
         "<p>Other predictions include a dirigible lettered: \"London to Paris in 2 hours no sea sickness\" and a man riding an electric bicycle, while he reads \"The electrical times\"</p>\n<p>The Electricity Lighting Bill was before Parliament in 1881. It was given Royal Assent in 1882, and Thomas Edison built the first power station in 1883 at Holborn Viaduct</p>"
        ],
        [
         "36",
         "nkddg2tt",
         null
        ],
        [
         "37",
         "pgznqxr5",
         "Internal architecture of the trachea and lungs, 3D printed in Frosted Ultra Detail plastic. \n\n\nThis image shows the internal structure of the lungs. The trachea (windpipe) divides into two branches called bronchi, which each divide further to produce smaller branches called bronchioles. After a number of further subdivisions, the bronchioles terminate into alveoli, which are the air sacs of the lungs where gas exchange occurs.\n\n\nAn extension of a previous project, the lungs belong to Caroline who was diagnosed with Hodgkin lymphoma cancer. The 2D data contained in her CT scans were converted into 3D renders by the artist who was then able to export them to a printable format. \n\n\nThe size of the original artwork is 15cm (h) x 10cm (d) x 15.6cm (w).\n\nWellcome Trust photography by Ben Gilbert."
        ],
        [
         "38",
         "a9w6nt3n",
         null
        ],
        [
         "39",
         "h8aja9h3",
         "Letter from David Livingstone from a collection of his letters dating from 1841 to 1865"
        ],
        [
         "40",
         "pfk9wqye",
         "In the late 19th century it was a widely held belief that masturbation caused insanity and devices such as this were designed to prevent the wearer from touching or stimulating himself. They were often used in mental institutions and sometimes in the home."
        ],
        [
         "41",
         "htjbtrnb",
         null
        ],
        [
         "42",
         "vgav27td",
         "Royal Veterinary College."
        ],
        [
         "43",
         "katmz6ag",
         null
        ],
        [
         "44",
         "x33js8kg",
         null
        ],
        [
         "45",
         "kchve5p2",
         "Dental plaque - tooth surface showing accretions around bacteria."
        ],
        [
         "46",
         "by2m7vph",
         null
        ],
        [
         "47",
         "kzdmbx26",
         null
        ],
        [
         "48",
         "bwgtzsvu",
         "3D reconstruction of fluorescently stained mouse small intestinal villi. The green stain shows actin in the micrivilli that cover the surface of each villus. Cell nuclei are labelled blue."
        ],
        [
         "49",
         "bmnv4zs4",
         null
        ]
       ],
       "shape": {
        "columns": 2,
        "rows": 98445
       }
      },
      "text/html": [
       "<div>\n",
       "<style scoped>\n",
       "    .dataframe tbody tr th:only-of-type {\n",
       "        vertical-align: middle;\n",
       "    }\n",
       "\n",
       "    .dataframe tbody tr th {\n",
       "        vertical-align: top;\n",
       "    }\n",
       "\n",
       "    .dataframe thead th {\n",
       "        text-align: right;\n",
       "    }\n",
       "</style>\n",
       "<table border=\"1\" class=\"dataframe\">\n",
       "  <thead>\n",
       "    <tr style=\"text-align: right;\">\n",
       "      <th></th>\n",
       "      <th>id</th>\n",
       "      <th>descr</th>\n",
       "    </tr>\n",
       "  </thead>\n",
       "  <tbody>\n",
       "    <tr>\n",
       "      <th>0</th>\n",
       "      <td>m58nmkc3</td>\n",
       "      <td>&lt;p&gt;A tree with exposed roots, a native contemp...</td>\n",
       "    </tr>\n",
       "    <tr>\n",
       "      <th>1</th>\n",
       "      <td>bz48rjxm</td>\n",
       "      <td>&lt;p&gt;Whole-length, standing, holding staff. A ha...</td>\n",
       "    </tr>\n",
       "    <tr>\n",
       "      <th>2</th>\n",
       "      <td>ncczkpq7</td>\n",
       "      <td>None</td>\n",
       "    </tr>\n",
       "    <tr>\n",
       "      <th>3</th>\n",
       "      <td>ycj8m76a</td>\n",
       "      <td>None</td>\n",
       "    </tr>\n",
       "    <tr>\n",
       "      <th>4</th>\n",
       "      <td>vszzcjgp</td>\n",
       "      <td>Apparatus formerly used by Luigi Galvani - sma...</td>\n",
       "    </tr>\n",
       "    <tr>\n",
       "      <th>...</th>\n",
       "      <td>...</td>\n",
       "      <td>...</td>\n",
       "    </tr>\n",
       "    <tr>\n",
       "      <th>98440</th>\n",
       "      <td>w5unt6ak</td>\n",
       "      <td>&lt;p&gt;Leaflet giving information about supporting...</td>\n",
       "    </tr>\n",
       "    <tr>\n",
       "      <th>98441</th>\n",
       "      <td>n8ppt3cf</td>\n",
       "      <td>&lt;p&gt;Letterhead (1992) for Sheffield Centre for ...</td>\n",
       "    </tr>\n",
       "    <tr>\n",
       "      <th>98442</th>\n",
       "      <td>fneppy6s</td>\n",
       "      <td>&lt;p&gt;One of a series of leaflets giving informat...</td>\n",
       "    </tr>\n",
       "    <tr>\n",
       "      <th>98443</th>\n",
       "      <td>f7xbyna4</td>\n",
       "      <td>None</td>\n",
       "    </tr>\n",
       "    <tr>\n",
       "      <th>98444</th>\n",
       "      <td>fzfs54aq</td>\n",
       "      <td>&lt;p&gt;Images include from top left: a bunch of bl...</td>\n",
       "    </tr>\n",
       "  </tbody>\n",
       "</table>\n",
       "<p>98445 rows × 2 columns</p>\n",
       "</div>"
      ],
      "text/plain": [
       "             id                                              descr\n",
       "0      m58nmkc3  <p>A tree with exposed roots, a native contemp...\n",
       "1      bz48rjxm  <p>Whole-length, standing, holding staff. A ha...\n",
       "2      ncczkpq7                                               None\n",
       "3      ycj8m76a                                               None\n",
       "4      vszzcjgp  Apparatus formerly used by Luigi Galvani - sma...\n",
       "...         ...                                                ...\n",
       "98440  w5unt6ak  <p>Leaflet giving information about supporting...\n",
       "98441  n8ppt3cf  <p>Letterhead (1992) for Sheffield Centre for ...\n",
       "98442  fneppy6s  <p>One of a series of leaflets giving informat...\n",
       "98443  f7xbyna4                                               None\n",
       "98444  fzfs54aq  <p>Images include from top left: a bunch of bl...\n",
       "\n",
       "[98445 rows x 2 columns]"
      ]
     },
     "execution_count": 34,
     "metadata": {},
     "output_type": "execute_result"
    }
   ],
   "source": [
    "image_descrs = pd.DataFrame(image_descrs)\n",
    "image_descrs"
   ]
  },
  {
   "cell_type": "code",
   "execution_count": null,
   "id": "8c20e8fa",
   "metadata": {},
   "outputs": [],
   "source": [
    "# merge on ids\n",
    "textual_data = pd.merge(\n",
    "    images_id_title,\n",
    "    image_descrs,\n",
    "    left_on=\"ids\",\n",
    "    right_on=\"id\",\n",
    "    how=\"left\"\n",
    ")\n",
    "textual_data = textual_data.drop(columns=[\"id\"])\n",
    "textual_data = textual_data.rename(columns={\"descr\": \"work_descriptions\"})"
   ]
  },
  {
   "cell_type": "code",
   "execution_count": 42,
   "id": "02f17ea4",
   "metadata": {},
   "outputs": [
    {
     "data": {
      "application/vnd.microsoft.datawrangler.viewer.v0+json": {
       "columns": [
        {
         "name": "index",
         "rawType": "int64",
         "type": "integer"
        },
        {
         "name": "ids",
         "rawType": "object",
         "type": "string"
        },
        {
         "name": "titles",
         "rawType": "object",
         "type": "string"
        },
        {
         "name": "work_descriptions",
         "rawType": "object",
         "type": "unknown"
        }
       ],
       "conversionMethod": "pd.DataFrame",
       "ref": "aa5f34ec-5803-49bf-a35b-e0bd66ed7fbb",
       "rows": [
        [
         "0",
         "nf7cjmsg",
         "Hypertensive, vascular disease",
         "Scan - axial, brain"
        ],
        [
         "1",
         "ycj8m76a",
         "Thomas Linacre. Photogravure after Q. Metsys.",
         null
        ],
        [
         "2",
         "uwjy4qtv",
         "A man in a monk's habit is buried alive with a Jesuit priest and spectators bearing halberds looking on. Etching.",
         null
        ],
        [
         "3",
         "g8ed63dg",
         "Goddess Isis feeding Horus, wall relief",
         "Goddess Isis feeding Horus, here depicted as a child wearing the side-lock of youth. Isis was regarded as the symbolic mother of the pharaoh. In mythology, she sought her dead husband and brother, Osiris, and conceived her son, Horus, by him. She protected her son from snakes, predators and other dangers and was also believed to protect mortal children. Ancient Egyptian mothers breast-fed their babies, probably into the subsequent pregnancy. Wealthy women employed wet nurses. Prescriptions for galactogogues (substances which increase the flow of milk) may be found in the Ebers papyrus (Eb 836, 837) which is dated c 1555 BCE.\nThis wall relief is from the temple at Edfu in Southern Upper Egypt which is the most completely preserved in Egypt. It dates from the Ptolemaic period (332-180 BCE) although the western side has an inner and outer enclosure which was built during the Old Kingdom (2613-2181 BCE).\nPhotograph taken in 1989."
        ],
        [
         "4",
         "tfm3zjpu",
         "Gin Lane by William Hogarth.",
         "Gin Lane. Anonimous after William Hogarth, 1751."
        ],
        [
         "5",
         "gsvd6xpr",
         "The funeral of the Duke of Wellington in St. Paul's Cathedral in 1852. Wood engraving by J.L. Williams, 1852.",
         null
        ],
        [
         "6",
         "gw75ap3s",
         "Equipment for the game of real tennis. Engraving by Benard after Lucotte.",
         null
        ],
        [
         "7",
         "hjtn5aqb",
         "West Midlands Tuberculosis sanatoria and public information",
         "These images show staff and patients at various Tuberculosis sanatoria and public health communication events. \n\nThe sanatoria and events are situated at various locations around the West Midlands.\n\nYardley, Romsley and Salterley are mentioned in one image. \n\nSanatoria were the hospitals of their day, establishments for the medical treatment of people who were convalescing or had a chronic illness."
        ],
        [
         "8",
         "ncczkpq7",
         "Page from an Arabic Text",
         null
        ],
        [
         "9",
         "vszzcjgp",
         "Apparatus used by Galvani - small plate electrostatic machine",
         "Apparatus formerly used by Luigi Galvani - small plate electrostatic machine, plate broken"
        ],
        [
         "10",
         "t5fdt7uk",
         "Testing diabetic dog urine sample.",
         "Paper test strip reaction to sample of dog urine.\nTest strip supply container har test colour code\non outside."
        ],
        [
         "11",
         "ngpznm43",
         "Nouveau manuel complet de l'observateur au microscope / [Félix Dujardin].",
         null
        ],
        [
         "12",
         "m58nmkc3",
         "Formosa [Taiwan]. Photograph, 1981, after a negative by John Thomson, 1871.",
         "<p>A tree with exposed roots, a native contemplating them. In the distance a small shrine</p>"
        ],
        [
         "13",
         "u9qxpu22",
         "Astronomy: various apocalyptic scenes, including Napoleon III, a funeral, a flood, and a battle in Africa. Coloured lithograph, [c.1857?].",
         null
        ],
        [
         "14",
         "haqz47e3",
         "Charles Brodie Sewell's Travel Journal",
         "Photograph of Kappelbrugg, Luzern in Switzerland"
        ],
        [
         "15",
         "d3nead3v",
         "Sir Robert John Kane. Stipple engraving by S. Freeman after G. F. Mulvany.",
         null
        ],
        [
         "16",
         "bz48rjxm",
         "Matthew Hopkins, Witchfinder general. Etching.",
         "<p>Whole-length, standing, holding staff. A half-length by Richard Cooper is also in the Wellcome Institute Library</p>"
        ],
        [
         "17",
         "dbhgm3q5",
         "Shanghai: three Chinese women prisoners locked at the neck into one cangue (portable pillory). Photograph, 18--.",
         null
        ],
        [
         "18",
         "zucnm2qa",
         "Quassia Amara",
         "Shows long shiny leaves on red veined green stems.\nHas red tubular flowers."
        ],
        [
         "19",
         "sshptwsg",
         "Old Boots, an eccentric shoe shiner. Engraving by R. Cooper, 1821.",
         null
        ],
        [
         "20",
         "s5r77dy7",
         "The coast of a land mass with sea viewed from above; advertising an international exhibition of AIDS posters. Colour lithograph by Intégral Ruedi Baur et Associés.",
         null
        ],
        [
         "21",
         "rukh7bsw",
         "An experiment; led to the \"brown dog\" vivisection dispute.",
         "The experiment which led to the \"brown dog\" vivisection dispute, showing, in the lecture theatre, department of physiology, University Colleg,e London, behind the table left to right: anon., H.H. Dale, E.H. Starling, and W.M. Bayliss, anon."
        ],
        [
         "22",
         "n2bvttqq",
         "An artificially manufactured version of a goa stone found inside the stomachs of an animal (bezoar stones) and its case. Made in India from a paste of clay, crushed shell, amber, musk and resin and used for numerous complaints such as poisons",
         null
        ],
        [
         "23",
         "nkddg2tt",
         "A woman roller-skating has springs attached to her front and back for protection as all others are falling over on the ice. Wood engraving, 18--.",
         null
        ],
        [
         "24",
         "wnkbznwq",
         "A burial place on Tongatapu, Tonga. Engraving by W. Byrne, 1777, after W. Hodges, 1773 or 1774.",
         "<p>Visited by Captain Cook in October 1773 and June 1774</p>"
        ],
        [
         "25",
         "nrppzpxc",
         "A woman coughing or sneezing without a handkerchief in a draper's shop. Lithograph after H.M. Bateman.",
         null
        ],
        [
         "26",
         "tzp3p9yj",
         "Two women stroke the face of a man bearing the words 'Play boy' on his t-shirt with 2 other couples sitting on benches looking on from either side; an AIDS prevention advertisement by the International Planned Parenthood Federation and Planned Parenthood Association of Sierra Leone. Colour lithograph, ca. 1996.",
         null
        ],
        [
         "27",
         "h8aja9h3",
         "Letter from David Livingstone 1841 to 1865",
         "Letter from David Livingstone from a collection of his letters dating from 1841 to 1865"
        ],
        [
         "28",
         "xved9qtz",
         "Cranio-facial injury: a French soldier with injuries to the mouth and chin, wearing a metal brace inside his mouth: before plastic surgery. Photograph, 1916.",
         null
        ],
        [
         "29",
         "uj4yqnjk",
         "A large vehicle (Phoebus's cart), on which is an electrical generator, being pulled along by winged horses with light bulbs on their heads: electricity sweeps all before it. Wood engraving by Swain, 1881, after J. Tenniel.",
         "<p>Other predictions include a dirigible lettered: \"London to Paris in 2 hours no sea sickness\" and a man riding an electric bicycle, while he reads \"The electrical times\"</p>\n<p>The Electricity Lighting Bill was before Parliament in 1881. It was given Royal Assent in 1882, and Thomas Edison built the first power station in 1883 at Holborn Viaduct</p>"
        ],
        [
         "30",
         "durazu22",
         "Two fans, one coloured green and open bearing photographs of children and couples, the other purple and closed bearing a photograph of a naked woman crouching by an open window, a fist and a used condom; an advertisement for volunteers working on the AIDS cause by Actua Mollet. Colour lithograph by Isabel Real Gayo and ICS &ICS Publicitat-Mollet, 1995.",
         null
        ],
        [
         "31",
         "ja3ud6da",
         "William Henry Howell. Photograph.",
         null
        ],
        [
         "32",
         "wf4auzyf",
         "The Stern Apotheke, Nuremberg.",
         null
        ],
        [
         "33",
         "wxu8e7gb",
         "Two types of buttercup (Ranunculus species): entire flowering plants. Coloured etching by C. Pierre, c. 1865, after P. Naudin.",
         null
        ],
        [
         "34",
         "a9w6nt3n",
         "Florence Nightingale. Coloured lithograph by R. J. Lane, 1854.",
         null
        ],
        [
         "35",
         "ghjjvqzp",
         "Chinese manuscript Hsiao-ching p'ang-hsun.",
         "Hsiao-ching p'ang-hsun {titlepage}.\nRunning commentary on the Hsiao-ching, the Classic\nof Filial Piety. It includes the preface by imperial command from the K'ai-yuan era {713-741}.\nThe present edition was published in 1881 as \"Mr. Sun's textbook\"."
        ],
        [
         "36",
         "cm4sgveu",
         "Evolution of Measures for the Nation's Health.",
         "Tubercolosis and its Treatment."
        ],
        [
         "37",
         "cpg78pwp",
         "Dissection of the groin and lower abdomen of a man, with the muscles and blood vessels indicated. Colour lithograph by G.H. Ford, 1865.",
         null
        ],
        [
         "38",
         "pgznqxr5",
         "Internal structure of the lungs, 3D printed plastic",
         "Internal architecture of the trachea and lungs, 3D printed in Frosted Ultra Detail plastic. \n\n\nThis image shows the internal structure of the lungs. The trachea (windpipe) divides into two branches called bronchi, which each divide further to produce smaller branches called bronchioles. After a number of further subdivisions, the bronchioles terminate into alveoli, which are the air sacs of the lungs where gas exchange occurs.\n\n\nAn extension of a previous project, the lungs belong to Caroline who was diagnosed with Hodgkin lymphoma cancer. The 2D data contained in her CT scans were converted into 3D renders by the artist who was then able to export them to a printable format. \n\n\nThe size of the original artwork is 15cm (h) x 10cm (d) x 15.6cm (w).\n\nWellcome Trust photography by Ben Gilbert."
        ],
        [
         "39",
         "yawmn692",
         "Cover and title label of 'Cerebri anatome..'",
         null
        ],
        [
         "40",
         "htjbtrnb",
         "Premature baby in an incubator.",
         null
        ],
        [
         "41",
         "vgav27td",
         "A horse's foot being held up inadequately.",
         "Royal Veterinary College."
        ],
        [
         "42",
         "katmz6ag",
         "A besotted physician asks his young patient to cure him of his heartache. Coloured lithograph after C. Philipon, c. 1830.",
         null
        ],
        [
         "43",
         "kchve5p2",
         "Tooth surface, accretions around bacteria",
         "Dental plaque - tooth surface showing accretions around bacteria."
        ],
        [
         "44",
         "pfk9wqye",
         "Male anti-masturbation devices",
         "In the late 19th century it was a widely held belief that masturbation caused insanity and devices such as this were designed to prevent the wearer from touching or stimulating himself. They were often used in mental institutions and sometimes in the home."
        ],
        [
         "45",
         "x33js8kg",
         "\"The druids; or the conversion of the Britons to Christianity\". Etching by A. Walker, 1758, after F. Hayman.",
         null
        ],
        [
         "46",
         "bwgtzsvu",
         "Villi in the small intestine",
         "3D reconstruction of fluorescently stained mouse small intestinal villi. The green stain shows actin in the micrivilli that cover the surface of each villus. Cell nuclei are labelled blue."
        ],
        [
         "47",
         "by2m7vph",
         "A collection of papers, intended to promote an institution for the cure and prevention of infectious fevers in Newcastle and other populous towns. Together with the communications of the most eminent physicians relative to the safety and importance of annexing fever-wards to the Newcastle and other infirmaries / [John Clark].",
         null
        ],
        [
         "48",
         "kzdmbx26",
         "A country village: people feast round a table while others walk home in drunken groups. Etching by P. Chedel after A. Watteau.",
         null
        ],
        [
         "49",
         "bmnv4zs4",
         "Antoine de Parcieux. Line engraving by A. de Saint Aubin, 1771, after C. N. Cochin.",
         null
        ]
       ],
       "shape": {
        "columns": 3,
        "rows": 98445
       }
      },
      "text/html": [
       "<div>\n",
       "<style scoped>\n",
       "    .dataframe tbody tr th:only-of-type {\n",
       "        vertical-align: middle;\n",
       "    }\n",
       "\n",
       "    .dataframe tbody tr th {\n",
       "        vertical-align: top;\n",
       "    }\n",
       "\n",
       "    .dataframe thead th {\n",
       "        text-align: right;\n",
       "    }\n",
       "</style>\n",
       "<table border=\"1\" class=\"dataframe\">\n",
       "  <thead>\n",
       "    <tr style=\"text-align: right;\">\n",
       "      <th></th>\n",
       "      <th>ids</th>\n",
       "      <th>titles</th>\n",
       "      <th>work_descriptions</th>\n",
       "    </tr>\n",
       "  </thead>\n",
       "  <tbody>\n",
       "    <tr>\n",
       "      <th>0</th>\n",
       "      <td>nf7cjmsg</td>\n",
       "      <td>Hypertensive, vascular disease</td>\n",
       "      <td>Scan - axial, brain</td>\n",
       "    </tr>\n",
       "    <tr>\n",
       "      <th>1</th>\n",
       "      <td>ycj8m76a</td>\n",
       "      <td>Thomas Linacre. Photogravure after Q. Metsys.</td>\n",
       "      <td>None</td>\n",
       "    </tr>\n",
       "    <tr>\n",
       "      <th>2</th>\n",
       "      <td>uwjy4qtv</td>\n",
       "      <td>A man in a monk's habit is buried alive with a...</td>\n",
       "      <td>None</td>\n",
       "    </tr>\n",
       "    <tr>\n",
       "      <th>3</th>\n",
       "      <td>g8ed63dg</td>\n",
       "      <td>Goddess Isis feeding Horus, wall relief</td>\n",
       "      <td>Goddess Isis feeding Horus, here depicted as a...</td>\n",
       "    </tr>\n",
       "    <tr>\n",
       "      <th>4</th>\n",
       "      <td>tfm3zjpu</td>\n",
       "      <td>Gin Lane by William Hogarth.</td>\n",
       "      <td>Gin Lane. Anonimous after William Hogarth, 1751.</td>\n",
       "    </tr>\n",
       "    <tr>\n",
       "      <th>...</th>\n",
       "      <td>...</td>\n",
       "      <td>...</td>\n",
       "      <td>...</td>\n",
       "    </tr>\n",
       "    <tr>\n",
       "      <th>98440</th>\n",
       "      <td>u2cscemq</td>\n",
       "      <td>LASS : Leicestershire AIDS Support Services.</td>\n",
       "      <td>&lt;p&gt;Leaflet giving information about the work o...</td>\n",
       "    </tr>\n",
       "    <tr>\n",
       "      <th>98441</th>\n",
       "      <td>w5unt6ak</td>\n",
       "      <td>How to help and care when a friend has AIDS / ...</td>\n",
       "      <td>&lt;p&gt;Leaflet giving information about supporting...</td>\n",
       "    </tr>\n",
       "    <tr>\n",
       "      <th>98442</th>\n",
       "      <td>n8ppt3cf</td>\n",
       "      <td>Sheffield Centre for HIV and Sexual Health : 2...</td>\n",
       "      <td>&lt;p&gt;Letterhead (1992) for Sheffield Centre for ...</td>\n",
       "    </tr>\n",
       "    <tr>\n",
       "      <th>98443</th>\n",
       "      <td>fzfs54aq</td>\n",
       "      <td>A large red ribbon decorated with hearts in th...</td>\n",
       "      <td>&lt;p&gt;Images include from top left: a bunch of bl...</td>\n",
       "    </tr>\n",
       "    <tr>\n",
       "      <th>98444</th>\n",
       "      <td>f7xbyna4</td>\n",
       "      <td>Wellington and Peel in the roles of the body-s...</td>\n",
       "      <td>None</td>\n",
       "    </tr>\n",
       "  </tbody>\n",
       "</table>\n",
       "<p>98445 rows × 3 columns</p>\n",
       "</div>"
      ],
      "text/plain": [
       "            ids                                             titles  \\\n",
       "0      nf7cjmsg                     Hypertensive, vascular disease   \n",
       "1      ycj8m76a      Thomas Linacre. Photogravure after Q. Metsys.   \n",
       "2      uwjy4qtv  A man in a monk's habit is buried alive with a...   \n",
       "3      g8ed63dg            Goddess Isis feeding Horus, wall relief   \n",
       "4      tfm3zjpu                       Gin Lane by William Hogarth.   \n",
       "...         ...                                                ...   \n",
       "98440  u2cscemq       LASS : Leicestershire AIDS Support Services.   \n",
       "98441  w5unt6ak  How to help and care when a friend has AIDS / ...   \n",
       "98442  n8ppt3cf  Sheffield Centre for HIV and Sexual Health : 2...   \n",
       "98443  fzfs54aq  A large red ribbon decorated with hearts in th...   \n",
       "98444  f7xbyna4  Wellington and Peel in the roles of the body-s...   \n",
       "\n",
       "                                       work_descriptions  \n",
       "0                                    Scan - axial, brain  \n",
       "1                                                   None  \n",
       "2                                                   None  \n",
       "3      Goddess Isis feeding Horus, here depicted as a...  \n",
       "4       Gin Lane. Anonimous after William Hogarth, 1751.  \n",
       "...                                                  ...  \n",
       "98440  <p>Leaflet giving information about the work o...  \n",
       "98441  <p>Leaflet giving information about supporting...  \n",
       "98442  <p>Letterhead (1992) for Sheffield Centre for ...  \n",
       "98443  <p>Images include from top left: a bunch of bl...  \n",
       "98444                                               None  \n",
       "\n",
       "[98445 rows x 3 columns]"
      ]
     },
     "execution_count": 42,
     "metadata": {},
     "output_type": "execute_result"
    }
   ],
   "source": [
    "textual_data"
   ]
  },
  {
   "cell_type": "code",
   "execution_count": 43,
   "id": "219541c0",
   "metadata": {},
   "outputs": [
    {
     "name": "stdout",
     "output_type": "stream",
     "text": [
      "Only 57.8 % of the images have a corresponding work descriptions\n"
     ]
    }
   ],
   "source": [
    "print(f\"Only {textual_data.work_descriptions.isna().sum() / textual_data.shape[0] * 100:.1f} % of the images have a corresponding work descriptions\")"
   ]
  },
  {
   "cell_type": "code",
   "execution_count": 20,
   "id": "e32226eb",
   "metadata": {},
   "outputs": [
    {
     "name": "stdout",
     "output_type": "stream",
     "text": [
      "1. Horse restrained in horse-box for injection\n",
      "https://wellcomecollection.org/works/php3h72c\n",
      "\n",
      "2. Above, an arabian horse, a race horse, a draft horse and an ass; below, two zebras. Engraving.\n",
      "https://wellcomecollection.org/works/nqthe7vj\n",
      "\n",
      "3. Above, a carriage horse baulks and kicks the horse behind; centre, a baulking race horse; below, two race horses with jockeys. Chromolithograph.\n",
      "https://wellcomecollection.org/works/q4t4ue9p\n",
      "\n",
      "4. Arterial nodules, horse\n",
      "https://wellcomecollection.org/works/tfem429t\n",
      "\n",
      "5. Horse doctor giving medicine to a horse, German, 18th century\n",
      "https://wellcomecollection.org/works/mgjfzfcg\n",
      "\n",
      "6. Backing a horse correctly\n",
      "https://wellcomecollection.org/works/cny59bkp\n",
      "\n",
      "7. Navicular disease: horse's hoof\n",
      "https://wellcomecollection.org/works/fus5ckpk\n",
      "\n",
      "8. Examing horse's spinal reflexes\n",
      "https://wellcomecollection.org/works/kaejvuhx\n",
      "\n",
      "9. Examing horse's spinal reflexes\n",
      "https://wellcomecollection.org/works/v43z7na8\n",
      "\n",
      "10. Examining horse's foot balance\n",
      "https://wellcomecollection.org/works/dmgkscpz\n",
      "\n"
     ]
    }
   ],
   "source": [
    "BASE_URL = \"https://api.wellcomecollection.org/catalogue/v2/\"\n",
    "\n",
    "response = requests.get(BASE_URL + \"/images\", params={\"query\": \"horse\"}).json()\n",
    "for i, result in enumerate(response[\"results\"]):\n",
    "    print(f\"{i+1}. {result['source']['title']}\")\n",
    "    print(f\"https://wellcomecollection.org/works/{result['id']}\")\n",
    "    print()"
   ]
  },
  {
   "cell_type": "code",
   "execution_count": 19,
   "id": "283d4e3f",
   "metadata": {},
   "outputs": [
    {
     "name": "stdout",
     "output_type": "stream",
     "text": [
      "1. Horses and roads, or, How to keep a horse sound on his legs / by Free-lance.\n",
      "https://wellcomecollection.org/works/bba45wys\n",
      "\n",
      "2. Horsemen leading a large number of horses in a ring for sale at a horse fair. Coloured lithograph, 1871, by W. H. Simmons after R. Bonheur.\n",
      "https://wellcomecollection.org/works/jwnsubmq\n",
      "\n",
      "3. Horse foetuses: five figures showing the foetus of a horse during the gestation period, with dissections of its abdomen and stomach demonstrating the foetal circulation system. Engraving by T. Cowan after B. Herring, ca. 1860.\n",
      "https://wellcomecollection.org/works/c3xsp8nx\n",
      "\n",
      "4. Horse Measurement Data Analysis\n",
      "https://wellcomecollection.org/works/qhj4t4zy\n",
      "\n",
      "5. Horse-blister ointment / prepared by Richard Hine.\n",
      "https://wellcomecollection.org/works/bpsdauz5\n",
      "\n",
      "6. Horse Cough Powders : a table-spoonful to be given in a bran mash / Fredk. L. Gooch.\n",
      "https://wellcomecollection.org/works/ppe4pch9\n",
      "\n",
      "7. Horse care products : caring for horses since 1830 : high feed costs? Laminitis? Lack of condition? Nervousness? Behavioural problems? Cupiss' Constitution Powder could be the answer / Francis Cupiss Limited.\n",
      "https://wellcomecollection.org/works/m259vdyr\n",
      "\n",
      "8. Horse, side view. Etching with engraving, 1790/1830?.\n",
      "https://wellcomecollection.org/works/ns2pp2pv\n",
      "\n",
      "9. Horse and hound\n",
      "https://wellcomecollection.org/works/ukxnemgk\n",
      "\n",
      "10. Horse-racing : a cruel sport / by Ernest Bell.\n",
      "https://wellcomecollection.org/works/wnvzawzq\n",
      "\n"
     ]
    }
   ],
   "source": [
    "response = requests.get(BASE_URL + \"/works\", params={\"query\": \"horse\"}).json()\n",
    "for i, result in enumerate(response[\"results\"]):\n",
    "    print(f\"{i+1}. {result['title']}\")\n",
    "    print(f\"https://wellcomecollection.org/works/{result['id']}\")\n",
    "    print()"
   ]
  },
  {
   "cell_type": "code",
   "execution_count": 23,
   "id": "427fd1a0",
   "metadata": {},
   "outputs": [
    {
     "data": {
      "application/vnd.microsoft.datawrangler.viewer.v0+json": {
       "columns": [
        {
         "name": "index",
         "rawType": "int64",
         "type": "integer"
        },
        {
         "name": "ids",
         "rawType": "object",
         "type": "string"
        },
        {
         "name": "titles",
         "rawType": "object",
         "type": "string"
        },
        {
         "name": "work_descriptions",
         "rawType": "object",
         "type": "string"
        }
       ],
       "conversionMethod": "pd.DataFrame",
       "ref": "ec87cad8-f7f6-4f50-a783-4233e171984c",
       "rows": [
        [
         "20859",
         "v4t9q43f",
         "Horse restrained in horse-box for injection",
         "Vol 2 of 'Vues des Cordilleres et monumens des peuples indigenes de l'Amerique'."
        ]
       ],
       "shape": {
        "columns": 3,
        "rows": 1
       }
      },
      "text/html": [
       "<div>\n",
       "<style scoped>\n",
       "    .dataframe tbody tr th:only-of-type {\n",
       "        vertical-align: middle;\n",
       "    }\n",
       "\n",
       "    .dataframe tbody tr th {\n",
       "        vertical-align: top;\n",
       "    }\n",
       "\n",
       "    .dataframe thead th {\n",
       "        text-align: right;\n",
       "    }\n",
       "</style>\n",
       "<table border=\"1\" class=\"dataframe\">\n",
       "  <thead>\n",
       "    <tr style=\"text-align: right;\">\n",
       "      <th></th>\n",
       "      <th>ids</th>\n",
       "      <th>titles</th>\n",
       "      <th>work_descriptions</th>\n",
       "    </tr>\n",
       "  </thead>\n",
       "  <tbody>\n",
       "    <tr>\n",
       "      <th>20859</th>\n",
       "      <td>v4t9q43f</td>\n",
       "      <td>Horse restrained in horse-box for injection</td>\n",
       "      <td>Vol 2 of 'Vues des Cordilleres et monumens des...</td>\n",
       "    </tr>\n",
       "  </tbody>\n",
       "</table>\n",
       "</div>"
      ],
      "text/plain": [
       "            ids                                       titles  \\\n",
       "20859  v4t9q43f  Horse restrained in horse-box for injection   \n",
       "\n",
       "                                       work_descriptions  \n",
       "20859  Vol 2 of 'Vues des Cordilleres et monumens des...  "
      ]
     },
     "execution_count": 23,
     "metadata": {},
     "output_type": "execute_result"
    }
   ],
   "source": [
    "textual_data[textual_data.ids == \"v4t9q43f\"]"
   ]
  },
  {
   "cell_type": "code",
   "execution_count": 24,
   "id": "d45c3b9b",
   "metadata": {},
   "outputs": [
    {
     "data": {
      "text/plain": [
       "{'description': 'A horse restrained in a horse-box for an\\nintramuscular injection.\\nRoyal Veterinary College.',\n",
       " 'workType': {'id': 'q', 'label': 'Digital Images', 'type': 'Format'},\n",
       " 'thumbnail': {'url': 'https://iiif.wellcomecollection.org/image/A0000654/full/300,/0/default.jpg',\n",
       "  'license': {'id': 'cc-by-nc',\n",
       "   'label': 'Attribution-NonCommercial 4.0 International (CC BY-NC 4.0)',\n",
       "   'url': 'https://creativecommons.org/licenses/by-nc/4.0/',\n",
       "   'type': 'License'},\n",
       "  'accessConditions': [],\n",
       "  'locationType': {'id': 'thumbnail-image',\n",
       "   'label': 'Thumbnail image',\n",
       "   'type': 'LocationType'},\n",
       "  'type': 'DigitalLocation'},\n",
       " 'alternativeTitles': [],\n",
       " 'id': 'v4t9q43f',\n",
       " 'title': 'Horse restrained in horse-box for injection',\n",
       " 'type': 'Work',\n",
       " 'availabilities': [{'id': 'online',\n",
       "   'label': 'Online',\n",
       "   'type': 'Availability'}]}"
      ]
     },
     "execution_count": 24,
     "metadata": {},
     "output_type": "execute_result"
    }
   ],
   "source": [
    "fetch_specific_work(\"v4t9q43f\")"
   ]
  },
  {
   "cell_type": "markdown",
   "id": "1e08bd61",
   "metadata": {},
   "source": [
    "### Displaying images on query\n"
   ]
  },
  {
   "cell_type": "code",
   "execution_count": 70,
   "id": "379ce43c",
   "metadata": {},
   "outputs": [],
   "source": [
    "def get_full_res_url(iiif_url:str, resolution=\"full\") -> str:\n",
    "    \"\"\"IIIF urls are the following format: {base}/{region}/{resolution}/{rotation}/{quality}.{format}\n",
    "    example: \"https://iiif.wellcomecollection.org/image/V0021817/full/300,/0/default.jpg\"\n",
    "             Here resolution=\"300,\"\n",
    "    Args:\n",
    "        iiif_url (str): _description_\n",
    "        resolution (str, optional): _description_. Defaults to \"full\".\n",
    "\n",
    "    Returns:\n",
    "        str: modified url to get image at expected resolution\n",
    "    \"\"\"\n",
    "    if 'iiif' in iiif_url:\n",
    "        # split the string at the fifth '/' symbol (right before resolution)\n",
    "        parts = iiif_url.split('/', 5)\n",
    "        # Keeps the left part\n",
    "        left_part = \"/\".join(parts[:5]) \n",
    "        # Manually add the right part depending on expected resolution\n",
    "        full_res_url = f\"{left_part}/full/{resolution}/0/default.jpg\"\n",
    "    else:\n",
    "        raise Exception(\"Not a valid IIIF URL.\")\n",
    "    return full_res_url"
   ]
  },
  {
   "cell_type": "code",
   "execution_count": 72,
   "id": "ae7c0fdc",
   "metadata": {},
   "outputs": [
    {
     "data": {
      "text/plain": [
       "type"
      ]
     },
     "execution_count": 72,
     "metadata": {},
     "output_type": "execute_result"
    }
   ],
   "source": [
    "type(Image)"
   ]
  },
  {
   "cell_type": "code",
   "execution_count": 81,
   "id": "7eaf0f2c",
   "metadata": {},
   "outputs": [
    {
     "name": "stdout",
     "output_type": "stream",
     "text": [
      "Adult cow heart.\n"
     ]
    },
    {
     "data": {
      "text/html": [
       "<img src=\"https://iiif.wellcomecollection.org/image/A0001382/full/full/0/default.jpg\"/>"
      ],
      "text/plain": [
       "<IPython.core.display.Image object>"
      ]
     },
     "metadata": {},
     "output_type": "display_data"
    }
   ],
   "source": [
    "import requests\n",
    "from IPython.display import Image, display\n",
    "\n",
    "# Step 1: Query the API for digitized works related to \"horse\"\n",
    "search_url = \"https://api.wellcomecollection.org/catalogue/v2/images\"\n",
    "params = {\n",
    "    \"query\": \"cow\",\n",
    "    \"pageSize\": 1\n",
    "}\n",
    "response = requests.get(search_url, params=params)\n",
    "data = response.json()\n",
    "\n",
    "# Step 2: Loop through the works\n",
    "for work in data.get(\"results\", []):\n",
    "    title = work.get(\"source\").get(\"title\")\n",
    "    iiif_url = work.get(\"thumbnail\", {}).get(\"url\")\n",
    "    \n",
    "    if iiif_url:\n",
    "        print(title)\n",
    "        full_res_url = get_full_res_url(iiif_url)\n",
    "        display(Image(url=full_res_url))\n",
    "\n"
   ]
  },
  {
   "cell_type": "markdown",
   "id": "f0c3b2f6",
   "metadata": {},
   "source": [
    "## 2) Title and description embedding\n",
    "\n",
    "### A) Word embedding "
   ]
  },
  {
   "cell_type": "markdown",
   "id": "fcca617c",
   "metadata": {},
   "source": [
    "### B) Sentence embedding"
   ]
  },
  {
   "cell_type": "code",
   "execution_count": null,
   "id": "facd72e9",
   "metadata": {},
   "outputs": [],
   "source": [
    "from sentence_transformers import SentenceTransformer"
   ]
  },
  {
   "cell_type": "code",
   "execution_count": null,
   "id": "63e7cb47",
   "metadata": {},
   "outputs": [],
   "source": [
    "from sentence_transformers import SentenceTransformer\n",
    "sentences = [\"This is an example sentence\", \"Each sentence is converted\"]\n",
    "\n",
    "monolingual_model = SentenceTransformer('sentence-transformers/all-MiniLM-L6-v2')\n",
    "multilingual_model = SentenceTransformer('sentence-transformers/paraphrase-multilingual-MiniLM-L12-v2')\n",
    "\n",
    "monolingual_embeddings = monolingual_model.encode(textual_data.titles)\n",
    "multilingual_embeddings = multilingual_model.encode(textual_data.titles)\n",
    "\n",
    "print(monolingual_embeddings)\n",
    "print(multilingual_embeddings)\n"
   ]
  },
  {
   "cell_type": "markdown",
   "id": "df20b29e",
   "metadata": {},
   "source": [
    "### C) Word2Vec embedding"
   ]
  },
  {
   "cell_type": "markdown",
   "id": "6b16ecaf",
   "metadata": {},
   "source": []
  }
 ],
 "metadata": {
  "kernelspec": {
   "display_name": ".venv",
   "language": "python",
   "name": "python3"
  },
  "language_info": {
   "codemirror_mode": {
    "name": "ipython",
    "version": 3
   },
   "file_extension": ".py",
   "mimetype": "text/x-python",
   "name": "python",
   "nbconvert_exporter": "python",
   "pygments_lexer": "ipython3",
   "version": "3.13.2"
  }
 },
 "nbformat": 4,
 "nbformat_minor": 5
}
